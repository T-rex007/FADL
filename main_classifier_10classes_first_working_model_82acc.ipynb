{
 "cells": [
  {
   "cell_type": "code",
   "execution_count": 12,
   "metadata": {},
   "outputs": [],
   "source": [
    "import tensorflow as tf\n",
    "import matplotlib.pyplot as plt\n",
    "import numpy as np\n",
    "import os\n",
    "import pickle\n",
    "import cv2\n",
    "import pandas as pd\n",
    "from tensorflow.keras.datasets import cifar10\n",
    "from tqdm import tqdm\n",
    "import datetime as dt\n",
    "#from tensorflow.keras.preprocessing import image\n",
    "#from tensorflow.keras.applications.resnet50 import preprocess_input, decode_predictions"
   ]
  },
  {
   "cell_type": "code",
   "execution_count": 13,
   "metadata": {},
   "outputs": [
    {
     "data": {
      "text/plain": [
       "datetime.datetime(2020, 4, 11, 20, 4, 8, 585197)"
      ]
     },
     "execution_count": 13,
     "metadata": {},
     "output_type": "execute_result"
    }
   ],
   "source": [
    "dt.datetime.now()"
   ]
  },
  {
   "cell_type": "code",
   "execution_count": null,
   "metadata": {},
   "outputs": [],
   "source": []
  },
  {
   "cell_type": "code",
   "execution_count": 14,
   "metadata": {},
   "outputs": [
    {
     "name": "stdout",
     "output_type": "stream",
     "text": [
      "Num GPUs Available:  1\n",
      "[name: \"/device:CPU:0\"\n",
      "device_type: \"CPU\"\n",
      "memory_limit: 268435456\n",
      "locality {\n",
      "}\n",
      "incarnation: 15796482256017052529\n",
      ", name: \"/device:GPU:0\"\n",
      "device_type: \"GPU\"\n",
      "memory_limit: 4930941747\n",
      "locality {\n",
      "  bus_id: 1\n",
      "  links {\n",
      "  }\n",
      "}\n",
      "incarnation: 2120446097841673969\n",
      "physical_device_desc: \"device: 0, name: GeForce GTX 1060, pci bus id: 0000:01:00.0, compute capability: 6.1\"\n",
      "]\n"
     ]
    }
   ],
   "source": [
    "from tensorflow.python.client import device_lib\n",
    "import tensorflow as tf\n",
    "print(\"Num GPUs Available: \", len(tf.config.experimental.list_physical_devices('GPU')))\n",
    "\n",
    "print(device_lib.list_local_devices())"
   ]
  },
  {
   "cell_type": "code",
   "execution_count": 15,
   "metadata": {},
   "outputs": [],
   "source": [
    "def load_preprocess():\n",
    "    ### Load In Data\n",
    "    (trainX, trainY), (testX, testY) = cifar10.load_data()\n",
    "    trainY = tf.keras.utils.to_categorical(trainY)\n",
    "    testY = tf.keras.utils.to_categorical(testY)\n",
    "    return [trainX/255, trainY, testX/255, testY]\n"
   ]
  },
  {
   "cell_type": "code",
   "execution_count": 16,
   "metadata": {},
   "outputs": [],
   "source": [
    "trainX, trainY, testX, testY = load_preprocess()"
   ]
  },
  {
   "cell_type": "code",
   "execution_count": 40,
   "metadata": {},
   "outputs": [],
   "source": [
    "im_size =32\n",
    "batch_size = 500\n",
    "channels = 3\n",
    "num_classes = 10\n",
    "lr = 0.001 ### learning rate\n",
    "input_shape = ( im_size, im_size, channels)\n",
    "l1_lambda = 0 ### L1 regularization lambda parameter\n",
    "l2_lambda = 0.00001\n",
    "keep_prob = 0.5"
   ]
  },
  {
   "cell_type": "code",
   "execution_count": 41,
   "metadata": {},
   "outputs": [
    {
     "name": "stdout",
     "output_type": "stream",
     "text": [
      "Model: \"sequential_6\"\n",
      "_________________________________________________________________\n",
      "Layer (type)                 Output Shape              Param #   \n",
      "=================================================================\n",
      "conv2d_36 (Conv2D)           (None, 30, 30, 32)        896       \n",
      "_________________________________________________________________\n",
      "gaussian_noise_18 (GaussianN (None, 30, 30, 32)        0         \n",
      "_________________________________________________________________\n",
      "conv2d_37 (Conv2D)           (None, 28, 28, 32)        9248      \n",
      "_________________________________________________________________\n",
      "dropout_30 (Dropout)         (None, 28, 28, 32)        0         \n",
      "_________________________________________________________________\n",
      "conv2d_38 (Conv2D)           (None, 26, 26, 64)        18496     \n",
      "_________________________________________________________________\n",
      "gaussian_noise_19 (GaussianN (None, 26, 26, 64)        0         \n",
      "_________________________________________________________________\n",
      "conv2d_39 (Conv2D)           (None, 24, 24, 128)       73856     \n",
      "_________________________________________________________________\n",
      "max_pooling2d_10 (MaxPooling (None, 12, 12, 128)       0         \n",
      "_________________________________________________________________\n",
      "dropout_31 (Dropout)         (None, 12, 12, 128)       0         \n",
      "_________________________________________________________________\n",
      "conv2d_40 (Conv2D)           (None, 10, 10, 256)       295168    \n",
      "_________________________________________________________________\n",
      "gaussian_noise_20 (GaussianN (None, 10, 10, 256)       0         \n",
      "_________________________________________________________________\n",
      "conv2d_41 (Conv2D)           (None, 8, 8, 256)         590080    \n",
      "_________________________________________________________________\n",
      "max_pooling2d_11 (MaxPooling (None, 4, 4, 256)         0         \n",
      "_________________________________________________________________\n",
      "dropout_32 (Dropout)         (None, 4, 4, 256)         0         \n",
      "_________________________________________________________________\n",
      "flatten_6 (Flatten)          (None, 4096)              0         \n",
      "_________________________________________________________________\n",
      "dense_18 (Dense)             (None, 1024)              4195328   \n",
      "_________________________________________________________________\n",
      "dropout_33 (Dropout)         (None, 1024)              0         \n",
      "_________________________________________________________________\n",
      "dense_19 (Dense)             (None, 128)               131200    \n",
      "_________________________________________________________________\n",
      "dropout_34 (Dropout)         (None, 128)               0         \n",
      "_________________________________________________________________\n",
      "dense_20 (Dense)             (None, 10)                1290      \n",
      "=================================================================\n",
      "Total params: 5,315,562\n",
      "Trainable params: 5,315,562\n",
      "Non-trainable params: 0\n",
      "_________________________________________________________________\n"
     ]
    }
   ],
   "source": [
    "from tensorflow.keras.layers import BatchNormalization, Conv2D, GaussianNoise, MaxPooling2D, Flatten\n",
    "from tensorflow.keras.layers import Dropout, Dense, Input\n",
    "from tensorflow.keras.models import Sequential\n",
    "from tensorflow.keras.regularizers import l1\n",
    "\n",
    "from tensorflow.keras.layers import BatchNormalization, Conv2D, GaussianNoise, MaxPooling2D, Flatten\n",
    "from tensorflow.keras.layers import Dropout, Dense\n",
    "from tensorflow.keras.models import Sequential\n",
    "from tensorflow.keras.regularizers import l1\n",
    "\n",
    "### Creating model architecture\n",
    "he_init = tf.keras.initializers.VarianceScaling()\n",
    "model = Sequential()\n",
    "#model.add(BatchNormalization(input_shape=input_shape))\n",
    "model.add(Conv2D(32, (3, 3),input_shape=input_shape,activation='relu',kernel_initializer =he_init))\n",
    "\n",
    "model.add(GaussianNoise(0.01))\n",
    "model.add(Conv2D(32, (3, 3),activation='relu',kernel_initializer =he_init))\n",
    "\n",
    "#model.add(MaxPooling2D(pool_size=(2, 2)))\n",
    "model.add(Dropout(keep_prob))\n",
    "model.add(\n",
    "    Conv2D(64, (3, 3),activation='relu', kernel_initializer =he_init))\n",
    "model.add(GaussianNoise(0.01))\n",
    "model.add(\n",
    "    Conv2D(128, (3, 3), activation='relu', kernel_initializer =he_init))\n",
    "\n",
    "model.add(MaxPooling2D(pool_size=(2, 2)))\n",
    "model.add(Dropout(keep_prob))\n",
    "model.add(\n",
    "    Conv2D(256, (3, 3), activation='relu',kernel_regularizer=tf.keras.regularizers.l2(l2_lambda),\n",
    "                 kernel_initializer =he_init))\n",
    "\n",
    "model.add(GaussianNoise(0.1))\n",
    "model.add(\n",
    "    Conv2D(256,(3, 3),activation='relu', kernel_regularizer=tf.keras.regularizers.l2(l2_lambda),\n",
    "                 kernel_initializer =he_init))\n",
    "#model.add(BatchNormalization(input_shape=input_shape))\n",
    "model.add(MaxPooling2D(pool_size=(2, 2)))\n",
    "model.add(Dropout(keep_prob))\n",
    "\n",
    "model.add(Flatten())\n",
    "model.add(Dense(1024, activation='relu', kernel_regularizer=tf.keras.regularizers.l2(l2_lambda),\n",
    "                kernel_initializer =he_init))\n",
    "model.add(Dropout(keep_prob))\n",
    "\n",
    "model.add(Dense(128, activation='relu',kernel_regularizer=tf.keras.regularizers.l2(l2_lambda),\n",
    "                kernel_initializer =he_init))\n",
    "model.add(Dropout(keep_prob))\n",
    "#model.add(GaussianNoise(0.01))\n",
    "model.add(Dense(num_classes, activation='softmax', kernel_initializer =he_init))\n",
    "model.summary()"
   ]
  },
  {
   "cell_type": "markdown",
   "metadata": {},
   "source": [
    "from tensorflow.keras.models import model_from_json\n",
    "# load json and create model\n",
    "#json_file = open('Models/model_fine_labels.json', 'r')\n",
    "#loaded_model_json = json_file.read()\n",
    "#json_file.close()\n",
    "#model = model_from_json(loaded_model_json)\n",
    "# load weights into new model\n",
    "model.load_weights(\"Models/model_fine_labels.h5\")\n",
    "print(\"Loaded model from disk\")"
   ]
  },
  {
   "cell_type": "code",
   "execution_count": 42,
   "metadata": {},
   "outputs": [],
   "source": [
    "def scheduler(epoch):\n",
    "    if epochs>10:\n",
    "        return 0.001\n",
    "    else: \n",
    "        return 0.001*tf.math.exp(0.1*(10-epoch))"
   ]
  },
  {
   "cell_type": "code",
   "execution_count": null,
   "metadata": {
    "scrolled": true
   },
   "outputs": [
    {
     "name": "stdout",
     "output_type": "stream",
     "text": [
      "Train on 50000 samples, validate on 10000 samples\n",
      "Epoch 1/500\n",
      "50000/50000 [==============================] - 19s 379us/sample - loss: 2.2182 - accuracy: 0.1508 - val_loss: 2.2315 - val_accuracy: 0.1157\n",
      "Epoch 2/500\n",
      "50000/50000 [==============================] - 17s 350us/sample - loss: 2.0094 - accuracy: 0.2150 - val_loss: 2.1758 - val_accuracy: 0.1484\n",
      "Epoch 3/500\n",
      "50000/50000 [==============================] - 46s 916us/sample - loss: 1.8801 - accuracy: 0.2737 - val_loss: 1.9030 - val_accuracy: 0.3387\n",
      "Epoch 4/500\n",
      "50000/50000 [==============================] - 62s 1ms/sample - loss: 1.7959 - accuracy: 0.3349 - val_loss: 1.7636 - val_accuracy: 0.3806\n",
      "Epoch 5/500\n",
      "50000/50000 [==============================] - 62s 1ms/sample - loss: 1.6478 - accuracy: 0.4009 - val_loss: 1.6549 - val_accuracy: 0.4172\n",
      "Epoch 6/500\n",
      "50000/50000 [==============================] - 66s 1ms/sample - loss: 1.5450 - accuracy: 0.4452 - val_loss: 1.5117 - val_accuracy: 0.4718\n",
      "Epoch 7/500\n",
      "50000/50000 [==============================] - 67s 1ms/sample - loss: 1.4715 - accuracy: 0.4741 - val_loss: 1.4485 - val_accuracy: 0.4989\n",
      "Epoch 8/500\n",
      "50000/50000 [==============================] - 69s 1ms/sample - loss: 1.4046 - accuracy: 0.5032 - val_loss: 1.3027 - val_accuracy: 0.5537\n",
      "Epoch 9/500\n",
      "50000/50000 [==============================] - 70s 1ms/sample - loss: 1.3255 - accuracy: 0.5381 - val_loss: 1.3594 - val_accuracy: 0.5256\n",
      "Epoch 10/500\n",
      "50000/50000 [==============================] - 70s 1ms/sample - loss: 1.2864 - accuracy: 0.5510 - val_loss: 1.2522 - val_accuracy: 0.5850\n",
      "Epoch 11/500\n",
      "50000/50000 [==============================] - 70s 1ms/sample - loss: 1.2163 - accuracy: 0.5829 - val_loss: 1.1228 - val_accuracy: 0.6257\n",
      "Epoch 12/500\n",
      "50000/50000 [==============================] - 70s 1ms/sample - loss: 1.1758 - accuracy: 0.5988 - val_loss: 1.1114 - val_accuracy: 0.6239\n",
      "Epoch 13/500\n",
      "50000/50000 [==============================] - 70s 1ms/sample - loss: 1.1287 - accuracy: 0.6168 - val_loss: 1.0806 - val_accuracy: 0.6422\n",
      "Epoch 14/500\n",
      "50000/50000 [==============================] - 70s 1ms/sample - loss: 1.1055 - accuracy: 0.6253 - val_loss: 1.0088 - val_accuracy: 0.6656\n",
      "Epoch 15/500\n",
      "50000/50000 [==============================] - 70s 1ms/sample - loss: 1.0552 - accuracy: 0.6456 - val_loss: 0.9935 - val_accuracy: 0.6738\n",
      "Epoch 16/500\n",
      "50000/50000 [==============================] - 70s 1ms/sample - loss: 1.0252 - accuracy: 0.6578 - val_loss: 0.9689 - val_accuracy: 0.6803\n",
      "Epoch 17/500\n",
      "50000/50000 [==============================] - 63s 1ms/sample - loss: 0.9805 - accuracy: 0.6744 - val_loss: 0.9816 - val_accuracy: 0.6852\n",
      "Epoch 18/500\n",
      "50000/50000 [==============================] - 66s 1ms/sample - loss: 0.9569 - accuracy: 0.6844 - val_loss: 0.9489 - val_accuracy: 0.6976\n",
      "Epoch 19/500\n",
      "50000/50000 [==============================] - 70s 1ms/sample - loss: 0.9360 - accuracy: 0.6937 - val_loss: 0.8912 - val_accuracy: 0.7111\n",
      "Epoch 20/500\n",
      "50000/50000 [==============================] - 70s 1ms/sample - loss: 0.9013 - accuracy: 0.7071 - val_loss: 0.9128 - val_accuracy: 0.7075\n",
      "Epoch 21/500\n",
      "50000/50000 [==============================] - 71s 1ms/sample - loss: 0.8755 - accuracy: 0.7183 - val_loss: 0.8493 - val_accuracy: 0.7285\n",
      "Epoch 22/500\n",
      "50000/50000 [==============================] - 70s 1ms/sample - loss: 0.8659 - accuracy: 0.7198 - val_loss: 0.8133 - val_accuracy: 0.7431\n",
      "Epoch 23/500\n",
      "50000/50000 [==============================] - 70s 1ms/sample - loss: 0.8371 - accuracy: 0.7324 - val_loss: 0.8227 - val_accuracy: 0.7446\n",
      "Epoch 24/500\n",
      "50000/50000 [==============================] - 70s 1ms/sample - loss: 0.8208 - accuracy: 0.7376 - val_loss: 0.8451 - val_accuracy: 0.7366\n",
      "Epoch 25/500\n",
      "50000/50000 [==============================] - 68s 1ms/sample - loss: 0.8067 - accuracy: 0.7439 - val_loss: 0.7754 - val_accuracy: 0.7620\n",
      "Epoch 26/500\n",
      "50000/50000 [==============================] - 68s 1ms/sample - loss: 0.7755 - accuracy: 0.7569 - val_loss: 0.8003 - val_accuracy: 0.7557\n",
      "Epoch 27/500\n",
      "50000/50000 [==============================] - 70s 1ms/sample - loss: 0.7617 - accuracy: 0.7587 - val_loss: 0.8205 - val_accuracy: 0.7498\n",
      "Epoch 28/500\n",
      "50000/50000 [==============================] - 69s 1ms/sample - loss: 0.7413 - accuracy: 0.7682 - val_loss: 0.7691 - val_accuracy: 0.7679\n",
      "Epoch 29/500\n",
      "50000/50000 [==============================] - 68s 1ms/sample - loss: 0.7245 - accuracy: 0.7763 - val_loss: 0.7494 - val_accuracy: 0.7692\n",
      "Epoch 30/500\n",
      "50000/50000 [==============================] - 68s 1ms/sample - loss: 0.7141 - accuracy: 0.7799 - val_loss: 0.7292 - val_accuracy: 0.7823\n",
      "Epoch 31/500\n",
      "50000/50000 [==============================] - 67s 1ms/sample - loss: 0.7127 - accuracy: 0.7825 - val_loss: 0.7371 - val_accuracy: 0.7844\n",
      "Epoch 32/500\n",
      "50000/50000 [==============================] - 65s 1ms/sample - loss: 0.6857 - accuracy: 0.7919 - val_loss: 0.7370 - val_accuracy: 0.7812\n",
      "Epoch 33/500\n",
      "50000/50000 [==============================] - 61s 1ms/sample - loss: 0.6787 - accuracy: 0.7954 - val_loss: 0.7130 - val_accuracy: 0.7937\n",
      "Epoch 34/500\n",
      "18432/50000 [==========>...................] - ETA: 35s - loss: 0.6662 - accuracy: 0.7971"
     ]
    }
   ],
   "source": [
    "epochs = 500\n",
    "batch_size = 1024\n",
    "check_point_path = 'Models/checkpoints'\n",
    "### Instantiate Callbacks\n",
    "callback1 = tf.keras.callbacks.LearningRateScheduler(scheduler)\n",
    "callback2  = tf.keras.callbacks.ReduceLROnPlateau(monitor='val_loss', factor=0.2,\n",
    "                                                  patience=5, min_lr=0.001)\n",
    "callback3 = tf.keras.callbacks.EarlyStopping(\n",
    "    monitor='val_loss', min_delta=0.0001, patience=5, verbose=1, mode='auto',\n",
    "    baseline=None,  restore_best_weights=True\n",
    ")\n",
    "callback4 = tf.keras.callbacks.ModelCheckpoint(\n",
    "    check_point_path, monitor='val_loss', verbose=0, save_best_only=False,\n",
    "    save_weights_only=False, mode='auto', save_freq='epoch'\n",
    ")\n",
    "\n",
    "###Compile and run Model\n",
    "model.compile(optimizer = tf.keras.optimizers.Adam(lr),\n",
    "              loss = \"categorical_crossentropy\",  metrics= ['accuracy'])\n",
    "history = model.fit(trainX,trainY, batch_size = batch_size, callbacks =[callback2, callback3],\n",
    "          epochs=epochs,\n",
    "          verbose=1,\n",
    "          validation_data=(testX, testY),\n",
    "          )"
   ]
  },
  {
   "cell_type": "code",
   "execution_count": 24,
   "metadata": {},
   "outputs": [
    {
     "name": "stdout",
     "output_type": "stream",
     "text": [
      "500\n"
     ]
    },
    {
     "data": {
      "text/plain": [
       "Text(0, 0.5, 'Validation Loss')"
      ]
     },
     "execution_count": 24,
     "metadata": {},
     "output_type": "execute_result"
    },
    {
     "data": {
      "image/png": "[encoded data removed]",
      "text/plain": [
       "<Figure size 432x288 with 1 Axes>"
      ]
     },
     "metadata": {
      "needs_background": "light"
     },
     "output_type": "display_data"
    }
   ],
   "source": [
    "num = len(history.history['val_loss'])\n",
    "type(history.history)\n",
    "history.history.keys()\n",
    "print(len(history.history['val_loss']))\n",
    "plt.plot([i for i in range(len(history.history['val_loss']))],history.history['val_loss'])\n",
    "plt.xlabel(\"# Of Epochs\")\n",
    "plt.ylabel(\"Validation Loss\")"
   ]
  },
  {
   "cell_type": "code",
   "execution_count": 25,
   "metadata": {},
   "outputs": [
    {
     "name": "stdout",
     "output_type": "stream",
     "text": [
      "dict_keys(['loss', 'accuracy', 'val_loss', 'val_accuracy'])\n",
      "500\n"
     ]
    },
    {
     "data": {
      "text/plain": [
       "Text(0, 0.5, 'Loss')"
      ]
     },
     "execution_count": 25,
     "metadata": {},
     "output_type": "execute_result"
    },
    {
     "data": {
      "image/png": "[encoded data removed]",
      "text/plain": [
       "<Figure size 432x288 with 1 Axes>"
      ]
     },
     "metadata": {
      "needs_background": "light"
     },
     "output_type": "display_data"
    }
   ],
   "source": [
    "type(history.history)\n",
    "print(history.history.keys())\n",
    "print(len(history.history['val_loss']))\n",
    "plt.plot([i for i in range(len(history.history['loss']))],history.history['loss'])\n",
    "plt.xlabel(\"# Of Epochs\")\n",
    "plt.ylabel(\"Loss\")"
   ]
  },
  {
   "cell_type": "code",
   "execution_count": 26,
   "metadata": {},
   "outputs": [
    {
     "data": {
      "text/plain": [
       "<function matplotlib.pyplot.ylabel(ylabel, fontdict=None, labelpad=None, **kwargs)>"
      ]
     },
     "execution_count": 26,
     "metadata": {},
     "output_type": "execute_result"
    },
    {
     "data": {
      "image/png": "[encoded data removed]",
      "text/plain": [
       "<Figure size 432x288 with 1 Axes>"
      ]
     },
     "metadata": {
      "needs_background": "light"
     },
     "output_type": "display_data"
    }
   ],
   "source": [
    "plt.plot([i for i in range(len(history.history['loss']))],history.history['loss'])\n",
    "plt.plot([i for i in range(len(history.history['val_loss']))],history.history['val_loss'])\n",
    "plt.legend(['Training Loss','Validation Loss'])\n",
    "plt.xlabel(\"# Of Epochs\")\n",
    "plt.ylabel"
   ]
  },
  {
   "cell_type": "code",
   "execution_count": 9,
   "metadata": {},
   "outputs": [
    {
     "name": "stdout",
     "output_type": "stream",
     "text": [
      "Failed to import pydot. You must install pydot and graphviz for `pydotprint` to work.\n"
     ]
    },
    {
     "ename": "RuntimeError",
     "evalue": "You must compile your model before training/testing. Use `model.compile(optimizer, loss)`.",
     "output_type": "error",
     "traceback": [
      "\u001b[1;31m---------------------------------------------------------------------------\u001b[0m",
      "\u001b[1;31mRuntimeError\u001b[0m                              Traceback (most recent call last)",
      "\u001b[1;32m<ipython-input-9-39adc453884c>\u001b[0m in \u001b[0;36m<module>\u001b[1;34m\u001b[0m\n\u001b[0;32m      3\u001b[0m \u001b[1;33m\u001b[0m\u001b[0m\n\u001b[0;32m      4\u001b[0m \u001b[1;33m\u001b[0m\u001b[0m\n\u001b[1;32m----> 5\u001b[1;33m \u001b[0mscores\u001b[0m \u001b[1;33m=\u001b[0m \u001b[0mmodel\u001b[0m\u001b[1;33m.\u001b[0m\u001b[0mevaluate\u001b[0m\u001b[1;33m(\u001b[0m\u001b[0mtestX\u001b[0m\u001b[1;33m,\u001b[0m \u001b[0mtestY\u001b[0m\u001b[1;33m,\u001b[0m \u001b[0mverbose\u001b[0m\u001b[1;33m=\u001b[0m\u001b[1;36m0\u001b[0m\u001b[1;33m)\u001b[0m\u001b[1;33m\u001b[0m\u001b[1;33m\u001b[0m\u001b[0m\n\u001b[0m\u001b[0;32m      6\u001b[0m \u001b[0mprint\u001b[0m\u001b[1;33m(\u001b[0m\u001b[1;34m\"%s: %.2f%%\"\u001b[0m \u001b[1;33m%\u001b[0m \u001b[1;33m(\u001b[0m\u001b[0mmodel\u001b[0m\u001b[1;33m.\u001b[0m\u001b[0mmetrics_names\u001b[0m\u001b[1;33m[\u001b[0m\u001b[1;36m1\u001b[0m\u001b[1;33m]\u001b[0m\u001b[1;33m,\u001b[0m \u001b[0mscores\u001b[0m\u001b[1;33m[\u001b[0m\u001b[1;36m1\u001b[0m\u001b[1;33m]\u001b[0m\u001b[1;33m*\u001b[0m\u001b[1;36m100\u001b[0m\u001b[1;33m)\u001b[0m\u001b[1;33m)\u001b[0m\u001b[1;33m\u001b[0m\u001b[1;33m\u001b[0m\u001b[0m\n\u001b[0;32m      7\u001b[0m \u001b[1;33m\u001b[0m\u001b[0m\n",
      "\u001b[1;32mc:\\users\\user\\anaconda3\\envs\\myenv\\lib\\site-packages\\tensorflow_core\\python\\keras\\engine\\training.py\u001b[0m in \u001b[0;36mevaluate\u001b[1;34m(self, x, y, batch_size, verbose, sample_weight, steps, callbacks, max_queue_size, workers, use_multiprocessing)\u001b[0m\n\u001b[0;32m    913\u001b[0m     \"\"\"\n\u001b[0;32m    914\u001b[0m     \u001b[0m_keras_api_gauge\u001b[0m\u001b[1;33m.\u001b[0m\u001b[0mget_cell\u001b[0m\u001b[1;33m(\u001b[0m\u001b[1;34m'evaluate'\u001b[0m\u001b[1;33m)\u001b[0m\u001b[1;33m.\u001b[0m\u001b[0mset\u001b[0m\u001b[1;33m(\u001b[0m\u001b[1;32mTrue\u001b[0m\u001b[1;33m)\u001b[0m\u001b[1;33m\u001b[0m\u001b[1;33m\u001b[0m\u001b[0m\n\u001b[1;32m--> 915\u001b[1;33m     \u001b[0mself\u001b[0m\u001b[1;33m.\u001b[0m\u001b[0m_assert_compile_was_called\u001b[0m\u001b[1;33m(\u001b[0m\u001b[1;33m)\u001b[0m\u001b[1;33m\u001b[0m\u001b[1;33m\u001b[0m\u001b[0m\n\u001b[0m\u001b[0;32m    916\u001b[0m     \u001b[0mself\u001b[0m\u001b[1;33m.\u001b[0m\u001b[0m_check_call_args\u001b[0m\u001b[1;33m(\u001b[0m\u001b[1;34m'evaluate'\u001b[0m\u001b[1;33m)\u001b[0m\u001b[1;33m\u001b[0m\u001b[1;33m\u001b[0m\u001b[0m\n\u001b[0;32m    917\u001b[0m \u001b[1;33m\u001b[0m\u001b[0m\n",
      "\u001b[1;32mc:\\users\\user\\anaconda3\\envs\\myenv\\lib\\site-packages\\tensorflow_core\\python\\keras\\engine\\training.py\u001b[0m in \u001b[0;36m_assert_compile_was_called\u001b[1;34m(self)\u001b[0m\n\u001b[0;32m   2826\u001b[0m     \u001b[1;31m# (i.e. whether the model is built and its inputs/outputs are set).\u001b[0m\u001b[1;33m\u001b[0m\u001b[1;33m\u001b[0m\u001b[1;33m\u001b[0m\u001b[0m\n\u001b[0;32m   2827\u001b[0m     \u001b[1;32mif\u001b[0m \u001b[1;32mnot\u001b[0m \u001b[0mself\u001b[0m\u001b[1;33m.\u001b[0m\u001b[0moptimizer\u001b[0m\u001b[1;33m:\u001b[0m\u001b[1;33m\u001b[0m\u001b[1;33m\u001b[0m\u001b[0m\n\u001b[1;32m-> 2828\u001b[1;33m       raise RuntimeError('You must compile your model before '\n\u001b[0m\u001b[0;32m   2829\u001b[0m                          \u001b[1;34m'training/testing. '\u001b[0m\u001b[1;33m\u001b[0m\u001b[1;33m\u001b[0m\u001b[0m\n\u001b[0;32m   2830\u001b[0m                          'Use `model.compile(optimizer, loss)`.')\n",
      "\u001b[1;31mRuntimeError\u001b[0m: You must compile your model before training/testing. Use `model.compile(optimizer, loss)`."
     ]
    }
   ],
   "source": [
    "from tensorflow.keras.utils import plot_model\n",
    "plot_model(model, to_file='model.png')\n",
    "\n",
    "\n",
    "scores = model.evaluate(testX, testY, verbose=0)\n",
    "print(\"%s: %.2f%%\" % (model.metrics_names[1], scores[1]*100))\n",
    "\n",
    "\n",
    "# Serialize model to JSON\n",
    "model_json = model.to_json()\n",
    "with open(\"Models/model1.json\", \"w\") as json_file:\n",
    "    json_file.write(model_json)\n",
    "# Serialize weights to HDF5\n",
    "model.save_weights(\"Models/model1.h5\")\n",
    "print(\"Saved model to disk\")\n"
   ]
  },
  {
   "cell_type": "code",
   "execution_count": 49,
   "metadata": {},
   "outputs": [],
   "source": [
    "pred = model.predict(xtest)"
   ]
  },
  {
   "cell_type": "code",
   "execution_count": 51,
   "metadata": {},
   "outputs": [
    {
     "data": {
      "text/plain": [
       "(10000, 100)"
      ]
     },
     "execution_count": 51,
     "metadata": {},
     "output_type": "execute_result"
    }
   ],
   "source": []
  },
  {
   "cell_type": "code",
   "execution_count": 66,
   "metadata": {},
   "outputs": [
    {
     "name": "stdout",
     "output_type": "stream",
     "text": [
      "b'mountain'\n"
     ]
    },
    {
     "data": {
      "image/png": "[encoded data removed]",
      "text/plain": [
       "<Figure size 432x288 with 1 Axes>"
      ]
     },
     "metadata": {
      "needs_background": "light"
     },
     "output_type": "display_data"
    }
   ],
   "source": [
    "i = 418\n",
    "plt.imshow(xtest[i].reshape((32,32,3)))\n",
    "print(meta_data[b'fine_label_names'][np.argmax(ytest[i])])"
   ]
  },
  {
   "cell_type": "code",
   "execution_count": 43,
   "metadata": {},
   "outputs": [
    {
     "name": "stdout",
     "output_type": "stream",
     "text": [
      "b'seal'\n"
     ]
    },
    {
     "data": {
      "image/png": "[encoded data removed]",
      "text/plain": [
       "<Figure size 432x288 with 1 Axes>"
      ]
     },
     "metadata": {
      "needs_background": "light"
     },
     "output_type": "display_data"
    }
   ],
   "source": [
    "i = 42\n",
    "plt.imshow(xtrain[i].reshape((32,32,3)))\n",
    "print(meta_data[b'fine_label_names'][np.argmax(ytrain[i])])"
   ]
  },
  {
   "cell_type": "code",
   "execution_count": null,
   "metadata": {},
   "outputs": [],
   "source": [
    "\n",
    " \n",
    "# serialize model to JSON\n",
    "model_json = model.to_json()\n",
    "with open(\"model.json\", \"w\") as json_file:\n",
    "    json_file.write(model_json)\n",
    "# serialize weights to HDF5\n",
    "model.save_weights(\"model.h5\")\n",
    "print(\"Saved model to disk\")"
   ]
  },
  {
   "cell_type": "code",
   "execution_count": 11,
   "metadata": {},
   "outputs": [
    {
     "data": {
      "image/png": "[encoded data removed]",
      "text/plain": [
       "<IPython.core.display.Image object>"
      ]
     },
     "execution_count": 11,
     "metadata": {},
     "output_type": "execute_result"
    }
   ],
   "source": [
    "from tensorflow.keras.utils import plot_model\n",
    "plot_model(model, to_file='model.png')"
   ]
  },
  {
   "cell_type": "code",
   "execution_count": 30,
   "metadata": {},
   "outputs": [
    {
     "name": "stdout",
     "output_type": "stream",
     "text": [
      "[name: \"/device:CPU:0\"\n",
      "device_type: \"CPU\"\n",
      "memory_limit: 268435456\n",
      "locality {\n",
      "}\n",
      "incarnation: 7535922723941363830\n",
      "]\n"
     ]
    }
   ],
   "source": []
  },
  {
   "cell_type": "code",
   "execution_count": 31,
   "metadata": {},
   "outputs": [
    {
     "data": {
      "text/plain": [
       "'2.1.0'"
      ]
     },
     "execution_count": 31,
     "metadata": {},
     "output_type": "execute_result"
    }
   ],
   "source": [
    "tf.__version__\n"
   ]
  },
  {
   "cell_type": "code",
   "execution_count": 1,
   "metadata": {},
   "outputs": [
    {
     "name": "stdout",
     "output_type": "stream",
     "text": [
      "Num GPUs Available:  1\n"
     ]
    }
   ],
   "source": []
  },
  {
   "cell_type": "code",
   "execution_count": null,
   "metadata": {},
   "outputs": [],
   "source": []
  },
  {
   "cell_type": "code",
   "execution_count": 46,
   "metadata": {},
   "outputs": [
    {
     "data": {
      "text/plain": [
       "array([63, 13, 69, ..., 32, 89, 41], dtype=int64)"
      ]
     },
     "execution_count": 46,
     "metadata": {},
     "output_type": "execute_result"
    }
   ],
   "source": [
    "np.argmax(ytest, axis = 1)"
   ]
  },
  {
   "cell_type": "code",
   "execution_count": 53,
   "metadata": {},
   "outputs": [
    {
     "name": "stdout",
     "output_type": "stream",
     "text": [
      "-Confusion matrix\n",
      "tf.Tensor(\n",
      "[[72  1  1 ...  1  0  0]\n",
      " [ 0 51  3 ...  0  1  1]\n",
      " [ 0  0 31 ...  1  6  0]\n",
      " ...\n",
      " [ 0  0  0 ... 43  0  0]\n",
      " [ 2  0  7 ...  0 28  0]\n",
      " [ 0  0  0 ...  0  2 35]], shape=(100, 100), dtype=int32)\n"
     ]
    }
   ],
   "source": [
    "print(\"-Confusion matrix\")\n",
    "confuse = tf.math.confusion_matrix(np.argmax(ytest,axis = 1), np.argmax(pred, axis = 1), num_classes = 100)\n"
   ]
  },
  {
   "cell_type": "code",
   "execution_count": 55,
   "metadata": {},
   "outputs": [
    {
     "name": "stdout",
     "output_type": "stream",
     "text": [
      "tf.Tensor(\n",
      "[[72  1  1  1  0  0  1  0  0  0  0  0  0  0  0  0  1  0  0  0  0  0  0  0\n",
      "   0  0  1  0  0  0  0  0  0  0  0  0  0  0  0  0  0  0  0  0  0  0  0  0\n",
      "   0  0  0  0  0  1  4  0  0 10  0  0  0  0  0  0  0  0  0  0  0  1  1  0\n",
      "   0  0  0  0  0  0  1  0  0  0  0  7  0  0  0  0  0  0  0  0  3  0  0  0\n",
      "   0  1  0  0]\n",
      " [ 0 51  3  0  1  0  0  1  0  0  0  0  0  1  2  0  0  0  1  1  0  0  0  1\n",
      "   0  0  2  0  0  2  1  0  1  2  0  0  0  1  0  0  0  0  0  0  1  1  0  0\n",
      "   1  1  1  0  0  2  0  0  0  1  0  0  0  0  3  0  0  1  0  2  0  0  2  0\n",
      "   0  1  2  0  0  2  0  0  0  0  1  0  0  0  0  0  0  0  2  2  2  4  0  0\n",
      "   2  0  1  1]\n",
      " [ 0  0 31  0  0  0  0  0  0  0  1  4  0  0  0  0  0  0  0  1  0  0  0  0\n",
      "   0  0  2  0  1  0  2  0  1  0  1  6  3  0  2  0  0  0  0  1  2  1  4  0\n",
      "   0  0  2  0  0  0  0  0  0  0  0  0  0  2  0  0  2  1  1  0  0  0  0  0\n",
      "   0  0  0  0  2  1  3  0  1  1  0  0  0  0  1  0  0  0  0  0  0  1  0  0\n",
      "   0  1  6  0]\n",
      " [ 0  1  0 26  1  0  0  2  0  0  0  0  0  1  0  1  0  0  0  2  0  7  0  0\n",
      "   0  0  0  0  0  1  1  9  0  0  0  1  0  2  3  0  0  0  0  2  0  1  0  0\n",
      "   0  0  0  0  0  0  0  3  1  1  1  0  0  0  0  3  2  0  3  0  1  0  0  0\n",
      "   9  0  0  3  1  0  1  0  3  0  0  0  0  1  0  1  1  1  0  0  0  0  0  3\n",
      "   0  3  0  0]\n",
      " [ 0  0  1  2 23  0  1  0  0  0  0  0  0  0  0  0  0  0  0  0  0  5  0  0\n",
      "   0  0  0  0  0  0  1  0  0  1  0  0  1  0  2  0  0  0  1  0  4  0  0  0\n",
      "   1  0  4  0  0  0  0  3  0  0  0  1  0  0  0  8  5  0  1  1  0  0  0  0\n",
      "   2  0  7  0  0  3  2  0  5  0  0  0  1  0  0  1  0  1  1  0  0  1  0  1\n",
      "   1  0  1  0]\n",
      " [ 0  1  2  0  0 33  0  0  0  0  3  0  3  2  0  0  1  1  0  0  2  0  0  1\n",
      "   1  5  1  1  1  0  0  0  0  0  0  2  1  2  0  0  0  0  0  0  1  1  0  0\n",
      "   0  0  0  0  0  0  0  0  1  1  2  0  1  0  0  0  1  1  0  0  0  2  0  1\n",
      "   2  0  0  0  1  1  2  0  0  1  0  1  9  1  2  3  2  2  0  1  0  0  1  0\n",
      "   0  1  0  0]\n",
      " [ 0  0  0  1  0  0 36  7  0  0  1  0  0  0  3  0  0  0  2  0  0  0  0  0\n",
      "   0  0  1  0  0  3  0  0  0  0  0  0  0  0  1  0  0  0  2  0  2  1  1  0\n",
      "   1  0  1  0  0  1  5  0  0  0  0  2  0  0  2  0  1  0  1  0  0  0  2  0\n",
      "   2  0  0  0  0  0  1  4  1  0  2  0  0  1  0  0  1  2  0  0  0  1  0  0\n",
      "   0  0  1  0]\n",
      " [ 0  1  2  0  0  0  5 39  0  0  0  0  0  0  0  0  0  0  1  0  0  1  1  0\n",
      "   7  0  2  0  0  0  2  0  0  0  0  0  0  0  0  0  0  4  0  0  2  0  0  0\n",
      "   0  0  0  0  0  0  1  1  0  0  0  1  0  0  0  0  1  2  0  0  0  0  0  0\n",
      "   1  0  1  0  1  4  4  5  0  0  0  2  0  0  0  0  1  1  0  1  0  0  0  1\n",
      "   0  1  0  0]\n",
      " [ 0  0  0  1  1  0  0  2 53  0  0  1  0  0  1  0  1  0  0  0  0  0  1  0\n",
      "   0  1  0  0  0  0  0  0  0  1  0  0  0  0  2  1  0  1  1  0  1  0  0  0\n",
      "   2  0  0  0  0  0  0  1  0  0  0  1  0  0  0  0  0  0  0  0  0  0  0  1\n",
      "   2  0  0  0  0  0  2  2  1  0  0  0  0  0  0  0  2  2  0  0  0  0  0  0\n",
      "   0  1  0  1]\n",
      " [ 0  0  0  1  0  0  0  0  1 45  0  1  0  0  2  1  2  1  4  0  0  0  1  1\n",
      "   1  0  0  0  0  0  0  0  0  1  0  1  0  0  1  0  3  1  0  0  1  0  1  0\n",
      "   1  0  0  0  0  0  1  0  0  2  0  0  0  0  0  0  0  0  0  0  0  1  0  0\n",
      "   0  0  0  0  1  1  0  0  0  1  0  2  2  0  0  1  0  1  0  0  0  0  2  0\n",
      "   0  0  2  0]\n",
      " [ 4  0  2  0  0  1  0  0  2  0 33  2  0  1  0  0  1  0  0  0  1  2  2  1\n",
      "   0  0  2  0  2  1  0  0  1  0  0  0  0  0  0  0  0  0  1  1  0  1  0  0\n",
      "   1  0  2  1  0  0  1  0  0  0  0  2  0 14  1  0  0  0  0  1  0  0  1  0\n",
      "   0  0  2  0  0  1  1  0  1  0  0  2  3  0  0  1  0  0  0  0  0  0  0  2\n",
      "   0  1  0  1]\n",
      " [ 0  0 13  2  1  0  0  0  0  1  0 24  0  0  0  1  0  0  0  0  3  1  1  0\n",
      "   0  1  0  0  1  0  0  0  0  0  0 19  0  0  0  0  0  1  1  1  2  3  5  0\n",
      "   0  0  0  2  0  0  0  0  0  1  0  0  0  0  0  0  1  0  1  0  0  0  2  0\n",
      "   0  0  0  0  0  0  1  0  0  0  0  0  1  0  0  0  1  0  1  0  0  0  0  0\n",
      "   0  2  5  1]\n",
      " [ 0  0  0  1  1  1  0  0  1  1  1  0 41  1  0  0  1  6  0  0  0  0  0  1\n",
      "   1  0  1  1  0  0  0  1  0  2  0  0  0  6  0  1  0  0  0  0  1  1  1  0\n",
      "   0  0  0  0  1  0  0  0  1  0  0  2  0  1  0  0  0  0  0  0  4  1  0  1\n",
      "   1  0  0  0  2  0  1  0  0  4  0  0  0  0  0  0  0  2  3  1  0  0  0  1\n",
      "   0  0  0  1]\n",
      " [ 0  0  0  0  0  1  0  0  1  1  1  0  3 34  1  0  0  0  0  0  0  1  0  0\n",
      "   0  0  0  0  0  0  0  0  0  0  0  1  0  1  0  1  0  1  0  0  0  0  0  0\n",
      "   3  0  0  0  0  0  0  1  0  0  7  0  0  0  0  0  1  0  0  0  0  0  1  0\n",
      "   0  0  0  0  1  0  1  0  0  9  0  0  1  2  0  0  0  5  7  0  0  0  0  0\n",
      "   0  0  0  0]\n",
      " [ 0  2  0  0  2  0  2  7  1  0  0  0  0  1 30  0  0  0  2  1  0  0  0  0\n",
      "   3  0  0  0  0  0  0  0  0  1  0  0  0  0  0  0  0  2  1  0  2  2  0  0\n",
      "   1  0  2  2  0  0  0  0  0  1  0  0  0  1  3  1  1  0  2  0  0  0  1  0\n",
      "   2  0  3  1  0  0  2  4  1  0  0  2  1  0  0  0  4  0  1  0  0  1  0  1\n",
      "   0  2  0  1]\n",
      " [ 0  0  0  2  1  0  0  0  0  0  1  0  0  0  0 31  0  0  0  4  1  0  1  0\n",
      "   0  0  0  0  0  0  0  3  0  1  2  0  0  2  5  0  1  0  0  3  0  0  0  0\n",
      "   0  0  2  1  0  0  0  2  0  0  0  0  2  1  0  0  0  2  0  0  0  0  0  0\n",
      "   3  0  0  0  0  1  2  1  4  0  0  0  0  0  0  0  1  1  1  0  0  2  0  0\n",
      "   0  1  1  1]\n",
      " [ 2  0  5  0  0  2  0  0  2  2  3  0  0  0  0  0 40  1  1  0  1  0 10  0\n",
      "   0  0  0  0  1  0  0  1  0  0  1  1  0  0  1  2  2  3  0  1  0  1  1  0\n",
      "   1  0  1  0  0  0  1  0  0  0  0  0  0  3  0  1  0  1  1  0  0  0  0  0\n",
      "   1  0  0  0  4  0  3  0  0  0  0  1  2  0  2  4  1  1  0  0  0  0  3  0\n",
      "   0  0  0  1]\n",
      " [ 0  0  0  2  0  0  0  0  1  0  0  0  3  0  0  1  0 66  0  0  0  0  1  1\n",
      "   0  0  0  0  0  0  0  0  1  1  0  0  0  2  0  0  0  0  0  0  0  0  0  1\n",
      "   0  0  0  0  0  0  0  0  0  0  0  1  0  0  0  0  0  1  0  0  1  1  0  0\n",
      "   1  0  0  0  1  0  0  0  0  0  0  0  1  1  0  0  0  2  0  0  0  0  1  0\n",
      "   0  0  0  0]\n",
      " [ 0  1  1  1  2  1  2  3  0  2  1  0  0  0  2  0  2  1 44  1  0  0  0  0\n",
      "   0  0  0  2  0  0  0  0  0  2  2  0  0  0  4  2  0  0  0  0  5  1  0  0\n",
      "   1  0  0  0  0  0  0  1  1  1  0  1  0  0  0  0  0  1  0  0  0  0  1  0\n",
      "   1  1  2  0  1  2  0  2  2  0  1  1  0  1  0  0  1  0  2  2  1  1  0  0\n",
      "   0  1  0  2]\n",
      " [ 0  0  0 12  1  0  1  1  1  0  0  1  2  0  0  5  0  2  1 22  0  1  1  0\n",
      "   0  0  0  0  0  2  0  9  1  0  2  0  0  2  6  0  1  1  3  1  0  0  0  2\n",
      "   0  0  2  3  0  0  0  1  0  0  1  0  0  0  0  0  1  0  1  0  0  0  0  0\n",
      "   1  0  0  1  0  0  0  1  1  0  0  0  0  1  0  0  1  4  1  0  0  0  0  0\n",
      "   0  0  2  1]\n",
      " [ 0  0  0  0  0  6  0  1  1  2  0  0  0  0  0  0  2  0  0  0 77  0  1  0\n",
      "   1  4  0  0  0  0  0  0  0  0  0  0  0  0  0  0  2  0  0  0  0  1  0  0\n",
      "   0  0  1  0  0  0  0  0  0  0  0  0  0  2  0  0  0  0  0  0  0  0  0  0\n",
      "   0  0  0  0  0  0  1  0  0  0  0  0  0  0  1  3  0  0  0  0  0  0  0  0\n",
      "   0  0  1  0]\n",
      " [ 0  0  1  4  2  0  0  1  1  0  0  1  0  0  0  0  1  0  0  0  0 57  1  0\n",
      "   0  0  0  0  0  0  2  4  0  0  0  2  0  1  1  0  0  1  0  1  0  1  3  0\n",
      "   0  0  2  0  0  0  0  2  0  0  0  0  0  0  0  0  8  0  1  0  0  0  0  0\n",
      "   3  0  2  0  0  0  3  0  1  0  0  0  1  0  0  0  0  0  2  0  0  0  0  1\n",
      "   0  1  1  0]\n",
      " [ 0  0  0  1  0  0  0  1  1  0  3  0  0  0  0  0  1  0  1  0  0  1 55  0\n",
      "   0  1  1  1  0  0  0  0  1  0  0  1  3  1  0  0  0  0  0  2  0  0  1  0\n",
      "   0  0  0  1  0  0  1  0  0  0  1  0  0 11  1  0  1  0  0  0  0  0  0  0\n",
      "   0  0  0  0  0  0  0  3  3  4  0  0  0  0  2  1  0  0  0  0  0  0  0  1\n",
      "   0  0  0  1]\n",
      " [ 0  0  0  0  0  0  0  0  0  0  1  0  0  0  0  0  0  0  0  0  0  0  0 64\n",
      "   0  0  0  1  0  0  2  0  3  0  0  0  0  0  0  0  1  0  0  0  0  1  0  0\n",
      "   0  7  0  0  0  0  0  0  0  0  0  0  2  0  0  0  1  0  0  3  0  3  0  6\n",
      "   2  1  1  0  0  0  0  0  0  0  0  0  0  0  0  0  0  0  0  0  0  0  0  0\n",
      "   0  0  0  0]\n",
      " [ 0  0  0  0  0  0  0 14  0  0  0  1  1  0  1  0  0  0  0  0  0  0  0  0\n",
      "  58  0  1  0  1  1  0  0  0  0  0  0  0  0  0  0  0  1  0  0  1  2  1  1\n",
      "   0  0  0  0  0  0  0  1  0  0  0  0  0  0  0  0  0  0  0  1  0  0  0  1\n",
      "   2  0  0  0  0  3  0  4  0  0  0  0  1  1  0  0  0  0  0  1  0  2  1  0\n",
      "   0  0  0  2]\n",
      " [ 0  0  3  0  1  2  0  0  1  1  4  1  4  1  1  0  0  1  1  0  3  0  0  2\n",
      "   0 30  1  0  0  0  1  0  0  0  0  0  0  1  0  5  1  1  0  0  1  1  1  1\n",
      "   0  0  0  0  0  0  0  1  0  1  1  0  0  1  0  1  0  0  0  1  0  0  0  0\n",
      "   2  0  0  0  0  0  2  0  1  4  0  0  8  1  0  4  0  2  1  0  0  0  2  1\n",
      "   0  1  0  1]\n",
      " [ 0  0  1  1  2  0  2  2  1  0  2  0  0  0  2  1  0  0  1  1  0  0  0  0\n",
      "   1  0 38  1  0  2  0  1  0  0  0  1  0  0  1  0  0  0  1  1  2  9  0  2\n",
      "   1  0  1  0  0  0  0  0  0  0  0  0  0  1  0  1  2  0  0  0  0  0  0  0\n",
      "   1  0  4  0  0  4  8  2  1  0  0  0  0  0  0  0  0  1  0  1  0  0  0  0\n",
      "   0  0  0  0]\n",
      " [ 0  0  0  1  1  0  0  3  0  0  0  0  1  0  0  0  0  0  0  0  0  0  0  0\n",
      "   0  0  0 34  0  0  3  0  2  2  1  0  0  0  2  0  0  1  1  1  7  0  0  0\n",
      "   0  0  1  0  0  0  0  3  0  0  0  3  0  0  0  3  1  2  0  0  0  1  0  0\n",
      "   1  2  1  1  1  1  5  1  3  0  0  0  0  3  0  0  0  0  2  1  0  6  0  0\n",
      "   0  1  1  1]\n",
      " [ 0  0  3  1  0  1  0  0  0  1  2  0  0  0  0  0  2  0  0  0  0  0  0  0\n",
      "   0  1  0  0 61  0  0  0  0  1  0  0  0  0  0  1  3  1  0  1  0  0  0  0\n",
      "   0  0  0  1  0  1  0  0  0  1  1  1  0  1  0  0  0  0  0  0  0  0  0  0\n",
      "   0  0  0  1  0  0  0  0  0  0  1  0  1  0  1  1  0  0  0  0  0  0  1  0\n",
      "   0  1  0  0]\n",
      " [ 0  2  0  1  2  0  1  1  1  0  0  0  1  0  1  1  0  1  2  0  0  0  1  0\n",
      "   0  0  1  2  0 35  0  0  2  1  2  0  0  0  3  1  2  0  2  0  3  0  1  0\n",
      "   0  0  1  1  3  0  0  2  1  0  1  1  0  0  1  1  0  0  1  0  0  1  0  0\n",
      "   1  0  2  0  0  1  0  0  0  0  0  1  0  1  0  0  1  1  0  0  0  1  0  0\n",
      "   0  3  0  3]\n",
      " [ 0  0  1  1  0  0  0  0  0  0  0  0  0  0  2  0  0  0  0  0  0  0  0  3\n",
      "   0  0  0  0  0  0 48  0  3  0  2  0  0  0  0  0  0  0  0  0  0  0  0  0\n",
      "   0  1  0  0  0  0  0  6  0  0  0  0  0  1  0  0  0  0  0  6  0  3  0  0\n",
      "   3  9  0  0  3  1  0  0  0  0  0  0  0  0  0  0  0  0  0  0  0  4  0 10\n",
      "   0  0  0  2]\n",
      " [ 0  0  0  9  1  0  1  0  0  0  0  0  1  0  0  2  0  2  0  1  0  4  0  0\n",
      "   0  0  0  0  0  2  0 35  0  1  0  0  0  1  7  0  0  0  0  3  0  0  0  0\n",
      "   0  0  1  1  1  0  0  2  0  0  0  1  1  0  0  1  1  1  0  0  1  0  0  0\n",
      "   0  0  1  0  1  1  0  0  1  0  0  0  0  0  0  0  0  1  1  1  0  1  0  0\n",
      "   1  6  0  0]\n",
      " [ 0  0  1  1  0  1  0  0  0  0  0  0  0  1  0  2  0  1  0  0  0  0  0  0\n",
      "   0  0  1  0  0  0  0  0 34  0  1  1  1  0  3  0  0  0  2  0  1  0  2  0\n",
      "   1  0  1  1  0  0  0  0  0  0  0  0  0  0  1  4  1  0  0  6  0  1  0  0\n",
      "   4  1  0  0  0  1  0  1  1  0  0  0  2  2  0  0  0  1  3  2  1  1  1  1\n",
      "   0  1  1  1]\n",
      " [ 1  0  0  0  1  0  0  0  1  0  0  1  0  0  0  0  0  2  1  0  0  0  0  3\n",
      "   0  0  1  1  0  0  1  0  0 43  0  0  0  2  0  1  0  0  1  0  0  0  0  3\n",
      "   0  1  1  4  0  0  0  0  3  0  0  7  1  0  0  0  1  0  0  2  1  0  1  2\n",
      "   1  0  0  0  0  0  0  0  1  0  0  0  2  0  0  0  1  2  0  0  1  0  0  0\n",
      "   6  3  0  0]\n",
      " [ 0  0  0  3  2  0  0  1  0  0  0  2  1  0  1  1  0  0  0  2  0  0  0  0\n",
      "   0  0  1  3  0  1  1  3  0  0 14  0  0  0  5  0  0  1  4  6  3  0  0  0\n",
      "   0  0  2  2  0  0  1  1  0  0  0  0  0  0  0  0  0  1  2  0  0  0  0  0\n",
      "   1  0  0  0  0  0  0  0  7  0  0  0  0  0  0  0  5  0  0  0  0  0  0  1\n",
      "   0  3  1  0]\n",
      " [ 0  0 12  0  2  0  0  0  1  0  0  7  0  0  0  0  0  0  0  0  0  0  1  0\n",
      "   1  0  0  0  0  0  0  1  1  0  0 36  3  0  4  0  0  0  1  3  0  0  3  0\n",
      "   0  0  1  0  0  0  0  0  1  0  0  0  0  0  0  0  1  1  0  0  0  0  0  0\n",
      "   0  0  0  0  1  0  1  0  1  1  0  1  0  0  0  0  0  1  0  0  0  0  0  0\n",
      "   0  0 12  0]\n",
      " [ 0  1  0  0  1  1  0  1  0  1  2  0  0  0  0  0  0  0  0  0  0  1  1  0\n",
      "   0  1  1  0  1  0  0  0  1  0  0  3 56  1  0  0  0  0  1  6  0  0  1  0\n",
      "   1  0  6  2  0  0  0  0  0  2  0  0  0  1  0  1  1  0  2  2  0  0  0  0\n",
      "   1  0  1  0  0  4  0  0  0  0  0  0  0  0  0  0  1  0  0  0  0  0  0  0\n",
      "   0  1  0  0]\n",
      " [ 0  0  0  2  0  0  0  0  0  0  0  0  2  4  0  0  0  7  1  2  0  0  1  2\n",
      "   0  1  0  0  0  0  0  1  0  1  0  1  0 41  0  2  1  0  1  0  0  0  0  0\n",
      "   0  0  0  0  0  0  1  0  0  0  0  1  0  0  0  0  0  0  1  0  2  0  0  0\n",
      "   1  0  0  0  1  0  2  0  0  6  0  0  0  0  1  1  0  3  4  0  0  0  0  1\n",
      "   1  4  0  0]\n",
      " [ 0  0  2  1  2  0  2  0  2  0  0  0  1  0  0  2  0  0  2  0  0  1  0  0\n",
      "   0  0  1  0  1  0  0  0  0  0  0  0  0  1 42  0  0  1  4  4  4  0  0  0\n",
      "   0  0  3  0  0  0  0  1  0  0  0  0  0  0  0  0  3  5  1  0  1  0  0  0\n",
      "   1  0  1  0  0  1  2  2  6  0  0  0  0  0  0  0  2  0  1  0  0  1  0  0\n",
      "   0  5  0  0]\n",
      " [ 0  0  2  0  0  2  0  0  0  0  2  0  0  0  0  0  1  1  0  0  0  0  3  1\n",
      "   0  1  0  2  0  0  0  0  0  1  0  0  0  1  0 61  0  0  0  0  1  0  0  0\n",
      "   0  1  0  0  0  0  0  0  0  4  0  1  0  2  0  1  1  0  0  1  0  0  0  0\n",
      "   0  0  0  0  0  0  2  0  2  1  0  1  0  0  5  1  0  0  0  0  0  0  0  0\n",
      "   0  0  0  1]\n",
      " [ 0  0  1  1  0  2  0  0  3  0  2  1  1  1  0  0  4  0  0  0  1  1  0  0\n",
      "   0  1  0  0 11  0  1  0  0  1  0  1  2  0  0  0 24  1  0  0  1  0  0  0\n",
      "   1  0  1  0  0  1  0  2  1  1  0  0  1  0  0  0  0  0  0  1  0  3  0  0\n",
      "   2  0  0  3  1  0  2  2  0  0  0  0  2  0  0  1  0  1  1  1  1  0  3  0\n",
      "   0  0  1  2]\n",
      " [ 0  0  1  0  0  0  0  2  2  0  0  0  0  0  2  0  0  0  0  1  0  0  0  0\n",
      "   0  1  0  1  0  0  0  0  0  0  0  1  1  0  1  0  0 59  0  0  2  0  0  0\n",
      "   4  0  0  1  0  0  1  1  0  0  0  0  0  0  1  0  0  2  0  0  0  2  1  0\n",
      "   0  0  0  0  0  0  0  1  1  0  0  0  1  2  0  1  0  4  2  0  0  0  0  0\n",
      "   0  0  1  4]\n",
      " [ 0  0  0  0  0  0  0  4  1  0  1  0  0  0  0  0  0  0  0  0  0  2  0  0\n",
      "   0  0  0  0  0  0  0  0  1  0  1  0  0  0  3  0  0  0 64  3  1  1  0  0\n",
      "   0  0  1  2  0  0  0  0  0  0  0  1  0  1  0  5  0  0  0  0  0  0  0  0\n",
      "   0  0  1  1  0  0  2  1  0  0  0  0  0  0  0  0  5  0  0  0  0  1  0  0\n",
      "   1  1  0  0]\n",
      " [ 0  0  0  2  0  0  1  1  0  0  0  1  0  0  1  2  0  0  0  4  0  1  0  0\n",
      "   0  0  0  0  0  1  0  0  1  0  4  2  1  0  6  0  0  0  2 61  0  0  0  0\n",
      "   0  0  3  1  0  0  0  2  0  0  0  0  0  1  0  0  3  1  0  0  0  0  0  0\n",
      "   1  0  0  0  0  0  0  0  0  0  0  0  0  0  0  0  5  0  0  0  0  0  0  0\n",
      "   0  1  1  0]\n",
      " [ 0  0  0  0  2  0  0  4  1  0  1  0  0  0  0  1  0  0  2  0  0  0  0  1\n",
      "   1  1  2  7  0  1  0  0  1  0  0  0  0  0  2  0  0  1  1  1 31  1  0  0\n",
      "   0  0  0  1  0  0  1  2  0  0  0  1  1  0  0  0  0  1  0  1  0  0  0  0\n",
      "   0  0  1  1  1  1  5  2  2  0  0  0  1  0  0  0  0  0  0  0  0  1  0  0\n",
      "   0  0  0  2]\n",
      " [ 0  0  1  0  2  0  1  3  0  0  0  0  2  1  1  0  0  0  0  0  0  2  1  0\n",
      "   2  0  5  0  0  1  0  0  1  1  0  1  1  0  0  1  0  0  2  0  2 36  1  1\n",
      "   1  0  0  1  0  0  2  1  0  0  0  1  0  0  1  0  1  0  0  0  0  0  0  1\n",
      "   1  0  0  0  0  1  8  2  1  1  0  0  3  0  0  0  0  3  1  2  0  2  0  1\n",
      "   0  1  1  0]\n",
      " [ 0  0  7  2  1  1  0  0  2  0  1  5  0  1  0  1  0  0  2  0  0  7  0  0\n",
      "   0  1  0  0  1  0  0  0  0  0  0 11  1  1  1  0  1  1  2  2  1  1 18  0\n",
      "   1  0  1  0  0  0  0  1  0  0  1  0  0  0  0  0  3  0  0  0  0  0  0  0\n",
      "   0  0  0  0  1  1  0  1  1  0  2  0  1  0  0  0  0  0  1  0  1  0  0  0\n",
      "   0  1 10  0]\n",
      " [ 0  0  0  0  0  0  0  0  0  0  0  0  1  0  0  0  0  0  0  0  0  0  0  0\n",
      "   0  0  0  1  0  1  0  0  0  0  0  0  0  1  0  0  0  0  0  0  0  0  0 63\n",
      "   0  0  0  0 15  0  0  0  2  0  0 10  0  0  0  0  0  0  0  0  0  0  0  0\n",
      "   0  0  0  0  0  0  0  0  0  0  0  0  0  0  0  0  0  1  0  0  0  0  0  0\n",
      "   8  0  0  0]\n",
      " [ 0  0  0  0  0  0  1  2 12  0  1  0  0  0  2  0  0  0  0  0  0  0  1  0\n",
      "   0  1  1  0  0  0  0  0  0  0  0  0  0  0  0  0  0  3  0  0  1  2  0  0\n",
      "  57  1  0  0  0  0  0  0  0  0  0  2  0  1  0  0  0  0  0  0  0  0  0  0\n",
      "   0  0  0  0  0  0  1  0  0  0  1  0  0  0  1  0  1  4  0  0  1  0  0  0\n",
      "   0  1  0  0]\n",
      " [ 0  0  0  0  0  0  1  0  0  0  0  0  0  0  0  0  0  4  0  0  0  0  0  6\n",
      "   0  1  0  0  1  0  2  0  0  0  0  0  0  0  0  0  0  0  0  0  0  0  0  0\n",
      "   0 63  0  0  0  0  0  1  0  0  0  1  5  0  0  0  0  0  0  0  2  2  0  1\n",
      "   0  1  0  0  5  0  0  0  0  0  0  0  0  0  0  0  0  0  1  1  0  1  0  2\n",
      "   3  0  0  0]\n",
      " [ 0  1  1  2  3  0  0  0  0  0  0  0  0  0  1  1  0  0  1  0  0  1  1  0\n",
      "   0  1  0  0  0  0  0  0  1  0  1  1  6  0  3  3  0  0  1  2  3  0  0  0\n",
      "   0  0 21  0  0  0  1  3  0  0  0  1  0  0  0  8  7  0  1  2  0  0  0  0\n",
      "   0  0  8  1  1  0  3  0  7  0  0  0  0  0  0  0  1  0  0  0  0  3  0  0\n",
      "   2  0  0  1]\n",
      " [ 0  1  1  1  4  1  0  0  0  0  3  0  0  0  0  1  0  0  0  0  0  0  2  0\n",
      "   0  0  1  2  1  0  1  1  2  0  2  1  0  2  1  0  3  1  1  2  0  1  0  0\n",
      "   0  0  0 35  0  1  2  1  0  1  0  0  0  1  0  1  1  0  1  0  0  0  2  0\n",
      "   1  0  3  1  0  3  1  1  2  0  1  1  0  0  0  0  1  1  0  1  1  0  0  0\n",
      "   1  1  0  0]\n",
      " [ 0  0  0  0  0  0  0  0  0  0  0  0  0  0  0  0  0  1  0  0  0  0  0  0\n",
      "   0  0  0  0  0  0  0  0  0  0  0  0  0  0  0  0  0  0  0  0  0  0  0 24\n",
      "   0  0  0  0 67  0  0  0  0  0  0 13  0  0  0  0  0  0  0  0  0  0  0  0\n",
      "   0  0  0  0  1  0  0  0  0  0  0  0  0  0  0  0  0  0  0  0  0  0  0  0\n",
      "   4  0  0  0]\n",
      " [ 3  0  0  0  0  0  1  0  0  0  0  0  0  0  0  0  0  0  0  0  0  0  0  0\n",
      "   0  0  2  0  0  0  0  0  1  0  0  0  0  0  0  0  0  0  0  1  0  0  0  2\n",
      "   0  0  0  0  0 67  1  0  0  5  0  0  0  1  1  0  0  0  0  0  0  0  1  0\n",
      "   0  0  0  0  0  2  1  0  0  0  0  2  0  0  0  0  0  0  0  0  4  0  0  0\n",
      "   0  0  0  0]\n",
      " [ 0  1  0  0  0  0  2  0  1  0  0  1  0  0  0  0  0  0  0  1  0  0  0  0\n",
      "   0  0  1  0  0  0  0  0  1  0  1  1  0  0  2  0  0  1  0  0  0  3  0  1\n",
      "   0  0  0  1  0  0 51  0  0  0  0  0  0  0  2  0  0  1  0  0  1  0  3  0\n",
      "   1  1  1  0  0  1  0  2  0  0  1  3  0  0  0  0  0  0  0  0  1  0  0  0\n",
      "   1  1  0  0]\n",
      " [ 0  0  2  4  6  0  0  1  0  0  0  0  0  0  0  1  0  0  0  0  0  1  2  0\n",
      "   1  1  0  1  0  0  2  1  3  0  0  1  0  0  1  0  0  0  0  1  1  0  1  0\n",
      "   1  0  2  0  0  0  0 19  0  0  0  0  1  0  0  4  3  0  1  2  2  0  0  0\n",
      "   9  1  2  0  0  1  0  1  2  0  0  0  0  0  0  0  0  1  3  0  0  4  1  2\n",
      "   0  0  0  1]\n",
      " [ 0  0  0  0  0  0  0  0  0  1  1  0  1  0  0  0  0  0  2  0  0  0  0  0\n",
      "   0  0  0  0  1  0  0  0  0  1  0  0  0  0  1  0  0  0  0  0  3  1  0  7\n",
      "   0  0  0  1  3  0  1  1 51  0  0 10  0  0  0  1  0  1  0  2  0  1  0  0\n",
      "   1  1  0  0  0  1  0  2  0  0  0  0  0  3  0  0  0  0  0  0  0  1  0  0\n",
      "   3  1  1  0]\n",
      " [ 6  2  0  1  0  0  0  0  0  2  2  0  0  0  0  0  0  1  0  0  0  0  2  0\n",
      "   0  0  1  0  0  1  0  0  0  0  0  0  0  0  0  1  0  1  0  0  0  0  0  0\n",
      "   0  0  2  1  0  3  2  0  0 52  0  0  0  1  1  0  0  0  0  1  0  1  2  0\n",
      "   0  0  0  0  0  2  2  1  1  0  0  4  0  0  0  1  0  2  0  0  4  1  1  0\n",
      "   0  1  1  0]\n",
      " [ 0  0  0  0  0  0  0  0  0  0  1  0  2  5  0  0  0  0  0  0  0  1  0  0\n",
      "   0  0  0  0  0  0  0  0  0  1  0  0  0  0  0  0  0  2  0  0  0  0  0  0\n",
      "   0  0  0  0  0  0  0  0  0  0 59  1  0  0  0  0  0  0  0  0  0  0  0  0\n",
      "   1  0  0  0  0  0  0  0  0  8  0  0  2  1  1  1  0  3  2  0  0  0  0  0\n",
      "   0  0  0  0]\n",
      " [ 0  0  0  0  0  0  0  0  0  0  0  0  0  0  0  0  0  1  0  0  0  0  0  1\n",
      "   0  0  0  0  0  1  1  0  0  6  0  0  0  1  0  1  0  0  0  0  0  0  0  7\n",
      "   0  2  0  0  9  0  0  0  2  0  0 53  0  0  0  1  0  0  0  0  0  0  0  0\n",
      "   0  1  0  0  1  0  1  0  2  0  0  0  0  1  0  0  0  1  1  0  0  0  0  2\n",
      "  10  0  0  0]\n",
      " [ 0  0  0  0  0  0  0  0  0  0  0  0  0  0  0  0  0  1  0  0  0  0  0  6\n",
      "   0  0  0  0  0  0  1  0  0  1  0  0  0  0  0  0  0  0  0  0  0  0  0  0\n",
      "   0  8  0  0  0  0  0  0  0  0  0  1 61  0  0  0  0  1  0  0  4  0  0  6\n",
      "   0  0  0  0  0  0  0  0  0  0  0  0  0  2  0  0  0  0  0  0  0  0  0  0\n",
      "   0  0  0  0]\n",
      " [ 1  0  1  0  0  1  0  1  1  1  8  1  0  0  0  0  0  0  0  0  1  0 12  1\n",
      "   1  0  2  0  1  0  0  0  0  0  0  0  0  0  0  1  0  0  0  1  1  1  0  0\n",
      "   0  1  0  0  0  1  0  0  0  0  0  0  0 58  0  0  0  0  1  0  0  0  0  0\n",
      "   2  0  1  0  0  0  3  1  0  0  0  0  0  0  1  0  0  1  0  0  0  0  0  0\n",
      "   0  0  0  7]\n",
      " [ 1  1  0  0  0  0  4  1  0  1  0  0  0  0  0  0  0  1  0  0  0  0  1  0\n",
      "   0  0  0  0  0  0  0  0  0  0  0  0  0  0  0  0  1  1  0  0  0  6  0  0\n",
      "   0  0  0  1  0  5  6  0  0  0  0  1  0  0 43  1  0  0  0  0  0  0  8  0\n",
      "   0  0  1  0  0  0  0  0  1  1  4  3  1  0  0  0  0  0  0  0  9  0  0  0\n",
      "   1  0  0  0]\n",
      " [ 0  0  0  0  6  0  0  0  0  0  0  0  0  0  0  0  0  0  0  0  0  0  0  0\n",
      "   0  1  1  0  0  0  0  2  3  0  0  0  1  0  0  0  0  0  4  0  1  0  0  0\n",
      "   0  0  3  0  1  0  0  2  0  0  0  0  0  0  0 58  4  1  1  0  0  0  0  0\n",
      "   1  0  2  0  1  0  2  0  1  0  0  0  0  0  0  0  0  0  0  0  0  3  0  1\n",
      "   0  3  0  0]\n",
      " [ 0  0  0  1  1  0  0  0  0  0  0  0  0  0  2  1  0  0  1  0  0  1  0  1\n",
      "   0  0  0  0  0  0  1  1  0  0  1  1  3  1  9  0  0  0  1  2  2  0  0  0\n",
      "   0  1  1  2  0  0  1  3  0  1  0  1  0  1  0  2 36  0  3  1  0  0  0  0\n",
      "   1  0  4  0  0  0  1  0  2  0  0  0  0  1  0  0  0  0  0  0  1  3  0  0\n",
      "   0  6  2  0]\n",
      " [ 1  0  2  2  2  1  0  0  1  1  1  1  0  0  0  0  1  0  0  1  0  0  2  1\n",
      "   0  1  0  0  0  0  0  1  1  1  0  1  2  1  3  0  0  0  2  1  2  0  1  0\n",
      "   0  0  4  0  0  0  0  3  0  0  0  0  1  0  0  4  2 21  3  1  1  1  0  0\n",
      "   1  0  3  1  0  0  0  1  5  0  0  0  2  1  0  1  0  0  0  0  1  3  0  0\n",
      "   1  4  0  0]\n",
      " [ 0  0  1  0  0  0  0  1  1  0  0  0  0  0  0  0  0  0  0  0  0  4  3  0\n",
      "   0  0  1  1  0  1  0  1  0  0  0  1  0  0  5  0  0  0  2  1  1  0  0  0\n",
      "   2  0  3  0  0  0  0  0  0  0  0  0  0  0  0  2  3  1 40  2  0  0  0  0\n",
      "   0  1  5  1  0  0  3  0  3  0  0  0  0  2  0  0  2  0  1  0  0  0  0  0\n",
      "   0  7  1  0]\n",
      " [ 0  0  0  0  1  0  0  1  1  0  1  0  0  0  1  0  0  0  0  0  0  0  0  3\n",
      "   0  1  0  1  1  0  3  0  4  0  0  0  1  0  0  0  0  0  0  0  1  0  0  0\n",
      "   0  1  1  0  0  0  0  0  0  1  0  0  0  1  0  1  0  2  0 41  0  3  0  0\n",
      "   3  5  4  0  3  3  0  0  1  0  0  0  1  0  0  0  0  0  2  3  0  3  0  1\n",
      "   0  1  0  0]\n",
      " [ 0  0  0  1  0  0  0  0  1  0  0  0  4  0  0  0  0  1  0  0  0  1  0  0\n",
      "   0  0  0  0  0  0  0  1  0  2  0  0  0  1  0  0  0  0  0  0  0  0  0  0\n",
      "   0  5  0  0  0  0  0  0  0  0  1  0  5  0  0  0  0  0  1  0 61  1  0  4\n",
      "   0  0  0  0  0  0  0  0  0  0  0  0  0  0  0  0  0  0  3  0  0  0  0  0\n",
      "   0  0  0  0]\n",
      " [ 0  0  0  0  0  0  0  0  0  1  1  0  2  0  0  0  1  0  1  2  0  0  0  4\n",
      "   1  0  1  0  1  0  1  0  0  0  0  0  0  0  0  0  3  0  0  0  1  0  0  0\n",
      "   0  0  1  0  0  0  0  0  1  0  0  0  0  0  0  0  0  0  1  0  2 59  0  1\n",
      "   0  0  0  1  2  0  0  1  0  0  0  0  0  0  0  0  0  0  0  0  0  0  1  1\n",
      "   0  1  1  1]\n",
      " [ 1  0  0  0  0  1  3  0  0  0  2  0  0  1  0  0  1  0  0  0  0  0  0  0\n",
      "   2  0  2  0  1  0  0  0  0  0  2  0  0  0  0  0  0  0  0  0  0  4  0  4\n",
      "   1  0  0  2  0  2  9  0  0  0  0  0  0  3  7  0  0  0  0  0  0  0 47  0\n",
      "   0  0  0  0  0  0  0  0  0  0  2  4  0  0  0  0  0  0  0  0  8  0  0  0\n",
      "   0  0  0  0]\n",
      " [ 0  0  0  0  1  1  0  0  0  0  0  0  4  0  0  0  0  0  0  0  0  0  0 11\n",
      "   0  1  0  0  0  0  2  0  1  0  0  0  0  0  0  0  0  0  0  0  0  0  0  0\n",
      "   0  7  0  0  0  0  0  1  0  0  0  0  9  0  0  0  0  0  0  0  2  0  0 52\n",
      "   0  2  0  0  0  0  0  0  0  0  0  0  0  0  0  0  0  0  0  0  0  0  0  1\n",
      "   0  0  0  0]\n",
      " [ 0  0  0  0  1  1  0  1  0  0  1  0  0  0  0  4  0  0  0  1  0  1  0  0\n",
      "   0  1  1  1  2  1  1  1  1  0  0  0  0  0  4  0  1  0  0  0  1  1  0  0\n",
      "   0  3  0  2  0  0  0  6  1  0  1  1  1  2  0  0  1  0  0  5  0  0  0  0\n",
      "  22  2  2  4  0  2  0  0  0  0  0  0  1  1  0  1  0  2  1  0  0  0  0  5\n",
      "   0  1  0  3]\n",
      " [ 0  1  0  0  0  0  0  0  0  0  1  0  1  0  0  0  0  0  1  0  0  0  0  5\n",
      "   0  0  0  0  0  0 10  0  1  0  1  0  0  0  1  1  1  0  0  0  0  0  0  0\n",
      "   0  3  0  1  0  0  0  1  0  0  0  1  0  0  0  0  0  1  0 12  0  1  0  2\n",
      "   4 41  3  0  1  0  1  0  0  0  0  0  0  0  0  1  0  0  2  1  0  1  0  3\n",
      "   0  1  0  0]\n",
      " [ 0  0  2  1  4  0  1  1  0  0  0  0  1  0  0  1  0  0  0  1  0  2  1  1\n",
      "   1  0  0  4  0  1  0  1  0  0  1  0  0  0  2  0  0  1  4  0  1  0  1  0\n",
      "   0  0  9  0  0  0  0  1  0  0  0  1  0  0  0  6  4  1  0  0  0  0  0  0\n",
      "   0  0 45  2  0  1  2  1  5  0  0  0  0  0  0  0  1  0  0  0  0  0  0  0\n",
      "   0  2  0  0]\n",
      " [ 0  0  0  1  1  0  0  1  0  1  0  0  0  0  0  0  0  0  0  0  0  1  0  0\n",
      "   0  0  0  0  1  0  0  0  1  0  0  0  0  0  1  0  0  1  0  0  1  0  0  0\n",
      "   2  0  0  1  0  0  0  1  0  0  2  0  0  0  0  0  1  0  3  0  0  0  0  0\n",
      "   4  0  1 67  0  0  1  0  3  0  0  0  0  1  0  0  0  0  0  0  0  1  0  0\n",
      "   0  1  0  2]\n",
      " [ 0  0  0  1  0  0  0  0  0  0  0  0  0  0  0  0  1  2  0  0  0  0  0  2\n",
      "   0  0  0  0  1  0  2  0  0  0  0  0  0  0  0  2  0  0  0  0  0  0  0  0\n",
      "   0  4  0  0  0  0  0  0  0  0  0  0  1  0  0  0  0  0  0  0  2  4  0  1\n",
      "   1  1  0  0 75  0  0  0  0  1  0  0  0  2  0  0  0  0  0  0  0  0  0  1\n",
      "   0  0  0  0]\n",
      " [ 0  0  1  0  2  0  0  1  0  0  0  0  0  0  2  0  0  0  2  1  0  0  2  0\n",
      "   1  0  4  1  0  0  0  0  2  1  0  1  0  1  4  0  0  0  3  0  2  1  0  1\n",
      "   0  0  2  3  0  1  0  2  0  1  0  1  1  0  0  3  0  0  0  0  0  0  0  0\n",
      "   2  0  1  0  0 32  7  2  5  0  0  0  1  1  0  0  0  0  0  1  0  1  0  2\n",
      "   0  1  0  0]\n",
      " [ 1  0  2  1  0  0  3  1  1  0  5  1  0  0  0  2  0  0  2  0  0  1  1  0\n",
      "   0  0  3  4  0  0  2  1  0  0  0  1  1  1  1  1  2  0  2  1  3  1  0  0\n",
      "   0  0  1  0  0  0  0  1  0  0  0  0  0  1  0  1  1  0  0  0  0  0  0  0\n",
      "   1  0  0  1  0  1 20  2  0  0  0  0  0  1  1  0  0  2  0  1  0  2  0  0\n",
      "   0  2  1  4]\n",
      " [ 0  0  0  0  0  0  2  8  2  0  0  0  0  0  1  1  0  1  3  1  0  0  0  0\n",
      "   1  0  0  1  1  0  1  1  0  1  1  0  0  0  2  0  0  0  1  1  7  2  1  0\n",
      "   0  0  0  0  0  1  0  0  1  0  0  0  1  0  0  0  2  0  1  2  1  1  0  0\n",
      "   0  0  0  1  0  2  1 37  1  0  0  0  0  0  0  0  0  0  0  0  0  1  0  1\n",
      "   0  1  0  2]\n",
      " [ 0  0  0  2  2  0  0  1  0  0  0  0  0  0  0  0  1  0  1  2  0  2  0  1\n",
      "   0  0  0  1  0  0  0  1  1  0  1  1  0  1  7  0  0  0  2  1  0  0  0  0\n",
      "   0  0  1  1  0  0  1  2  0  0  0  0  0  0  0  1  2  3  0  0  0  0  0  0\n",
      "   2  0  7  0  0  1  1  1 27  0  0  0  0  2  0  0  1  0  1  0  0  1  0  0\n",
      "   2  2  0  1]\n",
      " [ 0  0  0  0  1  1  0  0  1  0  2  0  2 10  0  0  0  1  0  0  0  1  0  0\n",
      "   0  0  0  0  0  0  0  0  1  0  0  0  0  3  0  1  0  1  0  1  0  0  0  0\n",
      "   0  0  0  0  0  0  0  0  0  0  3  0  0  0  0  0  0  0  0  0  0  1  0  0\n",
      "   0  0  0  0  0  0  0  0  0 40  0  0  2  1  0  0  0  7  5  0  0  0  1  0\n",
      "   0  0  0  0]\n",
      " [ 0  1  1  0  1  1  2  0  0  0  0  0  0  0  0  0  0  0  0  0  0  0  0  0\n",
      "   0  0  0  0  0  0  0  0  0  0  0  0  0  0  0  0  0  0  0  0  1  1  0  3\n",
      "   0  1  0  2  0  1  0  0  1  1  0  1  0  0  4  0  0  0  1  0  1  1  1  0\n",
      "   0  0  1  0  0  0  0  0  0  0 62  0  0  0  0  0  0  2  0  0  5  1  0  0\n",
      "   0  0  0  0]\n",
      " [15  0  0  0  0  0  1  1  0  2  3  1  0  0  1  0  2  0  0  0  0  0  1  0\n",
      "   0  0  0  0  0  0  0  0  0  1  0  0  0  0  0  0  0  2  0  0  1  4  0  0\n",
      "   0  0  0  0  0  7  4  0  0  1  0  0  0  1  6  0  0  0  0  0  0  0  3  0\n",
      "   0  0  0  0  0  0  0  0  0  0  0 44  1  0  0  0  0  2  0  0  4  1  0  0\n",
      "   0  0  1  0]\n",
      " [ 0  0  0  0  1  4  0  0  2  2  3  0  0  0  0  2  0  1  0  0  3  0  2  0\n",
      "   1  7  1  0  1  0  0  0  0  1  0  0  0  3  0  0  2  0  0  0  2  2  1  0\n",
      "   0  0  0  2  0  0  1  0  1  0  1  0  0  0  1  0  0  2  0  0  0  0  0  0\n",
      "   0  0  0  1  0  0  1  1  0  3  0  0 24  0  0  3  0  3  1  1  0  0  1  0\n",
      "   0  1  0  0]\n",
      " [ 0  0  0  1  0  0  0  1  0  0  1  0  5  0  0  1  0  1  0  0  0  2  0  0\n",
      "   0  3  1  0  0  0  0  0  0  0  0  0  0  1  0  0  0  2  0  0  0  0  0  0\n",
      "   2  0  0  1  2  0  0  2  0  0  3  2  0  0  0  2  2  0  0  0  0  0  0  0\n",
      "   2  0  1  1  0  0  0  1  0  3  0  0  2 53  0  0  1  1  6  0  0  1  0  0\n",
      "   0  1  0  1]\n",
      " [ 0  0  1  0  0  1  0  0  0  2  0  0  0  0  0  0  3  0  0  0  0  2  5  0\n",
      "   0  0  0  0  3  0  0  0  4  0  0  0  0  0  0  2  0  1  0  0  1  2  0  0\n",
      "   0  0  1  0  1  0  0  0  0  0  1  0  0  2  0  0  2  0  1  0  0  1  0  0\n",
      "   3  0  0  0  0  0  3  0  0  1  0  1  2  0 49  3  0  0  0  0  0  0  2  1\n",
      "   0  0  0  0]\n",
      " [ 0  0  1  1  0  4  0  0  0  1  2  1  5  1  0  0  0  0  0  1  1  1  3  0\n",
      "   0  4  0  0  1  0  0  0  0  0  0  1  0  0  1  0  0  0  0  1  0  0  2  0\n",
      "   1  0  0  0  0  0  0  0  0  0  0  0  0  0  0  0  1  0  0  0  0  1  0  0\n",
      "   0  0  0  0  0  1  0  0  0  2  0  0  1  0  3 46  0  2  2  0  0  0  6  0\n",
      "   0  0  1  0]\n",
      " [ 0  0  3  1  3  0  2  0  0  0  0  0  0  0  0  0  0  0  1  1  0  0  1  0\n",
      "   0  1  0  0  0  0  0  0  1  1  0  1  0  0  4  0  1  0  7  3  1  1  0  0\n",
      "   0  0  2  0  0  0  0  0  0  0  0  1  0  1  0  0  1  0  0  0  0  0  0  0\n",
      "   1  0  0  1  0  0  0  0  1  0  0  0  0  0  0  1 38  2  1  0  0  0  0  0\n",
      "   0  2  1  0]\n",
      " [ 0  0  0  0  1  0  0  2  0  0  2  0  0  1  0  2  0  1  0  1  0  1  0  0\n",
      "   0  0  1  0  0  1  0  0  0  0  0  0  0  1  0  0  0  5  0  0  0  2  0  0\n",
      "   5  0  0  0  0  0  0  1  0  0  1  2  1  0  0  1  0  1  1  0  0  0  0  0\n",
      "   2  0  0  0  0  0  1  0  2  5  0  0  0  3  0  1  1 48  2  0  1  0  0  0\n",
      "   1  0  0  0]\n",
      " [ 0  1  1  0  0  0  0  1  1  0  0  0  3  1  0  0  1  3  4  0  0  0  0  0\n",
      "   0  0  0  1  0  0  0  0  0  0  0  0  0  2  1  1  0  3  1  0  2  0  0  0\n",
      "   0  3  0  0  1  0  0  0  0  0  5  2  0  0  0  0  0  0  1  0  1  0  0  0\n",
      "   1  1  0  0  1  0  1  1  0  4  0  0  1  1  1  1  0 10 33  1  0  0  0  0\n",
      "   0  1  0  0]\n",
      " [ 0  1  0  0  1  1  0  0  0  0  0  0  1  0  0  0  0  0  3  0  0  0  1  0\n",
      "   0  0  1  1  0  0  1  1  0  0  0  0  0  0  0  0  1  0  0  0  2  0  0  0\n",
      "   0  0  0  3  0  0  0  0  0  0  0  0  0  0  0  0  0  0  0  2  0  0  0  0\n",
      "   1  0  1  3  0  2  0  0  0  0  0  0  1  0  0  0  0  0  2 55  0  2  0  0\n",
      "   0  0  0  1]\n",
      " [ 3  1  1  0  0  0  2  0  0  0  0  0  0  0  1  0  1  0  0  1  0  0  0  0\n",
      "   0  0  0  0  0  0  0  0  1  1  0  0  1  0  0  0  0  1  1  0  0  4  0  0\n",
      "   1  0  0  3  0  0 18  0  0  5  0  0  0  3  7  0  0  1  0  0  0  0  4  0\n",
      "   1  0  0  1  0  4  0  0  0  0  1  9  1  0  0  0  0  0  0  0 37  0  0  0\n",
      "   0  1  0  0]\n",
      " [ 0  0  0  0  1  0  3  4  0  0  3  1  0  0  0  0  0  0  1  0  0  1  0  0\n",
      "   0  0  1  2  0  1  2  0  2  0  0  0  0  0  0  0  1  0  3  0  3  0  1  1\n",
      "   0  2  1  0  1  0  0  2  0  0  1  0  0  1  0  2  1  1  0  5  0  1  0  0\n",
      "   5  4  1  0  0  1  1  1  1  0  0  1  0  1  0  0  0  0  1  1  1 28  0  0\n",
      "   1  0  0  1]\n",
      " [ 0  0  0  0  0  0  0  0  0  0  0  0  0  0  0  0  1  0  0  0  0  0  1  0\n",
      "   0  3  0  0  0  0  0  0  0  0  0  0  0  1  0  0  0  0  1  1  0  0  0  0\n",
      "   0  0  0  0  0  0  0  0  0  1  0  0  0  0  1  0  0  1  0  0  0  0  0  1\n",
      "   0  0  0  0  0  0  0  0  0  0  0  0  2  0  0  4  1  1  0  0  0  0 81  0\n",
      "   1  0  0  0]\n",
      " [ 0  0  0  0  0  0  0  0  0  1  0  0  1  0  0  0  0  0  0  0  1  0  0  1\n",
      "   1  0  0  0  0  0  6  0  1  0  0  0  0  0  0  1  1  0  0  0  0  0  0  0\n",
      "   0  1  0  0  0  0  0  6  0  0  0  0  0  0  0  0  0  0  0  6  1  3  0  0\n",
      "   1  5  0  0  0  0  0  0  0  0  0  0  0  0  1  0  0  0  2  0  0  1  0 47\n",
      "   0  0  0  2]\n",
      " [ 0  0  0  0  0  0  0  0  0  0  0  0  0  0  0  0  0  0  0  0  0  0  0  0\n",
      "   0  0  0  0  0  0  0  0  0  7  0  0  0  0  1  0  0  0  0  0  0  0  0  8\n",
      "   0  1  1  0 13  0  0  0  0  0  0  9  1  0  0  1  0  0  0  2  0  0  0  0\n",
      "   0  0  0  0  0  0  0  0  0  0  0  0  0  1  0  0  0  0  0  0  0  0  0  0\n",
      "  60  0  0  0]\n",
      " [ 0  0  0  4  0  0  0  1  1  0  0  0  0  0  1  1  0  0  0  0  0  0  0  1\n",
      "   0  0  0  0  0  1  0  0  0  0  0  0  0  0 10  1  0  1  4  1  1  0  0  0\n",
      "   0  1  0  0  0  0  0  0  0  1  1  1  0  0  0  0  4  2  3  0  0  0  0  0\n",
      "   0  0  1  1  0  0  2  0  2  1  0  0  0  0  1  0  0  0  0  1  0  1  0  1\n",
      "   0 43  0  0]\n",
      " [ 2  0  7  2  0  1  0  0  0  2  0 10  0  0  0  1  0  0  0  0  1  6  1  0\n",
      "   1  0  1  0  0  0  1  0  1  0  1 17  1  0  1  0  1  1  0  5  0  0  6  0\n",
      "   0  0  2  1  0  0  0  1  0  1  0  0  0  0  0  1  2  2  1  0  0  0  1  0\n",
      "   0  0  0  1  0  0  2  1  0  0  0  0  0  0  0  1  0  0  1  0  1  0  0  0\n",
      "   0  0 28  0]\n",
      " [ 0  0  0  0  1  0  0  1  3  0  0  0  0  0  1  1  0  0  2  0  0  0  0  0\n",
      "   1  1  0  0  1  0  1  0  0  1  0  1  0  0  0  1  0  0  0  0  3  1  0  0\n",
      "   1  0  2  0  0  1  1  0  0  1  0  0  0  5  0  0  0  0  0  2  1  1  0  0\n",
      "   0  0  0  2  0  2  6  3  0  0  0  0  0  1  0  0  0  0  0  0  0  1  0  1\n",
      "   0  0  2 35]], shape=(100, 100), dtype=int32)\n"
     ]
    }
   ],
   "source": [
    "import sys\n",
    "import numpy\n",
    "numpy.set_printoptions(threshold=np.inf)\n",
    "print(confuse)"
   ]
  },
  {
   "cell_type": "code",
   "execution_count": null,
   "metadata": {},
   "outputs": [],
   "source": []
  }
 ],
 "metadata": {
  "kernelspec": {
   "display_name": "deepdive",
   "language": "python",
   "name": "deepdive"
  },
  "language_info": {
   "codemirror_mode": {
    "name": "ipython",
    "version": 3
   },
   "file_extension": ".py",
   "mimetype": "text/x-python",
   "name": "python",
   "nbconvert_exporter": "python",
   "pygments_lexer": "ipython3",
   "version": "3.7.7"
  }
 },
 "nbformat": 4,
 "nbformat_minor": 2
}
