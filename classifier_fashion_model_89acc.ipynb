{
 "cells": [
  {
   "cell_type": "code",
   "execution_count": 1,
   "metadata": {},
   "outputs": [],
   "source": [
    "import tensorflow as tf\n",
    "import matplotlib.pyplot as plt\n",
    "import numpy as np\n",
    "import os\n",
    "import pickle\n",
    "import cv2\n",
    "import pandas as pd\n",
    "from tensorflow.keras.datasets import cifar10, fashion_mnist\n",
    "from tensorflow.keras.preprocessing.image import ImageDataGenerator\n",
    "from tqdm import tqdm\n",
    "import datetime as dt\n",
    "#from tensorflow.keras.preprocessing import image\n",
    "#from tensorflow.keras.applications.resnet50 import preprocess_input, decode_predictions"
   ]
  },
  {
   "cell_type": "code",
   "execution_count": 2,
   "metadata": {},
   "outputs": [
    {
     "data": {
      "text/plain": [
       "datetime.datetime(2020, 4, 25, 4, 45, 38, 802708)"
      ]
     },
     "execution_count": 2,
     "metadata": {},
     "output_type": "execute_result"
    }
   ],
   "source": [
    "dt.datetime.now()"
   ]
  },
  {
   "cell_type": "code",
   "execution_count": 3,
   "metadata": {},
   "outputs": [
    {
     "name": "stdout",
     "output_type": "stream",
     "text": [
      "Num GPUs Available:  1\n",
      "[name: \"/device:CPU:0\"\n",
      "device_type: \"CPU\"\n",
      "memory_limit: 268435456\n",
      "locality {\n",
      "}\n",
      "incarnation: 4648122478202578255\n",
      ", name: \"/device:GPU:0\"\n",
      "device_type: \"GPU\"\n",
      "memory_limit: 4930941747\n",
      "locality {\n",
      "  bus_id: 1\n",
      "  links {\n",
      "  }\n",
      "}\n",
      "incarnation: 16751419708948643943\n",
      "physical_device_desc: \"device: 0, name: GeForce GTX 1060, pci bus id: 0000:01:00.0, compute capability: 6.1\"\n",
      "]\n"
     ]
    }
   ],
   "source": [
    "from tensorflow.python.client import device_lib\n",
    "import tensorflow as tf\n",
    "print(\"Num GPUs Available: \", len(tf.config.experimental.list_physical_devices('GPU')))\n",
    "print(device_lib.list_local_devices())"
   ]
  },
  {
   "cell_type": "code",
   "execution_count": 4,
   "metadata": {},
   "outputs": [],
   "source": [
    "def load_preprocess():\n",
    "    ### Load In Data\n",
    "    (trainX, trainY), (testX, testY) = fashion_mnist.load_data()\n",
    "    trainY = tf.keras.utils.to_categorical(trainY)\n",
    "    testY = tf.keras.utils.to_categorical(testY)\n",
    "    return [trainX/255, trainY, testX/255, testY]\n",
    "def scheduler(epoch):\n",
    "    if epochs>10:\n",
    "        return 0.001\n",
    "    else: \n",
    "        return 0.001*tf.math.exp(0.1*(10-epoch))"
   ]
  },
  {
   "cell_type": "code",
   "execution_count": 5,
   "metadata": {},
   "outputs": [],
   "source": [
    "trainX, trainY, testX, testY = load_preprocess()\n",
    "trainX = np.expand_dims(trainX, axis = -1)\n",
    "testX = np.expand_dims(testX, axis = -1)"
   ]
  },
  {
   "cell_type": "code",
   "execution_count": 6,
   "metadata": {},
   "outputs": [],
   "source": [
    "im_size =28\n",
    "channels = 1\n",
    "num_classes = 10\n",
    "lr = 0.001 ### learning rate\n",
    "input_shape = ( im_size, im_size, channels)\n",
    "l1_lambda = 0 ### L1 regularization lambda parameter\n",
    "l2_lambda = 0.01\n",
    "keep_prob = 0.3"
   ]
  },
  {
   "cell_type": "code",
   "execution_count": 7,
   "metadata": {},
   "outputs": [
    {
     "name": "stdout",
     "output_type": "stream",
     "text": [
      "Model: \"sequential\"\n",
      "_________________________________________________________________\n",
      "Layer (type)                 Output Shape              Param #   \n",
      "=================================================================\n",
      "conv2d (Conv2D)              (None, 26, 26, 28)        280       \n",
      "_________________________________________________________________\n",
      "conv2d_1 (Conv2D)            (None, 24, 24, 32)        8096      \n",
      "_________________________________________________________________\n",
      "gaussian_noise (GaussianNois (None, 24, 24, 32)        0         \n",
      "_________________________________________________________________\n",
      "conv2d_2 (Conv2D)            (None, 22, 22, 32)        9248      \n",
      "_________________________________________________________________\n",
      "conv2d_3 (Conv2D)            (None, 20, 20, 32)        9248      \n",
      "_________________________________________________________________\n",
      "batch_normalization (BatchNo (None, 20, 20, 32)        128       \n",
      "_________________________________________________________________\n",
      "dropout (Dropout)            (None, 20, 20, 32)        0         \n",
      "_________________________________________________________________\n",
      "conv2d_4 (Conv2D)            (None, 18, 18, 64)        18496     \n",
      "_________________________________________________________________\n",
      "conv2d_5 (Conv2D)            (None, 16, 16, 64)        36928     \n",
      "_________________________________________________________________\n",
      "gaussian_noise_1 (GaussianNo (None, 16, 16, 64)        0         \n",
      "_________________________________________________________________\n",
      "conv2d_6 (Conv2D)            (None, 14, 14, 64)        36928     \n",
      "_________________________________________________________________\n",
      "conv2d_7 (Conv2D)            (None, 12, 12, 64)        36928     \n",
      "_________________________________________________________________\n",
      "batch_normalization_1 (Batch (None, 12, 12, 64)        256       \n",
      "_________________________________________________________________\n",
      "conv2d_8 (Conv2D)            (None, 10, 10, 128)       73856     \n",
      "_________________________________________________________________\n",
      "conv2d_9 (Conv2D)            (None, 8, 8, 128)         147584    \n",
      "_________________________________________________________________\n",
      "dropout_1 (Dropout)          (None, 8, 8, 128)         0         \n",
      "_________________________________________________________________\n",
      "conv2d_10 (Conv2D)           (None, 6, 6, 256)         295168    \n",
      "_________________________________________________________________\n",
      "gaussian_noise_2 (GaussianNo (None, 6, 6, 256)         0         \n",
      "_________________________________________________________________\n",
      "conv2d_11 (Conv2D)           (None, 4, 4, 256)         590080    \n",
      "_________________________________________________________________\n",
      "max_pooling2d (MaxPooling2D) (None, 2, 2, 256)         0         \n",
      "_________________________________________________________________\n",
      "dropout_2 (Dropout)          (None, 2, 2, 256)         0         \n",
      "_________________________________________________________________\n",
      "flatten (Flatten)            (None, 1024)              0         \n",
      "_________________________________________________________________\n",
      "dense (Dense)                (None, 128)               131200    \n",
      "_________________________________________________________________\n",
      "dropout_3 (Dropout)          (None, 128)               0         \n",
      "_________________________________________________________________\n",
      "dense_1 (Dense)              (None, 128)               16512     \n",
      "_________________________________________________________________\n",
      "dense_2 (Dense)              (None, 32)                4128      \n",
      "_________________________________________________________________\n",
      "dropout_4 (Dropout)          (None, 32)                0         \n",
      "_________________________________________________________________\n",
      "dense_3 (Dense)              (None, 10)                330       \n",
      "=================================================================\n",
      "Total params: 1,415,394\n",
      "Trainable params: 1,415,202\n",
      "Non-trainable params: 192\n",
      "_________________________________________________________________\n"
     ]
    }
   ],
   "source": [
    "from tensorflow.keras.layers import BatchNormalization, Conv2D, GaussianNoise, MaxPooling2D, Flatten\n",
    "from tensorflow.keras.layers import Dropout, Dense, Input\n",
    "from tensorflow.keras.models import Sequential\n",
    "from tensorflow.keras.regularizers import l1\n",
    "\n",
    "from tensorflow.keras.layers import BatchNormalization, Conv2D, GaussianNoise, MaxPooling2D, Flatten\n",
    "from tensorflow.keras.layers import Dropout, Dense\n",
    "from tensorflow.keras.models import Sequential\n",
    "from tensorflow.keras.regularizers import l1\n",
    "\n",
    "### Creating model architecture\n",
    "he_init = tf.keras.initializers.VarianceScaling()\n",
    "model = Sequential()\n",
    "#model.add(BatchNormalization(input_shape=input_shape))\n",
    "model.add(Conv2D(28, (3, 3),input_shape=input_shape,activation='relu',\n",
    "                 kernel_initializer =he_init))\n",
    "\n",
    "\n",
    "model.add(Conv2D(32, (3, 3),activation='relu',kernel_initializer =he_init))\n",
    "model.add(GaussianNoise(0.01))\n",
    "model.add(Conv2D(32, (3, 3),input_shape=input_shape,activation='relu',\n",
    "                 kernel_initializer =he_init))\n",
    "#model.add(GaussianNoise(0.01))\n",
    "model.add(Conv2D(32, (3, 3),activation='relu',kernel_initializer =he_init))\n",
    "model.add(BatchNormalization())\n",
    "#model.add(MaxPooling2D(pool_size=(2, 2)))\n",
    "model.add(Dropout(keep_prob))\n",
    "model.add(Conv2D(64, (3, 3),activation='relu', kernel_initializer =he_init))\n",
    "model.add(Conv2D(64, (3, 3),activation='relu', kernel_initializer =he_init))\n",
    "model.add(GaussianNoise(0.01))\n",
    "model.add(Conv2D(64, (3, 3),activation='relu', kernel_initializer =he_init))\n",
    "model.add(Conv2D(64, (3, 3),activation='relu', kernel_initializer =he_init))\n",
    "model.add(BatchNormalization())\n",
    "\n",
    "model.add(\n",
    "    Conv2D(128, (3, 3), activation='relu', kernel_initializer =he_init))\n",
    "model.add(\n",
    "    Conv2D(128, (3, 3), activation='relu', kernel_initializer =he_init))\n",
    "\n",
    "#model.add(MaxPooling2D(pool_size=(2, 2)))\n",
    "model.add(Dropout(keep_prob))\n",
    "model.add(\n",
    "    Conv2D(256, (3, 3), activation='relu',kernel_regularizer=tf.keras.regularizers.l2(l2_lambda),\n",
    "                 kernel_initializer =he_init))\n",
    "\n",
    "model.add(GaussianNoise(0.1))\n",
    "model.add(\n",
    "    Conv2D(256,(3, 3),activation='relu', kernel_regularizer=tf.keras.regularizers.l2(l2_lambda),\n",
    "                 kernel_initializer =he_init))\n",
    "#model.add(BatchNormalization(input_shape=input_shape))\n",
    "model.add(MaxPooling2D(pool_size=(2, 2)))\n",
    "model.add(Dropout(keep_prob))\n",
    "\n",
    "model.add(Flatten())\n",
    "model.add(Dense(128, activation='relu', kernel_regularizer=tf.keras.regularizers.l2(l2_lambda),\n",
    "                kernel_initializer =he_init))\n",
    "model.add(Dropout(keep_prob))\n",
    "model.add(Dense(128, activation='relu', kernel_regularizer=tf.keras.regularizers.l2(l2_lambda),\n",
    "                kernel_initializer =he_init))\n",
    "model.add(Dense(32, activation='relu',kernel_regularizer=tf.keras.regularizers.l2(l2_lambda),\n",
    "                kernel_initializer =he_init))\n",
    "model.add(Dropout(keep_prob))\n",
    "#model.add(GaussianNoise(0.01))\n",
    "model.add(Dense(num_classes, activation='softmax', kernel_initializer =he_init))\n",
    "model.summary()"
   ]
  },
  {
   "cell_type": "markdown",
   "metadata": {},
   "source": [
    "from tensorflow.keras.models import model_from_json\n",
    "# load json and create model\n",
    "#json_file = open('Models/model_fine_labels.json', 'r')\n",
    "#loaded_model_json = json_file.read()\n",
    "#json_file.close()\n",
    "#model = model_from_json(loaded_model_json)\n",
    "# load weights into new model\n",
    "model.load_weights(\"Models/model_fine_labels.h5\")\n",
    "print(\"Loaded model from disk\")"
   ]
  },
  {
   "cell_type": "code",
   "execution_count": 8,
   "metadata": {},
   "outputs": [],
   "source": [
    "train_datagen = ImageDataGenerator(\n",
    "        featurewise_center=False,  # set input mean to 0 over the dataset\n",
    "        samplewise_center=True,  # set each sample mean to 0\n",
    "        featurewise_std_normalization=False,  # divide inputs by std of the dataset\n",
    "        samplewise_std_normalization=True, # divide each input by its std\n",
    "        #rotation_range = 30,\n",
    "        #vertical_flip = True,\n",
    "        #horizontal_flip = True, \n",
    "       # brightness_range = [0.7, 1.2]\n",
    ")\n",
    "test_datagen = ImageDataGenerator(\n",
    "        featurewise_center=False,  # set input mean to 0 over the dataset\n",
    "        samplewise_center=True,  # set each sample mean to 0\n",
    "        featurewise_std_normalization=False,  # divide inputs by std of the dataset\n",
    "        samplewise_std_normalization=True,  # divide each input by its std\n",
    ")"
   ]
  },
  {
   "cell_type": "code",
   "execution_count": 9,
   "metadata": {},
   "outputs": [
    {
     "data": {
      "text/plain": [
       "(60000, 28, 28, 1)"
      ]
     },
     "execution_count": 9,
     "metadata": {},
     "output_type": "execute_result"
    }
   ],
   "source": [
    "trainX.shape"
   ]
  },
  {
   "cell_type": "code",
   "execution_count": 10,
   "metadata": {},
   "outputs": [],
   "source": [
    "train_datagen.fit(trainX)\n",
    "test_datagen.fit(testX)"
   ]
  },
  {
   "cell_type": "code",
   "execution_count": 11,
   "metadata": {},
   "outputs": [],
   "source": [
    "it = train_datagen.flow(trainX, trainY,\n",
    "                                 batch_size=2)"
   ]
  },
  {
   "cell_type": "code",
   "execution_count": 12,
   "metadata": {},
   "outputs": [],
   "source": [
    "x = it.next()"
   ]
  },
  {
   "cell_type": "code",
   "execution_count": 13,
   "metadata": {},
   "outputs": [
    {
     "data": {
      "text/plain": [
       "(2, 28, 28, 1)"
      ]
     },
     "execution_count": 13,
     "metadata": {},
     "output_type": "execute_result"
    }
   ],
   "source": [
    "x[0].shape"
   ]
  },
  {
   "cell_type": "code",
   "execution_count": 14,
   "metadata": {},
   "outputs": [
    {
     "data": {
      "text/plain": [
       "<matplotlib.image.AxesImage at 0x1609799ed88>"
      ]
     },
     "execution_count": 14,
     "metadata": {},
     "output_type": "execute_result"
    },
    {
     "data": {
      "image/png": "[encoded data removed]",
      "text/plain": [
       "<Figure size 432x288 with 1 Axes>"
      ]
     },
     "metadata": {
      "needs_background": "light"
     },
     "output_type": "display_data"
    }
   ],
   "source": [
    "plt.imshow(x[0][0].reshape(28,28))"
   ]
  },
  {
   "cell_type": "code",
   "execution_count": 17,
   "metadata": {
    "scrolled": true
   },
   "outputs": [
    {
     "name": "stdout",
     "output_type": "stream",
     "text": [
      "WARNING:tensorflow:sample_weight modes were coerced from\n",
      "  ...\n",
      "    to  \n",
      "  ['...']\n",
      "WARNING:tensorflow:sample_weight modes were coerced from\n",
      "  ...\n",
      "    to  \n",
      "  ['...']\n",
      "Train for 118 steps, validate for 313 steps\n",
      "Epoch 1/50\n",
      "118/118 [==============================] - 21s 176ms/step - loss: 0.2289 - accuracy: 0.9428 - val_loss: 0.3649 - val_accuracy: 0.9031\n",
      "Epoch 2/50\n",
      "118/118 [==============================] - 20s 168ms/step - loss: 0.2262 - accuracy: 0.9441 - val_loss: 0.3677 - val_accuracy: 0.9018\n",
      "Epoch 3/50\n",
      "118/118 [==============================] - 21s 176ms/step - loss: 0.2232 - accuracy: 0.9446 - val_loss: 0.3650 - val_accuracy: 0.9045\n",
      "Epoch 4/50\n",
      "118/118 [==============================] - 21s 177ms/step - loss: 0.2250 - accuracy: 0.9435 - val_loss: 0.3661 - val_accuracy: 0.9022\n",
      "Epoch 5/50\n",
      "118/118 [==============================] - 21s 179ms/step - loss: 0.2223 - accuracy: 0.9437 - val_loss: 0.3660 - val_accuracy: 0.9051\n",
      "Epoch 6/50\n",
      "118/118 [==============================] - 21s 182ms/step - loss: 0.2216 - accuracy: 0.9447 - val_loss: 0.3690 - val_accuracy: 0.9043\n",
      "Epoch 7/50\n",
      "118/118 [==============================] - 22s 185ms/step - loss: 0.2236 - accuracy: 0.9442 - val_loss: 0.3673 - val_accuracy: 0.9032\n",
      "Epoch 8/50\n",
      "118/118 [==============================] - 21s 175ms/step - loss: 0.2205 - accuracy: 0.9454 - val_loss: 0.3673 - val_accuracy: 0.9056\n",
      "Epoch 9/50\n",
      "118/118 [==============================] - 21s 181ms/step - loss: 0.2197 - accuracy: 0.9453 - val_loss: 0.3674 - val_accuracy: 0.9029\n",
      "Epoch 10/50\n",
      "118/118 [==============================] - 21s 176ms/step - loss: 0.2187 - accuracy: 0.9461 - val_loss: 0.3651 - val_accuracy: 0.9047\n",
      "Epoch 11/50\n",
      "118/118 [==============================] - 21s 181ms/step - loss: 0.2197 - accuracy: 0.9454 - val_loss: 0.3683 - val_accuracy: 0.9054\n",
      "Epoch 12/50\n",
      "118/118 [==============================] - 21s 178ms/step - loss: 0.2205 - accuracy: 0.9448 - val_loss: 0.3674 - val_accuracy: 0.9041\n",
      "Epoch 13/50\n",
      "118/118 [==============================] - 20s 172ms/step - loss: 0.2183 - accuracy: 0.9455 - val_loss: 0.3697 - val_accuracy: 0.9014\n",
      "Epoch 14/50\n",
      "118/118 [==============================] - 21s 180ms/step - loss: 0.2191 - accuracy: 0.9468 - val_loss: 0.3651 - val_accuracy: 0.9038\n",
      "Epoch 15/50\n",
      "118/118 [==============================] - 20s 172ms/step - loss: 0.2165 - accuracy: 0.9467 - val_loss: 0.3736 - val_accuracy: 0.9029\n",
      "Epoch 16/50\n",
      "118/118 [==============================] - 21s 176ms/step - loss: 0.2176 - accuracy: 0.9462 - val_loss: 0.3704 - val_accuracy: 0.9034\n",
      "Epoch 17/50\n",
      "118/118 [==============================] - 20s 170ms/step - loss: 0.2208 - accuracy: 0.9457 - val_loss: 0.3681 - val_accuracy: 0.9022\n",
      "Epoch 18/50\n",
      "118/118 [==============================] - 20s 171ms/step - loss: 0.2154 - accuracy: 0.9461 - val_loss: 0.3658 - val_accuracy: 0.9045\n",
      "Epoch 19/50\n",
      "118/118 [==============================] - 20s 168ms/step - loss: 0.2162 - accuracy: 0.9457 - val_loss: 0.3667 - val_accuracy: 0.9050\n",
      "Epoch 20/50\n",
      "118/118 [==============================] - 22s 184ms/step - loss: 0.2154 - accuracy: 0.9469 - val_loss: 0.3776 - val_accuracy: 0.9040\n",
      "Epoch 21/50\n",
      "118/118 [==============================] - 20s 171ms/step - loss: 0.2196 - accuracy: 0.9449 - val_loss: 0.3748 - val_accuracy: 0.9035\n",
      "Epoch 22/50\n",
      "118/118 [==============================] - 19s 165ms/step - loss: 0.2156 - accuracy: 0.9470 - val_loss: 0.3643 - val_accuracy: 0.9051\n",
      "Epoch 23/50\n",
      "118/118 [==============================] - 20s 167ms/step - loss: 0.2165 - accuracy: 0.9467 - val_loss: 0.3686 - val_accuracy: 0.9040\n",
      "Epoch 24/50\n",
      "118/118 [==============================] - 21s 175ms/step - loss: 0.2125 - accuracy: 0.9467 - val_loss: 0.3790 - val_accuracy: 0.9013\n",
      "Epoch 25/50\n",
      "118/118 [==============================] - 20s 172ms/step - loss: 0.2164 - accuracy: 0.9464 - val_loss: 0.3652 - val_accuracy: 0.9048\n",
      "Epoch 26/50\n",
      "118/118 [==============================] - 21s 175ms/step - loss: 0.2139 - accuracy: 0.9471 - val_loss: 0.3731 - val_accuracy: 0.9029\n",
      "Epoch 27/50\n",
      "118/118 [==============================] - 21s 177ms/step - loss: 0.2159 - accuracy: 0.9469 - val_loss: 0.3674 - val_accuracy: 0.9049\n",
      "Epoch 28/50\n",
      "118/118 [==============================] - 22s 185ms/step - loss: 0.2133 - accuracy: 0.9476 - val_loss: 0.3730 - val_accuracy: 0.9042\n",
      "Epoch 29/50\n",
      "118/118 [==============================] - 20s 169ms/step - loss: 0.2138 - accuracy: 0.9466 - val_loss: 0.3694 - val_accuracy: 0.9047\n",
      "Epoch 30/50\n",
      "118/118 [==============================] - 20s 169ms/step - loss: 0.2133 - accuracy: 0.9474 - val_loss: 0.3721 - val_accuracy: 0.9026\n",
      "Epoch 31/50\n",
      "118/118 [==============================] - 21s 174ms/step - loss: 0.2129 - accuracy: 0.9469 - val_loss: 0.3711 - val_accuracy: 0.9033\n",
      "Epoch 32/50\n",
      "118/118 [==============================] - 21s 178ms/step - loss: 0.2115 - accuracy: 0.9484 - val_loss: 0.3789 - val_accuracy: 0.9021\n",
      "Epoch 33/50\n",
      "118/118 [==============================] - 19s 164ms/step - loss: 0.2129 - accuracy: 0.9477 - val_loss: 0.3719 - val_accuracy: 0.9060\n",
      "Epoch 34/50\n",
      "118/118 [==============================] - 21s 179ms/step - loss: 0.2122 - accuracy: 0.9479 - val_loss: 0.3688 - val_accuracy: 0.9034\n",
      "Epoch 35/50\n",
      "118/118 [==============================] - 20s 167ms/step - loss: 0.2132 - accuracy: 0.9470 - val_loss: 0.3783 - val_accuracy: 0.9025\n",
      "Epoch 36/50\n",
      "118/118 [==============================] - 21s 178ms/step - loss: 0.2118 - accuracy: 0.9465 - val_loss: 0.3732 - val_accuracy: 0.9032\n",
      "Epoch 37/50\n",
      "118/118 [==============================] - 19s 165ms/step - loss: 0.2122 - accuracy: 0.9468 - val_loss: 0.3730 - val_accuracy: 0.9023\n",
      "Epoch 38/50\n",
      "118/118 [==============================] - 20s 168ms/step - loss: 0.2117 - accuracy: 0.9479 - val_loss: 0.3712 - val_accuracy: 0.9036\n",
      "Epoch 39/50\n",
      "118/118 [==============================] - 20s 167ms/step - loss: 0.2094 - accuracy: 0.9489 - val_loss: 0.3733 - val_accuracy: 0.9045\n",
      "Epoch 40/50\n",
      "118/118 [==============================] - 22s 186ms/step - loss: 0.2129 - accuracy: 0.9480s - loss: 0.2131 - accuracy\n"
     ]
    },
    {
     "ename": "KeyboardInterrupt",
     "evalue": "",
     "output_type": "error",
     "traceback": [
      "\u001b[1;31m---------------------------------------------------------------------------\u001b[0m",
      "\u001b[1;31mKeyboardInterrupt\u001b[0m                         Traceback (most recent call last)",
      "\u001b[1;32m<ipython-input-17-8c3266ae95e4>\u001b[0m in \u001b[0;36m<module>\u001b[1;34m\u001b[0m\n\u001b[0;32m     21\u001b[0m history = model.fit_generator(train_datagen.flow(trainX, trainY,\n\u001b[0;32m     22\u001b[0m                                  batch_size=batch_size),\n\u001b[1;32m---> 23\u001b[1;33m                     \u001b[0mepochs\u001b[0m\u001b[1;33m=\u001b[0m\u001b[0mepochs\u001b[0m\u001b[1;33m,\u001b[0m\u001b[0mvalidation_data\u001b[0m\u001b[1;33m=\u001b[0m\u001b[0mtest_datagen\u001b[0m\u001b[1;33m.\u001b[0m\u001b[0mflow\u001b[0m\u001b[1;33m(\u001b[0m\u001b[0mtestX\u001b[0m\u001b[1;33m,\u001b[0m \u001b[0mtestY\u001b[0m\u001b[1;33m)\u001b[0m\u001b[1;33m,\u001b[0m\u001b[0mworkers\u001b[0m\u001b[1;33m=\u001b[0m\u001b[1;36m4\u001b[0m\u001b[1;33m\u001b[0m\u001b[1;33m\u001b[0m\u001b[0m\n\u001b[0m\u001b[0;32m     24\u001b[0m                    )\n",
      "\u001b[1;32mc:\\users\\user\\anaconda3\\envs\\myenv\\lib\\site-packages\\tensorflow_core\\python\\util\\deprecation.py\u001b[0m in \u001b[0;36mnew_func\u001b[1;34m(*args, **kwargs)\u001b[0m\n\u001b[0;32m    322\u001b[0m               \u001b[1;34m'in a future version'\u001b[0m \u001b[1;32mif\u001b[0m \u001b[0mdate\u001b[0m \u001b[1;32mis\u001b[0m \u001b[1;32mNone\u001b[0m \u001b[1;32melse\u001b[0m \u001b[1;33m(\u001b[0m\u001b[1;34m'after %s'\u001b[0m \u001b[1;33m%\u001b[0m \u001b[0mdate\u001b[0m\u001b[1;33m)\u001b[0m\u001b[1;33m,\u001b[0m\u001b[1;33m\u001b[0m\u001b[1;33m\u001b[0m\u001b[0m\n\u001b[0;32m    323\u001b[0m               instructions)\n\u001b[1;32m--> 324\u001b[1;33m       \u001b[1;32mreturn\u001b[0m \u001b[0mfunc\u001b[0m\u001b[1;33m(\u001b[0m\u001b[1;33m*\u001b[0m\u001b[0margs\u001b[0m\u001b[1;33m,\u001b[0m \u001b[1;33m**\u001b[0m\u001b[0mkwargs\u001b[0m\u001b[1;33m)\u001b[0m\u001b[1;33m\u001b[0m\u001b[1;33m\u001b[0m\u001b[0m\n\u001b[0m\u001b[0;32m    325\u001b[0m     return tf_decorator.make_decorator(\n\u001b[0;32m    326\u001b[0m         \u001b[0mfunc\u001b[0m\u001b[1;33m,\u001b[0m \u001b[0mnew_func\u001b[0m\u001b[1;33m,\u001b[0m \u001b[1;34m'deprecated'\u001b[0m\u001b[1;33m,\u001b[0m\u001b[1;33m\u001b[0m\u001b[1;33m\u001b[0m\u001b[0m\n",
      "\u001b[1;32mc:\\users\\user\\anaconda3\\envs\\myenv\\lib\\site-packages\\tensorflow_core\\python\\keras\\engine\\training.py\u001b[0m in \u001b[0;36mfit_generator\u001b[1;34m(self, generator, steps_per_epoch, epochs, verbose, callbacks, validation_data, validation_steps, validation_freq, class_weight, max_queue_size, workers, use_multiprocessing, shuffle, initial_epoch)\u001b[0m\n\u001b[0;32m   1304\u001b[0m         \u001b[0muse_multiprocessing\u001b[0m\u001b[1;33m=\u001b[0m\u001b[0muse_multiprocessing\u001b[0m\u001b[1;33m,\u001b[0m\u001b[1;33m\u001b[0m\u001b[1;33m\u001b[0m\u001b[0m\n\u001b[0;32m   1305\u001b[0m         \u001b[0mshuffle\u001b[0m\u001b[1;33m=\u001b[0m\u001b[0mshuffle\u001b[0m\u001b[1;33m,\u001b[0m\u001b[1;33m\u001b[0m\u001b[1;33m\u001b[0m\u001b[0m\n\u001b[1;32m-> 1306\u001b[1;33m         initial_epoch=initial_epoch)\n\u001b[0m\u001b[0;32m   1307\u001b[0m \u001b[1;33m\u001b[0m\u001b[0m\n\u001b[0;32m   1308\u001b[0m   @deprecation.deprecated(\n",
      "\u001b[1;32mc:\\users\\user\\anaconda3\\envs\\myenv\\lib\\site-packages\\tensorflow_core\\python\\keras\\engine\\training.py\u001b[0m in \u001b[0;36mfit\u001b[1;34m(self, x, y, batch_size, epochs, verbose, callbacks, validation_split, validation_data, shuffle, class_weight, sample_weight, initial_epoch, steps_per_epoch, validation_steps, validation_freq, max_queue_size, workers, use_multiprocessing, **kwargs)\u001b[0m\n\u001b[0;32m    817\u001b[0m         \u001b[0mmax_queue_size\u001b[0m\u001b[1;33m=\u001b[0m\u001b[0mmax_queue_size\u001b[0m\u001b[1;33m,\u001b[0m\u001b[1;33m\u001b[0m\u001b[1;33m\u001b[0m\u001b[0m\n\u001b[0;32m    818\u001b[0m         \u001b[0mworkers\u001b[0m\u001b[1;33m=\u001b[0m\u001b[0mworkers\u001b[0m\u001b[1;33m,\u001b[0m\u001b[1;33m\u001b[0m\u001b[1;33m\u001b[0m\u001b[0m\n\u001b[1;32m--> 819\u001b[1;33m         use_multiprocessing=use_multiprocessing)\n\u001b[0m\u001b[0;32m    820\u001b[0m \u001b[1;33m\u001b[0m\u001b[0m\n\u001b[0;32m    821\u001b[0m   def evaluate(self,\n",
      "\u001b[1;32mc:\\users\\user\\anaconda3\\envs\\myenv\\lib\\site-packages\\tensorflow_core\\python\\keras\\engine\\training_v2.py\u001b[0m in \u001b[0;36mfit\u001b[1;34m(self, model, x, y, batch_size, epochs, verbose, callbacks, validation_split, validation_data, shuffle, class_weight, sample_weight, initial_epoch, steps_per_epoch, validation_steps, validation_freq, max_queue_size, workers, use_multiprocessing, **kwargs)\u001b[0m\n\u001b[0;32m    393\u001b[0m                       \u001b[0mmode\u001b[0m\u001b[1;33m=\u001b[0m\u001b[0mModeKeys\u001b[0m\u001b[1;33m.\u001b[0m\u001b[0mTEST\u001b[0m\u001b[1;33m,\u001b[0m\u001b[1;33m\u001b[0m\u001b[1;33m\u001b[0m\u001b[0m\n\u001b[0;32m    394\u001b[0m                       \u001b[0mtraining_context\u001b[0m\u001b[1;33m=\u001b[0m\u001b[0meval_context\u001b[0m\u001b[1;33m,\u001b[0m\u001b[1;33m\u001b[0m\u001b[1;33m\u001b[0m\u001b[0m\n\u001b[1;32m--> 395\u001b[1;33m                       total_epochs=1)\n\u001b[0m\u001b[0;32m    396\u001b[0m                   cbks.make_logs(model, epoch_logs, eval_result, ModeKeys.TEST,\n\u001b[0;32m    397\u001b[0m                                  prefix='val_')\n",
      "\u001b[1;32mc:\\users\\user\\anaconda3\\envs\\myenv\\lib\\site-packages\\tensorflow_core\\python\\keras\\engine\\training_v2.py\u001b[0m in \u001b[0;36mrun_one_epoch\u001b[1;34m(model, iterator, execution_function, dataset_size, batch_size, strategy, steps_per_epoch, num_samples, mode, training_context, total_epochs)\u001b[0m\n\u001b[0;32m    126\u001b[0m         step=step, mode=mode, size=current_batch_size) as batch_logs:\n\u001b[0;32m    127\u001b[0m       \u001b[1;32mtry\u001b[0m\u001b[1;33m:\u001b[0m\u001b[1;33m\u001b[0m\u001b[1;33m\u001b[0m\u001b[0m\n\u001b[1;32m--> 128\u001b[1;33m         \u001b[0mbatch_outs\u001b[0m \u001b[1;33m=\u001b[0m \u001b[0mexecution_function\u001b[0m\u001b[1;33m(\u001b[0m\u001b[0miterator\u001b[0m\u001b[1;33m)\u001b[0m\u001b[1;33m\u001b[0m\u001b[1;33m\u001b[0m\u001b[0m\n\u001b[0m\u001b[0;32m    129\u001b[0m       \u001b[1;32mexcept\u001b[0m \u001b[1;33m(\u001b[0m\u001b[0mStopIteration\u001b[0m\u001b[1;33m,\u001b[0m \u001b[0merrors\u001b[0m\u001b[1;33m.\u001b[0m\u001b[0mOutOfRangeError\u001b[0m\u001b[1;33m)\u001b[0m\u001b[1;33m:\u001b[0m\u001b[1;33m\u001b[0m\u001b[1;33m\u001b[0m\u001b[0m\n\u001b[0;32m    130\u001b[0m         \u001b[1;31m# TODO(kaftan): File bug about tf function and errors.OutOfRangeError?\u001b[0m\u001b[1;33m\u001b[0m\u001b[1;33m\u001b[0m\u001b[1;33m\u001b[0m\u001b[0m\n",
      "\u001b[1;32mc:\\users\\user\\anaconda3\\envs\\myenv\\lib\\site-packages\\tensorflow_core\\python\\keras\\engine\\training_v2_utils.py\u001b[0m in \u001b[0;36mexecution_function\u001b[1;34m(input_fn)\u001b[0m\n\u001b[0;32m     96\u001b[0m     \u001b[1;31m# `numpy` translates Tensors to values in Eager mode.\u001b[0m\u001b[1;33m\u001b[0m\u001b[1;33m\u001b[0m\u001b[1;33m\u001b[0m\u001b[0m\n\u001b[0;32m     97\u001b[0m     return nest.map_structure(_non_none_constant_value,\n\u001b[1;32m---> 98\u001b[1;33m                               distributed_function(input_fn))\n\u001b[0m\u001b[0;32m     99\u001b[0m \u001b[1;33m\u001b[0m\u001b[0m\n\u001b[0;32m    100\u001b[0m   \u001b[1;32mreturn\u001b[0m \u001b[0mexecution_function\u001b[0m\u001b[1;33m\u001b[0m\u001b[1;33m\u001b[0m\u001b[0m\n",
      "\u001b[1;32mc:\\users\\user\\anaconda3\\envs\\myenv\\lib\\site-packages\\tensorflow_core\\python\\eager\\def_function.py\u001b[0m in \u001b[0;36m__call__\u001b[1;34m(self, *args, **kwds)\u001b[0m\n\u001b[0;32m    566\u001b[0m         \u001b[0mxla_context\u001b[0m\u001b[1;33m.\u001b[0m\u001b[0mExit\u001b[0m\u001b[1;33m(\u001b[0m\u001b[1;33m)\u001b[0m\u001b[1;33m\u001b[0m\u001b[1;33m\u001b[0m\u001b[0m\n\u001b[0;32m    567\u001b[0m     \u001b[1;32melse\u001b[0m\u001b[1;33m:\u001b[0m\u001b[1;33m\u001b[0m\u001b[1;33m\u001b[0m\u001b[0m\n\u001b[1;32m--> 568\u001b[1;33m       \u001b[0mresult\u001b[0m \u001b[1;33m=\u001b[0m \u001b[0mself\u001b[0m\u001b[1;33m.\u001b[0m\u001b[0m_call\u001b[0m\u001b[1;33m(\u001b[0m\u001b[1;33m*\u001b[0m\u001b[0margs\u001b[0m\u001b[1;33m,\u001b[0m \u001b[1;33m**\u001b[0m\u001b[0mkwds\u001b[0m\u001b[1;33m)\u001b[0m\u001b[1;33m\u001b[0m\u001b[1;33m\u001b[0m\u001b[0m\n\u001b[0m\u001b[0;32m    569\u001b[0m \u001b[1;33m\u001b[0m\u001b[0m\n\u001b[0;32m    570\u001b[0m     \u001b[1;32mif\u001b[0m \u001b[0mtracing_count\u001b[0m \u001b[1;33m==\u001b[0m \u001b[0mself\u001b[0m\u001b[1;33m.\u001b[0m\u001b[0m_get_tracing_count\u001b[0m\u001b[1;33m(\u001b[0m\u001b[1;33m)\u001b[0m\u001b[1;33m:\u001b[0m\u001b[1;33m\u001b[0m\u001b[1;33m\u001b[0m\u001b[0m\n",
      "\u001b[1;32mc:\\users\\user\\anaconda3\\envs\\myenv\\lib\\site-packages\\tensorflow_core\\python\\eager\\def_function.py\u001b[0m in \u001b[0;36m_call\u001b[1;34m(self, *args, **kwds)\u001b[0m\n\u001b[0;32m    604\u001b[0m       \u001b[1;31m# In this case we have not created variables on the first call. So we can\u001b[0m\u001b[1;33m\u001b[0m\u001b[1;33m\u001b[0m\u001b[1;33m\u001b[0m\u001b[0m\n\u001b[0;32m    605\u001b[0m       \u001b[1;31m# run the first trace but we should fail if variables are created.\u001b[0m\u001b[1;33m\u001b[0m\u001b[1;33m\u001b[0m\u001b[1;33m\u001b[0m\u001b[0m\n\u001b[1;32m--> 606\u001b[1;33m       \u001b[0mresults\u001b[0m \u001b[1;33m=\u001b[0m \u001b[0mself\u001b[0m\u001b[1;33m.\u001b[0m\u001b[0m_stateful_fn\u001b[0m\u001b[1;33m(\u001b[0m\u001b[1;33m*\u001b[0m\u001b[0margs\u001b[0m\u001b[1;33m,\u001b[0m \u001b[1;33m**\u001b[0m\u001b[0mkwds\u001b[0m\u001b[1;33m)\u001b[0m\u001b[1;33m\u001b[0m\u001b[1;33m\u001b[0m\u001b[0m\n\u001b[0m\u001b[0;32m    607\u001b[0m       \u001b[1;32mif\u001b[0m \u001b[0mself\u001b[0m\u001b[1;33m.\u001b[0m\u001b[0m_created_variables\u001b[0m\u001b[1;33m:\u001b[0m\u001b[1;33m\u001b[0m\u001b[1;33m\u001b[0m\u001b[0m\n\u001b[0;32m    608\u001b[0m         raise ValueError(\"Creating variables on a non-first call to a function\"\n",
      "\u001b[1;32mc:\\users\\user\\anaconda3\\envs\\myenv\\lib\\site-packages\\tensorflow_core\\python\\eager\\function.py\u001b[0m in \u001b[0;36m__call__\u001b[1;34m(self, *args, **kwargs)\u001b[0m\n\u001b[0;32m   2361\u001b[0m     \u001b[1;32mwith\u001b[0m \u001b[0mself\u001b[0m\u001b[1;33m.\u001b[0m\u001b[0m_lock\u001b[0m\u001b[1;33m:\u001b[0m\u001b[1;33m\u001b[0m\u001b[1;33m\u001b[0m\u001b[0m\n\u001b[0;32m   2362\u001b[0m       \u001b[0mgraph_function\u001b[0m\u001b[1;33m,\u001b[0m \u001b[0margs\u001b[0m\u001b[1;33m,\u001b[0m \u001b[0mkwargs\u001b[0m \u001b[1;33m=\u001b[0m \u001b[0mself\u001b[0m\u001b[1;33m.\u001b[0m\u001b[0m_maybe_define_function\u001b[0m\u001b[1;33m(\u001b[0m\u001b[0margs\u001b[0m\u001b[1;33m,\u001b[0m \u001b[0mkwargs\u001b[0m\u001b[1;33m)\u001b[0m\u001b[1;33m\u001b[0m\u001b[1;33m\u001b[0m\u001b[0m\n\u001b[1;32m-> 2363\u001b[1;33m     \u001b[1;32mreturn\u001b[0m \u001b[0mgraph_function\u001b[0m\u001b[1;33m.\u001b[0m\u001b[0m_filtered_call\u001b[0m\u001b[1;33m(\u001b[0m\u001b[0margs\u001b[0m\u001b[1;33m,\u001b[0m \u001b[0mkwargs\u001b[0m\u001b[1;33m)\u001b[0m  \u001b[1;31m# pylint: disable=protected-access\u001b[0m\u001b[1;33m\u001b[0m\u001b[1;33m\u001b[0m\u001b[0m\n\u001b[0m\u001b[0;32m   2364\u001b[0m \u001b[1;33m\u001b[0m\u001b[0m\n\u001b[0;32m   2365\u001b[0m   \u001b[1;33m@\u001b[0m\u001b[0mproperty\u001b[0m\u001b[1;33m\u001b[0m\u001b[1;33m\u001b[0m\u001b[0m\n",
      "\u001b[1;32mc:\\users\\user\\anaconda3\\envs\\myenv\\lib\\site-packages\\tensorflow_core\\python\\eager\\function.py\u001b[0m in \u001b[0;36m_filtered_call\u001b[1;34m(self, args, kwargs)\u001b[0m\n\u001b[0;32m   1609\u001b[0m          if isinstance(t, (ops.Tensor,\n\u001b[0;32m   1610\u001b[0m                            resource_variable_ops.BaseResourceVariable))),\n\u001b[1;32m-> 1611\u001b[1;33m         self.captured_inputs)\n\u001b[0m\u001b[0;32m   1612\u001b[0m \u001b[1;33m\u001b[0m\u001b[0m\n\u001b[0;32m   1613\u001b[0m   \u001b[1;32mdef\u001b[0m \u001b[0m_call_flat\u001b[0m\u001b[1;33m(\u001b[0m\u001b[0mself\u001b[0m\u001b[1;33m,\u001b[0m \u001b[0margs\u001b[0m\u001b[1;33m,\u001b[0m \u001b[0mcaptured_inputs\u001b[0m\u001b[1;33m,\u001b[0m \u001b[0mcancellation_manager\u001b[0m\u001b[1;33m=\u001b[0m\u001b[1;32mNone\u001b[0m\u001b[1;33m)\u001b[0m\u001b[1;33m:\u001b[0m\u001b[1;33m\u001b[0m\u001b[1;33m\u001b[0m\u001b[0m\n",
      "\u001b[1;32mc:\\users\\user\\anaconda3\\envs\\myenv\\lib\\site-packages\\tensorflow_core\\python\\eager\\function.py\u001b[0m in \u001b[0;36m_call_flat\u001b[1;34m(self, args, captured_inputs, cancellation_manager)\u001b[0m\n\u001b[0;32m   1690\u001b[0m       \u001b[1;31m# No tape is watching; skip to running the function.\u001b[0m\u001b[1;33m\u001b[0m\u001b[1;33m\u001b[0m\u001b[1;33m\u001b[0m\u001b[0m\n\u001b[0;32m   1691\u001b[0m       return self._build_call_outputs(self._inference_function.call(\n\u001b[1;32m-> 1692\u001b[1;33m           ctx, args, cancellation_manager=cancellation_manager))\n\u001b[0m\u001b[0;32m   1693\u001b[0m     forward_backward = self._select_forward_and_backward_functions(\n\u001b[0;32m   1694\u001b[0m         \u001b[0margs\u001b[0m\u001b[1;33m,\u001b[0m\u001b[1;33m\u001b[0m\u001b[1;33m\u001b[0m\u001b[0m\n",
      "\u001b[1;32mc:\\users\\user\\anaconda3\\envs\\myenv\\lib\\site-packages\\tensorflow_core\\python\\eager\\function.py\u001b[0m in \u001b[0;36mcall\u001b[1;34m(self, ctx, args, cancellation_manager)\u001b[0m\n\u001b[0;32m    543\u001b[0m               \u001b[0minputs\u001b[0m\u001b[1;33m=\u001b[0m\u001b[0margs\u001b[0m\u001b[1;33m,\u001b[0m\u001b[1;33m\u001b[0m\u001b[1;33m\u001b[0m\u001b[0m\n\u001b[0;32m    544\u001b[0m               \u001b[0mattrs\u001b[0m\u001b[1;33m=\u001b[0m\u001b[1;33m(\u001b[0m\u001b[1;34m\"executor_type\"\u001b[0m\u001b[1;33m,\u001b[0m \u001b[0mexecutor_type\u001b[0m\u001b[1;33m,\u001b[0m \u001b[1;34m\"config_proto\"\u001b[0m\u001b[1;33m,\u001b[0m \u001b[0mconfig\u001b[0m\u001b[1;33m)\u001b[0m\u001b[1;33m,\u001b[0m\u001b[1;33m\u001b[0m\u001b[1;33m\u001b[0m\u001b[0m\n\u001b[1;32m--> 545\u001b[1;33m               ctx=ctx)\n\u001b[0m\u001b[0;32m    546\u001b[0m         \u001b[1;32melse\u001b[0m\u001b[1;33m:\u001b[0m\u001b[1;33m\u001b[0m\u001b[1;33m\u001b[0m\u001b[0m\n\u001b[0;32m    547\u001b[0m           outputs = execute.execute_with_cancellation(\n",
      "\u001b[1;32mc:\\users\\user\\anaconda3\\envs\\myenv\\lib\\site-packages\\tensorflow_core\\python\\eager\\execute.py\u001b[0m in \u001b[0;36mquick_execute\u001b[1;34m(op_name, num_outputs, inputs, attrs, ctx, name)\u001b[0m\n\u001b[0;32m     59\u001b[0m     tensors = pywrap_tensorflow.TFE_Py_Execute(ctx._handle, device_name,\n\u001b[0;32m     60\u001b[0m                                                \u001b[0mop_name\u001b[0m\u001b[1;33m,\u001b[0m \u001b[0minputs\u001b[0m\u001b[1;33m,\u001b[0m \u001b[0mattrs\u001b[0m\u001b[1;33m,\u001b[0m\u001b[1;33m\u001b[0m\u001b[1;33m\u001b[0m\u001b[0m\n\u001b[1;32m---> 61\u001b[1;33m                                                num_outputs)\n\u001b[0m\u001b[0;32m     62\u001b[0m   \u001b[1;32mexcept\u001b[0m \u001b[0mcore\u001b[0m\u001b[1;33m.\u001b[0m\u001b[0m_NotOkStatusException\u001b[0m \u001b[1;32mas\u001b[0m \u001b[0me\u001b[0m\u001b[1;33m:\u001b[0m\u001b[1;33m\u001b[0m\u001b[1;33m\u001b[0m\u001b[0m\n\u001b[0;32m     63\u001b[0m     \u001b[1;32mif\u001b[0m \u001b[0mname\u001b[0m \u001b[1;32mis\u001b[0m \u001b[1;32mnot\u001b[0m \u001b[1;32mNone\u001b[0m\u001b[1;33m:\u001b[0m\u001b[1;33m\u001b[0m\u001b[1;33m\u001b[0m\u001b[0m\n",
      "\u001b[1;31mKeyboardInterrupt\u001b[0m: "
     ]
    }
   ],
   "source": [
    "epochs = 50\n",
    "batch_size = 512\n",
    "check_point_path = 'Models/checkpoints'\n",
    "### Instantiate Callbacks\n",
    "callback1 = tf.keras.callbacks.LearningRateScheduler(scheduler)\n",
    "callback2  = tf.keras.callbacks.ReduceLROnPlateau(monitor='val_loss', factor=0.2,\n",
    "                                                  patience=5, min_lr=0.001)\n",
    "callback3 = tf.keras.callbacks.EarlyStopping(\n",
    "    monitor='val_loss', min_delta=0.0001, patience=5, verbose=1, mode='auto',\n",
    "    baseline=None,  restore_best_weights=True\n",
    ")\n",
    "callback4 = tf.keras.callbacks.ModelCheckpoint(\n",
    "    check_point_path, monitor='val_loss', verbose=0, save_best_only=False,\n",
    "    save_weights_only=False, mode='auto', save_freq='epoch'\n",
    ")\n",
    "lr = 0.00001\n",
    "###Compile and run Model\n",
    "model.compile(optimizer = tf.keras.optimizers.Adam(lr),\n",
    "              loss = \"categorical_crossentropy\",  metrics= ['accuracy'])\n",
    "\n",
    "history = model.fit_generator(train_datagen.flow(trainX, trainY,\n",
    "                                 batch_size=batch_size),\n",
    "                    epochs=epochs,validation_data=test_datagen.flow(testX, testY),workers=4\n",
    "                   )"
   ]
  },
  {
   "cell_type": "code",
   "execution_count": 22,
   "metadata": {},
   "outputs": [
    {
     "name": "stdout",
     "output_type": "stream",
     "text": [
      "WARNING:tensorflow:sample_weight modes were coerced from\n",
      "  ...\n",
      "    to  \n",
      "  ['...']\n",
      "313/313 [==============================] - ETA: 0s - loss: 0.3733 - accuracy: 0.90 - 22s 69ms/step - loss: 0.3750 - accuracy: 0.9032\n"
     ]
    },
    {
     "data": {
      "text/plain": [
       "[0.3750247732518961, 0.9032]"
      ]
     },
     "execution_count": 22,
     "metadata": {},
     "output_type": "execute_result"
    }
   ],
   "source": [
    "model.evaluate(test_datagen.flow(testX, testY))"
   ]
  },
  {
   "cell_type": "code",
   "execution_count": 18,
   "metadata": {},
   "outputs": [
    {
     "name": "stdout",
     "output_type": "stream",
     "text": [
      "50\n"
     ]
    },
    {
     "data": {
      "text/plain": [
       "Text(0, 0.5, 'Validation Loss')"
      ]
     },
     "execution_count": 18,
     "metadata": {},
     "output_type": "execute_result"
    },
    {
     "data": {
      "image/png": "[encoded data removed]",
      "text/plain": [
       "<Figure size 432x288 with 1 Axes>"
      ]
     },
     "metadata": {
      "needs_background": "light"
     },
     "output_type": "display_data"
    }
   ],
   "source": [
    "num = len(history.history['val_loss'])\n",
    "type(history.history)\n",
    "history.history.keys()\n",
    "print(len(history.history['val_loss']))\n",
    "plt.plot([i for i in range(len(history.history['val_loss']))],history.history['val_loss'])\n",
    "plt.xlabel(\"# Of Epochs\")\n",
    "plt.ylabel(\"Validation Loss\")"
   ]
  },
  {
   "cell_type": "code",
   "execution_count": 19,
   "metadata": {},
   "outputs": [
    {
     "name": "stdout",
     "output_type": "stream",
     "text": [
      "dict_keys(['loss', 'accuracy', 'val_loss', 'val_accuracy'])\n",
      "50\n"
     ]
    },
    {
     "data": {
      "text/plain": [
       "Text(0, 0.5, 'Loss')"
      ]
     },
     "execution_count": 19,
     "metadata": {},
     "output_type": "execute_result"
    },
    {
     "data": {
      "image/png": "[encoded data removed]",
      "text/plain": [
       "<Figure size 432x288 with 1 Axes>"
      ]
     },
     "metadata": {
      "needs_background": "light"
     },
     "output_type": "display_data"
    }
   ],
   "source": [
    "type(history.history)\n",
    "print(history.history.keys())\n",
    "print(len(history.history['val_loss']))\n",
    "plt.plot([i for i in range(len(history.history['loss']))],history.history['loss'])\n",
    "plt.xlabel(\"# Of Epochs\")\n",
    "plt.ylabel(\"Loss\")"
   ]
  },
  {
   "cell_type": "code",
   "execution_count": 20,
   "metadata": {},
   "outputs": [
    {
     "data": {
      "text/plain": [
       "<function matplotlib.pyplot.ylabel(ylabel, fontdict=None, labelpad=None, **kwargs)>"
      ]
     },
     "execution_count": 20,
     "metadata": {},
     "output_type": "execute_result"
    },
    {
     "data": {
      "image/png": "[encoded data removed]",
      "text/plain": [
       "<Figure size 432x288 with 1 Axes>"
      ]
     },
     "metadata": {
      "needs_background": "light"
     },
     "output_type": "display_data"
    }
   ],
   "source": [
    "plt.plot([i for i in range(len(history.history['loss']))],history.history['loss'])\n",
    "plt.plot([i for i in range(len(history.history['val_loss']))],history.history['val_loss'])\n",
    "plt.legend(['Training Loss','Validation Loss'])\n",
    "plt.xlabel(\"# Of Epochs\")\n",
    "plt.ylabel"
   ]
  },
  {
   "cell_type": "code",
   "execution_count": 24,
   "metadata": {},
   "outputs": [
    {
     "name": "stdout",
     "output_type": "stream",
     "text": [
      "WARNING:tensorflow:sample_weight modes were coerced from\n",
      "  ...\n",
      "    to  \n",
      "  ['...']\n",
      "313/313 [==============================] - 22s 69ms/step - loss: 0.3737 - accuracy: 0.9032\n",
      "accuracy: 90.32%\n",
      "Saved model to disk\n"
     ]
    }
   ],
   "source": [
    "from tensorflow.keras.utils import plot_model\n",
    "plot_model(model, to_file='model_fashion_90acc1.png')\n",
    "\n",
    "\n",
    "scores = model.evaluate(test_datagen.flow(testX, testY), verbose=1)\n",
    "print(\"%s: %.2f%%\" % (model.metrics_names[1], scores[1]*100))\n",
    "\n",
    "\n",
    "# Serialize model to JSON\n",
    "model_json = model.to_json()\n",
    "with open(\"Models/model_fashion_90acc1.json\", \"w\") as json_file:\n",
    "    json_file.write(model_json)\n",
    "# Serialize weights to HDF5\n",
    "model.save_weights(\"Models/model_fashion_90acc1.h5\")\n",
    "print(\"Saved model to disk\")\n"
   ]
  },
  {
   "cell_type": "code",
   "execution_count": 25,
   "metadata": {},
   "outputs": [
    {
     "data": {
      "image/png": "[encoded data removed]",
      "text/plain": [
       "<IPython.core.display.Image object>"
      ]
     },
     "execution_count": 25,
     "metadata": {},
     "output_type": "execute_result"
    }
   ],
   "source": [
    "from tensorflow.keras.utils import plot_model\n",
    "plot_model(model, to_file='model.png')"
   ]
  },
  {
   "cell_type": "code",
   "execution_count": 26,
   "metadata": {},
   "outputs": [
    {
     "name": "stdout",
     "output_type": "stream",
     "text": [
      "-Confusion matrix\n"
     ]
    },
    {
     "ename": "NameError",
     "evalue": "name 'ytest' is not defined",
     "output_type": "error",
     "traceback": [
      "\u001b[1;31m---------------------------------------------------------------------------\u001b[0m",
      "\u001b[1;31mNameError\u001b[0m                                 Traceback (most recent call last)",
      "\u001b[1;32m<ipython-input-26-a3883ea42ed1>\u001b[0m in \u001b[0;36m<module>\u001b[1;34m\u001b[0m\n\u001b[0;32m      1\u001b[0m \u001b[0mprint\u001b[0m\u001b[1;33m(\u001b[0m\u001b[1;34m\"-Confusion matrix\"\u001b[0m\u001b[1;33m)\u001b[0m\u001b[1;33m\u001b[0m\u001b[1;33m\u001b[0m\u001b[0m\n\u001b[1;32m----> 2\u001b[1;33m \u001b[0mconfuse\u001b[0m \u001b[1;33m=\u001b[0m \u001b[0mtf\u001b[0m\u001b[1;33m.\u001b[0m\u001b[0mmath\u001b[0m\u001b[1;33m.\u001b[0m\u001b[0mconfusion_matrix\u001b[0m\u001b[1;33m(\u001b[0m\u001b[0mnp\u001b[0m\u001b[1;33m.\u001b[0m\u001b[0margmax\u001b[0m\u001b[1;33m(\u001b[0m\u001b[0mytest\u001b[0m\u001b[1;33m,\u001b[0m\u001b[0maxis\u001b[0m \u001b[1;33m=\u001b[0m \u001b[1;36m1\u001b[0m\u001b[1;33m)\u001b[0m\u001b[1;33m,\u001b[0m \u001b[0mnp\u001b[0m\u001b[1;33m.\u001b[0m\u001b[0margmax\u001b[0m\u001b[1;33m(\u001b[0m\u001b[0mpred\u001b[0m\u001b[1;33m,\u001b[0m \u001b[0maxis\u001b[0m \u001b[1;33m=\u001b[0m \u001b[1;36m1\u001b[0m\u001b[1;33m)\u001b[0m\u001b[1;33m,\u001b[0m \u001b[0mnum_classes\u001b[0m \u001b[1;33m=\u001b[0m \u001b[1;36m100\u001b[0m\u001b[1;33m)\u001b[0m\u001b[1;33m\u001b[0m\u001b[1;33m\u001b[0m\u001b[0m\n\u001b[0m",
      "\u001b[1;31mNameError\u001b[0m: name 'ytest' is not defined"
     ]
    }
   ],
   "source": [
    "print(\"-Confusion matrix\")\n",
    "confuse = tf.math.confusion_matrix(np.argmax(ytest,axis = 1), np.argmax(pred, axis = 1), num_classes = 100)\n"
   ]
  },
  {
   "cell_type": "code",
   "execution_count": 55,
   "metadata": {},
   "outputs": [
    {
     "name": "stdout",
     "output_type": "stream",
     "text": [
      "tf.Tensor(\n",
      "[[72  1  1  1  0  0  1  0  0  0  0  0  0  0  0  0  1  0  0  0  0  0  0  0\n",
      "   0  0  1  0  0  0  0  0  0  0  0  0  0  0  0  0  0  0  0  0  0  0  0  0\n",
      "   0  0  0  0  0  1  4  0  0 10  0  0  0  0  0  0  0  0  0  0  0  1  1  0\n",
      "   0  0  0  0  0  0  1  0  0  0  0  7  0  0  0  0  0  0  0  0  3  0  0  0\n",
      "   0  1  0  0]\n",
      " [ 0 51  3  0  1  0  0  1  0  0  0  0  0  1  2  0  0  0  1  1  0  0  0  1\n",
      "   0  0  2  0  0  2  1  0  1  2  0  0  0  1  0  0  0  0  0  0  1  1  0  0\n",
      "   1  1  1  0  0  2  0  0  0  1  0  0  0  0  3  0  0  1  0  2  0  0  2  0\n",
      "   0  1  2  0  0  2  0  0  0  0  1  0  0  0  0  0  0  0  2  2  2  4  0  0\n",
      "   2  0  1  1]\n",
      " [ 0  0 31  0  0  0  0  0  0  0  1  4  0  0  0  0  0  0  0  1  0  0  0  0\n",
      "   0  0  2  0  1  0  2  0  1  0  1  6  3  0  2  0  0  0  0  1  2  1  4  0\n",
      "   0  0  2  0  0  0  0  0  0  0  0  0  0  2  0  0  2  1  1  0  0  0  0  0\n",
      "   0  0  0  0  2  1  3  0  1  1  0  0  0  0  1  0  0  0  0  0  0  1  0  0\n",
      "   0  1  6  0]\n",
      " [ 0  1  0 26  1  0  0  2  0  0  0  0  0  1  0  1  0  0  0  2  0  7  0  0\n",
      "   0  0  0  0  0  1  1  9  0  0  0  1  0  2  3  0  0  0  0  2  0  1  0  0\n",
      "   0  0  0  0  0  0  0  3  1  1  1  0  0  0  0  3  2  0  3  0  1  0  0  0\n",
      "   9  0  0  3  1  0  1  0  3  0  0  0  0  1  0  1  1  1  0  0  0  0  0  3\n",
      "   0  3  0  0]\n",
      " [ 0  0  1  2 23  0  1  0  0  0  0  0  0  0  0  0  0  0  0  0  0  5  0  0\n",
      "   0  0  0  0  0  0  1  0  0  1  0  0  1  0  2  0  0  0  1  0  4  0  0  0\n",
      "   1  0  4  0  0  0  0  3  0  0  0  1  0  0  0  8  5  0  1  1  0  0  0  0\n",
      "   2  0  7  0  0  3  2  0  5  0  0  0  1  0  0  1  0  1  1  0  0  1  0  1\n",
      "   1  0  1  0]\n",
      " [ 0  1  2  0  0 33  0  0  0  0  3  0  3  2  0  0  1  1  0  0  2  0  0  1\n",
      "   1  5  1  1  1  0  0  0  0  0  0  2  1  2  0  0  0  0  0  0  1  1  0  0\n",
      "   0  0  0  0  0  0  0  0  1  1  2  0  1  0  0  0  1  1  0  0  0  2  0  1\n",
      "   2  0  0  0  1  1  2  0  0  1  0  1  9  1  2  3  2  2  0  1  0  0  1  0\n",
      "   0  1  0  0]\n",
      " [ 0  0  0  1  0  0 36  7  0  0  1  0  0  0  3  0  0  0  2  0  0  0  0  0\n",
      "   0  0  1  0  0  3  0  0  0  0  0  0  0  0  1  0  0  0  2  0  2  1  1  0\n",
      "   1  0  1  0  0  1  5  0  0  0  0  2  0  0  2  0  1  0  1  0  0  0  2  0\n",
      "   2  0  0  0  0  0  1  4  1  0  2  0  0  1  0  0  1  2  0  0  0  1  0  0\n",
      "   0  0  1  0]\n",
      " [ 0  1  2  0  0  0  5 39  0  0  0  0  0  0  0  0  0  0  1  0  0  1  1  0\n",
      "   7  0  2  0  0  0  2  0  0  0  0  0  0  0  0  0  0  4  0  0  2  0  0  0\n",
      "   0  0  0  0  0  0  1  1  0  0  0  1  0  0  0  0  1  2  0  0  0  0  0  0\n",
      "   1  0  1  0  1  4  4  5  0  0  0  2  0  0  0  0  1  1  0  1  0  0  0  1\n",
      "   0  1  0  0]\n",
      " [ 0  0  0  1  1  0  0  2 53  0  0  1  0  0  1  0  1  0  0  0  0  0  1  0\n",
      "   0  1  0  0  0  0  0  0  0  1  0  0  0  0  2  1  0  1  1  0  1  0  0  0\n",
      "   2  0  0  0  0  0  0  1  0  0  0  1  0  0  0  0  0  0  0  0  0  0  0  1\n",
      "   2  0  0  0  0  0  2  2  1  0  0  0  0  0  0  0  2  2  0  0  0  0  0  0\n",
      "   0  1  0  1]\n",
      " [ 0  0  0  1  0  0  0  0  1 45  0  1  0  0  2  1  2  1  4  0  0  0  1  1\n",
      "   1  0  0  0  0  0  0  0  0  1  0  1  0  0  1  0  3  1  0  0  1  0  1  0\n",
      "   1  0  0  0  0  0  1  0  0  2  0  0  0  0  0  0  0  0  0  0  0  1  0  0\n",
      "   0  0  0  0  1  1  0  0  0  1  0  2  2  0  0  1  0  1  0  0  0  0  2  0\n",
      "   0  0  2  0]\n",
      " [ 4  0  2  0  0  1  0  0  2  0 33  2  0  1  0  0  1  0  0  0  1  2  2  1\n",
      "   0  0  2  0  2  1  0  0  1  0  0  0  0  0  0  0  0  0  1  1  0  1  0  0\n",
      "   1  0  2  1  0  0  1  0  0  0  0  2  0 14  1  0  0  0  0  1  0  0  1  0\n",
      "   0  0  2  0  0  1  1  0  1  0  0  2  3  0  0  1  0  0  0  0  0  0  0  2\n",
      "   0  1  0  1]\n",
      " [ 0  0 13  2  1  0  0  0  0  1  0 24  0  0  0  1  0  0  0  0  3  1  1  0\n",
      "   0  1  0  0  1  0  0  0  0  0  0 19  0  0  0  0  0  1  1  1  2  3  5  0\n",
      "   0  0  0  2  0  0  0  0  0  1  0  0  0  0  0  0  1  0  1  0  0  0  2  0\n",
      "   0  0  0  0  0  0  1  0  0  0  0  0  1  0  0  0  1  0  1  0  0  0  0  0\n",
      "   0  2  5  1]\n",
      " [ 0  0  0  1  1  1  0  0  1  1  1  0 41  1  0  0  1  6  0  0  0  0  0  1\n",
      "   1  0  1  1  0  0  0  1  0  2  0  0  0  6  0  1  0  0  0  0  1  1  1  0\n",
      "   0  0  0  0  1  0  0  0  1  0  0  2  0  1  0  0  0  0  0  0  4  1  0  1\n",
      "   1  0  0  0  2  0  1  0  0  4  0  0  0  0  0  0  0  2  3  1  0  0  0  1\n",
      "   0  0  0  1]\n",
      " [ 0  0  0  0  0  1  0  0  1  1  1  0  3 34  1  0  0  0  0  0  0  1  0  0\n",
      "   0  0  0  0  0  0  0  0  0  0  0  1  0  1  0  1  0  1  0  0  0  0  0  0\n",
      "   3  0  0  0  0  0  0  1  0  0  7  0  0  0  0  0  1  0  0  0  0  0  1  0\n",
      "   0  0  0  0  1  0  1  0  0  9  0  0  1  2  0  0  0  5  7  0  0  0  0  0\n",
      "   0  0  0  0]\n",
      " [ 0  2  0  0  2  0  2  7  1  0  0  0  0  1 30  0  0  0  2  1  0  0  0  0\n",
      "   3  0  0  0  0  0  0  0  0  1  0  0  0  0  0  0  0  2  1  0  2  2  0  0\n",
      "   1  0  2  2  0  0  0  0  0  1  0  0  0  1  3  1  1  0  2  0  0  0  1  0\n",
      "   2  0  3  1  0  0  2  4  1  0  0  2  1  0  0  0  4  0  1  0  0  1  0  1\n",
      "   0  2  0  1]\n",
      " [ 0  0  0  2  1  0  0  0  0  0  1  0  0  0  0 31  0  0  0  4  1  0  1  0\n",
      "   0  0  0  0  0  0  0  3  0  1  2  0  0  2  5  0  1  0  0  3  0  0  0  0\n",
      "   0  0  2  1  0  0  0  2  0  0  0  0  2  1  0  0  0  2  0  0  0  0  0  0\n",
      "   3  0  0  0  0  1  2  1  4  0  0  0  0  0  0  0  1  1  1  0  0  2  0  0\n",
      "   0  1  1  1]\n",
      " [ 2  0  5  0  0  2  0  0  2  2  3  0  0  0  0  0 40  1  1  0  1  0 10  0\n",
      "   0  0  0  0  1  0  0  1  0  0  1  1  0  0  1  2  2  3  0  1  0  1  1  0\n",
      "   1  0  1  0  0  0  1  0  0  0  0  0  0  3  0  1  0  1  1  0  0  0  0  0\n",
      "   1  0  0  0  4  0  3  0  0  0  0  1  2  0  2  4  1  1  0  0  0  0  3  0\n",
      "   0  0  0  1]\n",
      " [ 0  0  0  2  0  0  0  0  1  0  0  0  3  0  0  1  0 66  0  0  0  0  1  1\n",
      "   0  0  0  0  0  0  0  0  1  1  0  0  0  2  0  0  0  0  0  0  0  0  0  1\n",
      "   0  0  0  0  0  0  0  0  0  0  0  1  0  0  0  0  0  1  0  0  1  1  0  0\n",
      "   1  0  0  0  1  0  0  0  0  0  0  0  1  1  0  0  0  2  0  0  0  0  1  0\n",
      "   0  0  0  0]\n",
      " [ 0  1  1  1  2  1  2  3  0  2  1  0  0  0  2  0  2  1 44  1  0  0  0  0\n",
      "   0  0  0  2  0  0  0  0  0  2  2  0  0  0  4  2  0  0  0  0  5  1  0  0\n",
      "   1  0  0  0  0  0  0  1  1  1  0  1  0  0  0  0  0  1  0  0  0  0  1  0\n",
      "   1  1  2  0  1  2  0  2  2  0  1  1  0  1  0  0  1  0  2  2  1  1  0  0\n",
      "   0  1  0  2]\n",
      " [ 0  0  0 12  1  0  1  1  1  0  0  1  2  0  0  5  0  2  1 22  0  1  1  0\n",
      "   0  0  0  0  0  2  0  9  1  0  2  0  0  2  6  0  1  1  3  1  0  0  0  2\n",
      "   0  0  2  3  0  0  0  1  0  0  1  0  0  0  0  0  1  0  1  0  0  0  0  0\n",
      "   1  0  0  1  0  0  0  1  1  0  0  0  0  1  0  0  1  4  1  0  0  0  0  0\n",
      "   0  0  2  1]\n",
      " [ 0  0  0  0  0  6  0  1  1  2  0  0  0  0  0  0  2  0  0  0 77  0  1  0\n",
      "   1  4  0  0  0  0  0  0  0  0  0  0  0  0  0  0  2  0  0  0  0  1  0  0\n",
      "   0  0  1  0  0  0  0  0  0  0  0  0  0  2  0  0  0  0  0  0  0  0  0  0\n",
      "   0  0  0  0  0  0  1  0  0  0  0  0  0  0  1  3  0  0  0  0  0  0  0  0\n",
      "   0  0  1  0]\n",
      " [ 0  0  1  4  2  0  0  1  1  0  0  1  0  0  0  0  1  0  0  0  0 57  1  0\n",
      "   0  0  0  0  0  0  2  4  0  0  0  2  0  1  1  0  0  1  0  1  0  1  3  0\n",
      "   0  0  2  0  0  0  0  2  0  0  0  0  0  0  0  0  8  0  1  0  0  0  0  0\n",
      "   3  0  2  0  0  0  3  0  1  0  0  0  1  0  0  0  0  0  2  0  0  0  0  1\n",
      "   0  1  1  0]\n",
      " [ 0  0  0  1  0  0  0  1  1  0  3  0  0  0  0  0  1  0  1  0  0  1 55  0\n",
      "   0  1  1  1  0  0  0  0  1  0  0  1  3  1  0  0  0  0  0  2  0  0  1  0\n",
      "   0  0  0  1  0  0  1  0  0  0  1  0  0 11  1  0  1  0  0  0  0  0  0  0\n",
      "   0  0  0  0  0  0  0  3  3  4  0  0  0  0  2  1  0  0  0  0  0  0  0  1\n",
      "   0  0  0  1]\n",
      " [ 0  0  0  0  0  0  0  0  0  0  1  0  0  0  0  0  0  0  0  0  0  0  0 64\n",
      "   0  0  0  1  0  0  2  0  3  0  0  0  0  0  0  0  1  0  0  0  0  1  0  0\n",
      "   0  7  0  0  0  0  0  0  0  0  0  0  2  0  0  0  1  0  0  3  0  3  0  6\n",
      "   2  1  1  0  0  0  0  0  0  0  0  0  0  0  0  0  0  0  0  0  0  0  0  0\n",
      "   0  0  0  0]\n",
      " [ 0  0  0  0  0  0  0 14  0  0  0  1  1  0  1  0  0  0  0  0  0  0  0  0\n",
      "  58  0  1  0  1  1  0  0  0  0  0  0  0  0  0  0  0  1  0  0  1  2  1  1\n",
      "   0  0  0  0  0  0  0  1  0  0  0  0  0  0  0  0  0  0  0  1  0  0  0  1\n",
      "   2  0  0  0  0  3  0  4  0  0  0  0  1  1  0  0  0  0  0  1  0  2  1  0\n",
      "   0  0  0  2]\n",
      " [ 0  0  3  0  1  2  0  0  1  1  4  1  4  1  1  0  0  1  1  0  3  0  0  2\n",
      "   0 30  1  0  0  0  1  0  0  0  0  0  0  1  0  5  1  1  0  0  1  1  1  1\n",
      "   0  0  0  0  0  0  0  1  0  1  1  0  0  1  0  1  0  0  0  1  0  0  0  0\n",
      "   2  0  0  0  0  0  2  0  1  4  0  0  8  1  0  4  0  2  1  0  0  0  2  1\n",
      "   0  1  0  1]\n",
      " [ 0  0  1  1  2  0  2  2  1  0  2  0  0  0  2  1  0  0  1  1  0  0  0  0\n",
      "   1  0 38  1  0  2  0  1  0  0  0  1  0  0  1  0  0  0  1  1  2  9  0  2\n",
      "   1  0  1  0  0  0  0  0  0  0  0  0  0  1  0  1  2  0  0  0  0  0  0  0\n",
      "   1  0  4  0  0  4  8  2  1  0  0  0  0  0  0  0  0  1  0  1  0  0  0  0\n",
      "   0  0  0  0]\n",
      " [ 0  0  0  1  1  0  0  3  0  0  0  0  1  0  0  0  0  0  0  0  0  0  0  0\n",
      "   0  0  0 34  0  0  3  0  2  2  1  0  0  0  2  0  0  1  1  1  7  0  0  0\n",
      "   0  0  1  0  0  0  0  3  0  0  0  3  0  0  0  3  1  2  0  0  0  1  0  0\n",
      "   1  2  1  1  1  1  5  1  3  0  0  0  0  3  0  0  0  0  2  1  0  6  0  0\n",
      "   0  1  1  1]\n",
      " [ 0  0  3  1  0  1  0  0  0  1  2  0  0  0  0  0  2  0  0  0  0  0  0  0\n",
      "   0  1  0  0 61  0  0  0  0  1  0  0  0  0  0  1  3  1  0  1  0  0  0  0\n",
      "   0  0  0  1  0  1  0  0  0  1  1  1  0  1  0  0  0  0  0  0  0  0  0  0\n",
      "   0  0  0  1  0  0  0  0  0  0  1  0  1  0  1  1  0  0  0  0  0  0  1  0\n",
      "   0  1  0  0]\n",
      " [ 0  2  0  1  2  0  1  1  1  0  0  0  1  0  1  1  0  1  2  0  0  0  1  0\n",
      "   0  0  1  2  0 35  0  0  2  1  2  0  0  0  3  1  2  0  2  0  3  0  1  0\n",
      "   0  0  1  1  3  0  0  2  1  0  1  1  0  0  1  1  0  0  1  0  0  1  0  0\n",
      "   1  0  2  0  0  1  0  0  0  0  0  1  0  1  0  0  1  1  0  0  0  1  0  0\n",
      "   0  3  0  3]\n",
      " [ 0  0  1  1  0  0  0  0  0  0  0  0  0  0  2  0  0  0  0  0  0  0  0  3\n",
      "   0  0  0  0  0  0 48  0  3  0  2  0  0  0  0  0  0  0  0  0  0  0  0  0\n",
      "   0  1  0  0  0  0  0  6  0  0  0  0  0  1  0  0  0  0  0  6  0  3  0  0\n",
      "   3  9  0  0  3  1  0  0  0  0  0  0  0  0  0  0  0  0  0  0  0  4  0 10\n",
      "   0  0  0  2]\n",
      " [ 0  0  0  9  1  0  1  0  0  0  0  0  1  0  0  2  0  2  0  1  0  4  0  0\n",
      "   0  0  0  0  0  2  0 35  0  1  0  0  0  1  7  0  0  0  0  3  0  0  0  0\n",
      "   0  0  1  1  1  0  0  2  0  0  0  1  1  0  0  1  1  1  0  0  1  0  0  0\n",
      "   0  0  1  0  1  1  0  0  1  0  0  0  0  0  0  0  0  1  1  1  0  1  0  0\n",
      "   1  6  0  0]\n",
      " [ 0  0  1  1  0  1  0  0  0  0  0  0  0  1  0  2  0  1  0  0  0  0  0  0\n",
      "   0  0  1  0  0  0  0  0 34  0  1  1  1  0  3  0  0  0  2  0  1  0  2  0\n",
      "   1  0  1  1  0  0  0  0  0  0  0  0  0  0  1  4  1  0  0  6  0  1  0  0\n",
      "   4  1  0  0  0  1  0  1  1  0  0  0  2  2  0  0  0  1  3  2  1  1  1  1\n",
      "   0  1  1  1]\n",
      " [ 1  0  0  0  1  0  0  0  1  0  0  1  0  0  0  0  0  2  1  0  0  0  0  3\n",
      "   0  0  1  1  0  0  1  0  0 43  0  0  0  2  0  1  0  0  1  0  0  0  0  3\n",
      "   0  1  1  4  0  0  0  0  3  0  0  7  1  0  0  0  1  0  0  2  1  0  1  2\n",
      "   1  0  0  0  0  0  0  0  1  0  0  0  2  0  0  0  1  2  0  0  1  0  0  0\n",
      "   6  3  0  0]\n",
      " [ 0  0  0  3  2  0  0  1  0  0  0  2  1  0  1  1  0  0  0  2  0  0  0  0\n",
      "   0  0  1  3  0  1  1  3  0  0 14  0  0  0  5  0  0  1  4  6  3  0  0  0\n",
      "   0  0  2  2  0  0  1  1  0  0  0  0  0  0  0  0  0  1  2  0  0  0  0  0\n",
      "   1  0  0  0  0  0  0  0  7  0  0  0  0  0  0  0  5  0  0  0  0  0  0  1\n",
      "   0  3  1  0]\n",
      " [ 0  0 12  0  2  0  0  0  1  0  0  7  0  0  0  0  0  0  0  0  0  0  1  0\n",
      "   1  0  0  0  0  0  0  1  1  0  0 36  3  0  4  0  0  0  1  3  0  0  3  0\n",
      "   0  0  1  0  0  0  0  0  1  0  0  0  0  0  0  0  1  1  0  0  0  0  0  0\n",
      "   0  0  0  0  1  0  1  0  1  1  0  1  0  0  0  0  0  1  0  0  0  0  0  0\n",
      "   0  0 12  0]\n",
      " [ 0  1  0  0  1  1  0  1  0  1  2  0  0  0  0  0  0  0  0  0  0  1  1  0\n",
      "   0  1  1  0  1  0  0  0  1  0  0  3 56  1  0  0  0  0  1  6  0  0  1  0\n",
      "   1  0  6  2  0  0  0  0  0  2  0  0  0  1  0  1  1  0  2  2  0  0  0  0\n",
      "   1  0  1  0  0  4  0  0  0  0  0  0  0  0  0  0  1  0  0  0  0  0  0  0\n",
      "   0  1  0  0]\n",
      " [ 0  0  0  2  0  0  0  0  0  0  0  0  2  4  0  0  0  7  1  2  0  0  1  2\n",
      "   0  1  0  0  0  0  0  1  0  1  0  1  0 41  0  2  1  0  1  0  0  0  0  0\n",
      "   0  0  0  0  0  0  1  0  0  0  0  1  0  0  0  0  0  0  1  0  2  0  0  0\n",
      "   1  0  0  0  1  0  2  0  0  6  0  0  0  0  1  1  0  3  4  0  0  0  0  1\n",
      "   1  4  0  0]\n",
      " [ 0  0  2  1  2  0  2  0  2  0  0  0  1  0  0  2  0  0  2  0  0  1  0  0\n",
      "   0  0  1  0  1  0  0  0  0  0  0  0  0  1 42  0  0  1  4  4  4  0  0  0\n",
      "   0  0  3  0  0  0  0  1  0  0  0  0  0  0  0  0  3  5  1  0  1  0  0  0\n",
      "   1  0  1  0  0  1  2  2  6  0  0  0  0  0  0  0  2  0  1  0  0  1  0  0\n",
      "   0  5  0  0]\n",
      " [ 0  0  2  0  0  2  0  0  0  0  2  0  0  0  0  0  1  1  0  0  0  0  3  1\n",
      "   0  1  0  2  0  0  0  0  0  1  0  0  0  1  0 61  0  0  0  0  1  0  0  0\n",
      "   0  1  0  0  0  0  0  0  0  4  0  1  0  2  0  1  1  0  0  1  0  0  0  0\n",
      "   0  0  0  0  0  0  2  0  2  1  0  1  0  0  5  1  0  0  0  0  0  0  0  0\n",
      "   0  0  0  1]\n",
      " [ 0  0  1  1  0  2  0  0  3  0  2  1  1  1  0  0  4  0  0  0  1  1  0  0\n",
      "   0  1  0  0 11  0  1  0  0  1  0  1  2  0  0  0 24  1  0  0  1  0  0  0\n",
      "   1  0  1  0  0  1  0  2  1  1  0  0  1  0  0  0  0  0  0  1  0  3  0  0\n",
      "   2  0  0  3  1  0  2  2  0  0  0  0  2  0  0  1  0  1  1  1  1  0  3  0\n",
      "   0  0  1  2]\n",
      " [ 0  0  1  0  0  0  0  2  2  0  0  0  0  0  2  0  0  0  0  1  0  0  0  0\n",
      "   0  1  0  1  0  0  0  0  0  0  0  1  1  0  1  0  0 59  0  0  2  0  0  0\n",
      "   4  0  0  1  0  0  1  1  0  0  0  0  0  0  1  0  0  2  0  0  0  2  1  0\n",
      "   0  0  0  0  0  0  0  1  1  0  0  0  1  2  0  1  0  4  2  0  0  0  0  0\n",
      "   0  0  1  4]\n",
      " [ 0  0  0  0  0  0  0  4  1  0  1  0  0  0  0  0  0  0  0  0  0  2  0  0\n",
      "   0  0  0  0  0  0  0  0  1  0  1  0  0  0  3  0  0  0 64  3  1  1  0  0\n",
      "   0  0  1  2  0  0  0  0  0  0  0  1  0  1  0  5  0  0  0  0  0  0  0  0\n",
      "   0  0  1  1  0  0  2  1  0  0  0  0  0  0  0  0  5  0  0  0  0  1  0  0\n",
      "   1  1  0  0]\n",
      " [ 0  0  0  2  0  0  1  1  0  0  0  1  0  0  1  2  0  0  0  4  0  1  0  0\n",
      "   0  0  0  0  0  1  0  0  1  0  4  2  1  0  6  0  0  0  2 61  0  0  0  0\n",
      "   0  0  3  1  0  0  0  2  0  0  0  0  0  1  0  0  3  1  0  0  0  0  0  0\n",
      "   1  0  0  0  0  0  0  0  0  0  0  0  0  0  0  0  5  0  0  0  0  0  0  0\n",
      "   0  1  1  0]\n",
      " [ 0  0  0  0  2  0  0  4  1  0  1  0  0  0  0  1  0  0  2  0  0  0  0  1\n",
      "   1  1  2  7  0  1  0  0  1  0  0  0  0  0  2  0  0  1  1  1 31  1  0  0\n",
      "   0  0  0  1  0  0  1  2  0  0  0  1  1  0  0  0  0  1  0  1  0  0  0  0\n",
      "   0  0  1  1  1  1  5  2  2  0  0  0  1  0  0  0  0  0  0  0  0  1  0  0\n",
      "   0  0  0  2]\n",
      " [ 0  0  1  0  2  0  1  3  0  0  0  0  2  1  1  0  0  0  0  0  0  2  1  0\n",
      "   2  0  5  0  0  1  0  0  1  1  0  1  1  0  0  1  0  0  2  0  2 36  1  1\n",
      "   1  0  0  1  0  0  2  1  0  0  0  1  0  0  1  0  1  0  0  0  0  0  0  1\n",
      "   1  0  0  0  0  1  8  2  1  1  0  0  3  0  0  0  0  3  1  2  0  2  0  1\n",
      "   0  1  1  0]\n",
      " [ 0  0  7  2  1  1  0  0  2  0  1  5  0  1  0  1  0  0  2  0  0  7  0  0\n",
      "   0  1  0  0  1  0  0  0  0  0  0 11  1  1  1  0  1  1  2  2  1  1 18  0\n",
      "   1  0  1  0  0  0  0  1  0  0  1  0  0  0  0  0  3  0  0  0  0  0  0  0\n",
      "   0  0  0  0  1  1  0  1  1  0  2  0  1  0  0  0  0  0  1  0  1  0  0  0\n",
      "   0  1 10  0]\n",
      " [ 0  0  0  0  0  0  0  0  0  0  0  0  1  0  0  0  0  0  0  0  0  0  0  0\n",
      "   0  0  0  1  0  1  0  0  0  0  0  0  0  1  0  0  0  0  0  0  0  0  0 63\n",
      "   0  0  0  0 15  0  0  0  2  0  0 10  0  0  0  0  0  0  0  0  0  0  0  0\n",
      "   0  0  0  0  0  0  0  0  0  0  0  0  0  0  0  0  0  1  0  0  0  0  0  0\n",
      "   8  0  0  0]\n",
      " [ 0  0  0  0  0  0  1  2 12  0  1  0  0  0  2  0  0  0  0  0  0  0  1  0\n",
      "   0  1  1  0  0  0  0  0  0  0  0  0  0  0  0  0  0  3  0  0  1  2  0  0\n",
      "  57  1  0  0  0  0  0  0  0  0  0  2  0  1  0  0  0  0  0  0  0  0  0  0\n",
      "   0  0  0  0  0  0  1  0  0  0  1  0  0  0  1  0  1  4  0  0  1  0  0  0\n",
      "   0  1  0  0]\n",
      " [ 0  0  0  0  0  0  1  0  0  0  0  0  0  0  0  0  0  4  0  0  0  0  0  6\n",
      "   0  1  0  0  1  0  2  0  0  0  0  0  0  0  0  0  0  0  0  0  0  0  0  0\n",
      "   0 63  0  0  0  0  0  1  0  0  0  1  5  0  0  0  0  0  0  0  2  2  0  1\n",
      "   0  1  0  0  5  0  0  0  0  0  0  0  0  0  0  0  0  0  1  1  0  1  0  2\n",
      "   3  0  0  0]\n",
      " [ 0  1  1  2  3  0  0  0  0  0  0  0  0  0  1  1  0  0  1  0  0  1  1  0\n",
      "   0  1  0  0  0  0  0  0  1  0  1  1  6  0  3  3  0  0  1  2  3  0  0  0\n",
      "   0  0 21  0  0  0  1  3  0  0  0  1  0  0  0  8  7  0  1  2  0  0  0  0\n",
      "   0  0  8  1  1  0  3  0  7  0  0  0  0  0  0  0  1  0  0  0  0  3  0  0\n",
      "   2  0  0  1]\n",
      " [ 0  1  1  1  4  1  0  0  0  0  3  0  0  0  0  1  0  0  0  0  0  0  2  0\n",
      "   0  0  1  2  1  0  1  1  2  0  2  1  0  2  1  0  3  1  1  2  0  1  0  0\n",
      "   0  0  0 35  0  1  2  1  0  1  0  0  0  1  0  1  1  0  1  0  0  0  2  0\n",
      "   1  0  3  1  0  3  1  1  2  0  1  1  0  0  0  0  1  1  0  1  1  0  0  0\n",
      "   1  1  0  0]\n",
      " [ 0  0  0  0  0  0  0  0  0  0  0  0  0  0  0  0  0  1  0  0  0  0  0  0\n",
      "   0  0  0  0  0  0  0  0  0  0  0  0  0  0  0  0  0  0  0  0  0  0  0 24\n",
      "   0  0  0  0 67  0  0  0  0  0  0 13  0  0  0  0  0  0  0  0  0  0  0  0\n",
      "   0  0  0  0  1  0  0  0  0  0  0  0  0  0  0  0  0  0  0  0  0  0  0  0\n",
      "   4  0  0  0]\n",
      " [ 3  0  0  0  0  0  1  0  0  0  0  0  0  0  0  0  0  0  0  0  0  0  0  0\n",
      "   0  0  2  0  0  0  0  0  1  0  0  0  0  0  0  0  0  0  0  1  0  0  0  2\n",
      "   0  0  0  0  0 67  1  0  0  5  0  0  0  1  1  0  0  0  0  0  0  0  1  0\n",
      "   0  0  0  0  0  2  1  0  0  0  0  2  0  0  0  0  0  0  0  0  4  0  0  0\n",
      "   0  0  0  0]\n",
      " [ 0  1  0  0  0  0  2  0  1  0  0  1  0  0  0  0  0  0  0  1  0  0  0  0\n",
      "   0  0  1  0  0  0  0  0  1  0  1  1  0  0  2  0  0  1  0  0  0  3  0  1\n",
      "   0  0  0  1  0  0 51  0  0  0  0  0  0  0  2  0  0  1  0  0  1  0  3  0\n",
      "   1  1  1  0  0  1  0  2  0  0  1  3  0  0  0  0  0  0  0  0  1  0  0  0\n",
      "   1  1  0  0]\n",
      " [ 0  0  2  4  6  0  0  1  0  0  0  0  0  0  0  1  0  0  0  0  0  1  2  0\n",
      "   1  1  0  1  0  0  2  1  3  0  0  1  0  0  1  0  0  0  0  1  1  0  1  0\n",
      "   1  0  2  0  0  0  0 19  0  0  0  0  1  0  0  4  3  0  1  2  2  0  0  0\n",
      "   9  1  2  0  0  1  0  1  2  0  0  0  0  0  0  0  0  1  3  0  0  4  1  2\n",
      "   0  0  0  1]\n",
      " [ 0  0  0  0  0  0  0  0  0  1  1  0  1  0  0  0  0  0  2  0  0  0  0  0\n",
      "   0  0  0  0  1  0  0  0  0  1  0  0  0  0  1  0  0  0  0  0  3  1  0  7\n",
      "   0  0  0  1  3  0  1  1 51  0  0 10  0  0  0  1  0  1  0  2  0  1  0  0\n",
      "   1  1  0  0  0  1  0  2  0  0  0  0  0  3  0  0  0  0  0  0  0  1  0  0\n",
      "   3  1  1  0]\n",
      " [ 6  2  0  1  0  0  0  0  0  2  2  0  0  0  0  0  0  1  0  0  0  0  2  0\n",
      "   0  0  1  0  0  1  0  0  0  0  0  0  0  0  0  1  0  1  0  0  0  0  0  0\n",
      "   0  0  2  1  0  3  2  0  0 52  0  0  0  1  1  0  0  0  0  1  0  1  2  0\n",
      "   0  0  0  0  0  2  2  1  1  0  0  4  0  0  0  1  0  2  0  0  4  1  1  0\n",
      "   0  1  1  0]\n",
      " [ 0  0  0  0  0  0  0  0  0  0  1  0  2  5  0  0  0  0  0  0  0  1  0  0\n",
      "   0  0  0  0  0  0  0  0  0  1  0  0  0  0  0  0  0  2  0  0  0  0  0  0\n",
      "   0  0  0  0  0  0  0  0  0  0 59  1  0  0  0  0  0  0  0  0  0  0  0  0\n",
      "   1  0  0  0  0  0  0  0  0  8  0  0  2  1  1  1  0  3  2  0  0  0  0  0\n",
      "   0  0  0  0]\n",
      " [ 0  0  0  0  0  0  0  0  0  0  0  0  0  0  0  0  0  1  0  0  0  0  0  1\n",
      "   0  0  0  0  0  1  1  0  0  6  0  0  0  1  0  1  0  0  0  0  0  0  0  7\n",
      "   0  2  0  0  9  0  0  0  2  0  0 53  0  0  0  1  0  0  0  0  0  0  0  0\n",
      "   0  1  0  0  1  0  1  0  2  0  0  0  0  1  0  0  0  1  1  0  0  0  0  2\n",
      "  10  0  0  0]\n",
      " [ 0  0  0  0  0  0  0  0  0  0  0  0  0  0  0  0  0  1  0  0  0  0  0  6\n",
      "   0  0  0  0  0  0  1  0  0  1  0  0  0  0  0  0  0  0  0  0  0  0  0  0\n",
      "   0  8  0  0  0  0  0  0  0  0  0  1 61  0  0  0  0  1  0  0  4  0  0  6\n",
      "   0  0  0  0  0  0  0  0  0  0  0  0  0  2  0  0  0  0  0  0  0  0  0  0\n",
      "   0  0  0  0]\n",
      " [ 1  0  1  0  0  1  0  1  1  1  8  1  0  0  0  0  0  0  0  0  1  0 12  1\n",
      "   1  0  2  0  1  0  0  0  0  0  0  0  0  0  0  1  0  0  0  1  1  1  0  0\n",
      "   0  1  0  0  0  1  0  0  0  0  0  0  0 58  0  0  0  0  1  0  0  0  0  0\n",
      "   2  0  1  0  0  0  3  1  0  0  0  0  0  0  1  0  0  1  0  0  0  0  0  0\n",
      "   0  0  0  7]\n",
      " [ 1  1  0  0  0  0  4  1  0  1  0  0  0  0  0  0  0  1  0  0  0  0  1  0\n",
      "   0  0  0  0  0  0  0  0  0  0  0  0  0  0  0  0  1  1  0  0  0  6  0  0\n",
      "   0  0  0  1  0  5  6  0  0  0  0  1  0  0 43  1  0  0  0  0  0  0  8  0\n",
      "   0  0  1  0  0  0  0  0  1  1  4  3  1  0  0  0  0  0  0  0  9  0  0  0\n",
      "   1  0  0  0]\n",
      " [ 0  0  0  0  6  0  0  0  0  0  0  0  0  0  0  0  0  0  0  0  0  0  0  0\n",
      "   0  1  1  0  0  0  0  2  3  0  0  0  1  0  0  0  0  0  4  0  1  0  0  0\n",
      "   0  0  3  0  1  0  0  2  0  0  0  0  0  0  0 58  4  1  1  0  0  0  0  0\n",
      "   1  0  2  0  1  0  2  0  1  0  0  0  0  0  0  0  0  0  0  0  0  3  0  1\n",
      "   0  3  0  0]\n",
      " [ 0  0  0  1  1  0  0  0  0  0  0  0  0  0  2  1  0  0  1  0  0  1  0  1\n",
      "   0  0  0  0  0  0  1  1  0  0  1  1  3  1  9  0  0  0  1  2  2  0  0  0\n",
      "   0  1  1  2  0  0  1  3  0  1  0  1  0  1  0  2 36  0  3  1  0  0  0  0\n",
      "   1  0  4  0  0  0  1  0  2  0  0  0  0  1  0  0  0  0  0  0  1  3  0  0\n",
      "   0  6  2  0]\n",
      " [ 1  0  2  2  2  1  0  0  1  1  1  1  0  0  0  0  1  0  0  1  0  0  2  1\n",
      "   0  1  0  0  0  0  0  1  1  1  0  1  2  1  3  0  0  0  2  1  2  0  1  0\n",
      "   0  0  4  0  0  0  0  3  0  0  0  0  1  0  0  4  2 21  3  1  1  1  0  0\n",
      "   1  0  3  1  0  0  0  1  5  0  0  0  2  1  0  1  0  0  0  0  1  3  0  0\n",
      "   1  4  0  0]\n",
      " [ 0  0  1  0  0  0  0  1  1  0  0  0  0  0  0  0  0  0  0  0  0  4  3  0\n",
      "   0  0  1  1  0  1  0  1  0  0  0  1  0  0  5  0  0  0  2  1  1  0  0  0\n",
      "   2  0  3  0  0  0  0  0  0  0  0  0  0  0  0  2  3  1 40  2  0  0  0  0\n",
      "   0  1  5  1  0  0  3  0  3  0  0  0  0  2  0  0  2  0  1  0  0  0  0  0\n",
      "   0  7  1  0]\n",
      " [ 0  0  0  0  1  0  0  1  1  0  1  0  0  0  1  0  0  0  0  0  0  0  0  3\n",
      "   0  1  0  1  1  0  3  0  4  0  0  0  1  0  0  0  0  0  0  0  1  0  0  0\n",
      "   0  1  1  0  0  0  0  0  0  1  0  0  0  1  0  1  0  2  0 41  0  3  0  0\n",
      "   3  5  4  0  3  3  0  0  1  0  0  0  1  0  0  0  0  0  2  3  0  3  0  1\n",
      "   0  1  0  0]\n",
      " [ 0  0  0  1  0  0  0  0  1  0  0  0  4  0  0  0  0  1  0  0  0  1  0  0\n",
      "   0  0  0  0  0  0  0  1  0  2  0  0  0  1  0  0  0  0  0  0  0  0  0  0\n",
      "   0  5  0  0  0  0  0  0  0  0  1  0  5  0  0  0  0  0  1  0 61  1  0  4\n",
      "   0  0  0  0  0  0  0  0  0  0  0  0  0  0  0  0  0  0  3  0  0  0  0  0\n",
      "   0  0  0  0]\n",
      " [ 0  0  0  0  0  0  0  0  0  1  1  0  2  0  0  0  1  0  1  2  0  0  0  4\n",
      "   1  0  1  0  1  0  1  0  0  0  0  0  0  0  0  0  3  0  0  0  1  0  0  0\n",
      "   0  0  1  0  0  0  0  0  1  0  0  0  0  0  0  0  0  0  1  0  2 59  0  1\n",
      "   0  0  0  1  2  0  0  1  0  0  0  0  0  0  0  0  0  0  0  0  0  0  1  1\n",
      "   0  1  1  1]\n",
      " [ 1  0  0  0  0  1  3  0  0  0  2  0  0  1  0  0  1  0  0  0  0  0  0  0\n",
      "   2  0  2  0  1  0  0  0  0  0  2  0  0  0  0  0  0  0  0  0  0  4  0  4\n",
      "   1  0  0  2  0  2  9  0  0  0  0  0  0  3  7  0  0  0  0  0  0  0 47  0\n",
      "   0  0  0  0  0  0  0  0  0  0  2  4  0  0  0  0  0  0  0  0  8  0  0  0\n",
      "   0  0  0  0]\n",
      " [ 0  0  0  0  1  1  0  0  0  0  0  0  4  0  0  0  0  0  0  0  0  0  0 11\n",
      "   0  1  0  0  0  0  2  0  1  0  0  0  0  0  0  0  0  0  0  0  0  0  0  0\n",
      "   0  7  0  0  0  0  0  1  0  0  0  0  9  0  0  0  0  0  0  0  2  0  0 52\n",
      "   0  2  0  0  0  0  0  0  0  0  0  0  0  0  0  0  0  0  0  0  0  0  0  1\n",
      "   0  0  0  0]\n",
      " [ 0  0  0  0  1  1  0  1  0  0  1  0  0  0  0  4  0  0  0  1  0  1  0  0\n",
      "   0  1  1  1  2  1  1  1  1  0  0  0  0  0  4  0  1  0  0  0  1  1  0  0\n",
      "   0  3  0  2  0  0  0  6  1  0  1  1  1  2  0  0  1  0  0  5  0  0  0  0\n",
      "  22  2  2  4  0  2  0  0  0  0  0  0  1  1  0  1  0  2  1  0  0  0  0  5\n",
      "   0  1  0  3]\n",
      " [ 0  1  0  0  0  0  0  0  0  0  1  0  1  0  0  0  0  0  1  0  0  0  0  5\n",
      "   0  0  0  0  0  0 10  0  1  0  1  0  0  0  1  1  1  0  0  0  0  0  0  0\n",
      "   0  3  0  1  0  0  0  1  0  0  0  1  0  0  0  0  0  1  0 12  0  1  0  2\n",
      "   4 41  3  0  1  0  1  0  0  0  0  0  0  0  0  1  0  0  2  1  0  1  0  3\n",
      "   0  1  0  0]\n",
      " [ 0  0  2  1  4  0  1  1  0  0  0  0  1  0  0  1  0  0  0  1  0  2  1  1\n",
      "   1  0  0  4  0  1  0  1  0  0  1  0  0  0  2  0  0  1  4  0  1  0  1  0\n",
      "   0  0  9  0  0  0  0  1  0  0  0  1  0  0  0  6  4  1  0  0  0  0  0  0\n",
      "   0  0 45  2  0  1  2  1  5  0  0  0  0  0  0  0  1  0  0  0  0  0  0  0\n",
      "   0  2  0  0]\n",
      " [ 0  0  0  1  1  0  0  1  0  1  0  0  0  0  0  0  0  0  0  0  0  1  0  0\n",
      "   0  0  0  0  1  0  0  0  1  0  0  0  0  0  1  0  0  1  0  0  1  0  0  0\n",
      "   2  0  0  1  0  0  0  1  0  0  2  0  0  0  0  0  1  0  3  0  0  0  0  0\n",
      "   4  0  1 67  0  0  1  0  3  0  0  0  0  1  0  0  0  0  0  0  0  1  0  0\n",
      "   0  1  0  2]\n",
      " [ 0  0  0  1  0  0  0  0  0  0  0  0  0  0  0  0  1  2  0  0  0  0  0  2\n",
      "   0  0  0  0  1  0  2  0  0  0  0  0  0  0  0  2  0  0  0  0  0  0  0  0\n",
      "   0  4  0  0  0  0  0  0  0  0  0  0  1  0  0  0  0  0  0  0  2  4  0  1\n",
      "   1  1  0  0 75  0  0  0  0  1  0  0  0  2  0  0  0  0  0  0  0  0  0  1\n",
      "   0  0  0  0]\n",
      " [ 0  0  1  0  2  0  0  1  0  0  0  0  0  0  2  0  0  0  2  1  0  0  2  0\n",
      "   1  0  4  1  0  0  0  0  2  1  0  1  0  1  4  0  0  0  3  0  2  1  0  1\n",
      "   0  0  2  3  0  1  0  2  0  1  0  1  1  0  0  3  0  0  0  0  0  0  0  0\n",
      "   2  0  1  0  0 32  7  2  5  0  0  0  1  1  0  0  0  0  0  1  0  1  0  2\n",
      "   0  1  0  0]\n",
      " [ 1  0  2  1  0  0  3  1  1  0  5  1  0  0  0  2  0  0  2  0  0  1  1  0\n",
      "   0  0  3  4  0  0  2  1  0  0  0  1  1  1  1  1  2  0  2  1  3  1  0  0\n",
      "   0  0  1  0  0  0  0  1  0  0  0  0  0  1  0  1  1  0  0  0  0  0  0  0\n",
      "   1  0  0  1  0  1 20  2  0  0  0  0  0  1  1  0  0  2  0  1  0  2  0  0\n",
      "   0  2  1  4]\n",
      " [ 0  0  0  0  0  0  2  8  2  0  0  0  0  0  1  1  0  1  3  1  0  0  0  0\n",
      "   1  0  0  1  1  0  1  1  0  1  1  0  0  0  2  0  0  0  1  1  7  2  1  0\n",
      "   0  0  0  0  0  1  0  0  1  0  0  0  1  0  0  0  2  0  1  2  1  1  0  0\n",
      "   0  0  0  1  0  2  1 37  1  0  0  0  0  0  0  0  0  0  0  0  0  1  0  1\n",
      "   0  1  0  2]\n",
      " [ 0  0  0  2  2  0  0  1  0  0  0  0  0  0  0  0  1  0  1  2  0  2  0  1\n",
      "   0  0  0  1  0  0  0  1  1  0  1  1  0  1  7  0  0  0  2  1  0  0  0  0\n",
      "   0  0  1  1  0  0  1  2  0  0  0  0  0  0  0  1  2  3  0  0  0  0  0  0\n",
      "   2  0  7  0  0  1  1  1 27  0  0  0  0  2  0  0  1  0  1  0  0  1  0  0\n",
      "   2  2  0  1]\n",
      " [ 0  0  0  0  1  1  0  0  1  0  2  0  2 10  0  0  0  1  0  0  0  1  0  0\n",
      "   0  0  0  0  0  0  0  0  1  0  0  0  0  3  0  1  0  1  0  1  0  0  0  0\n",
      "   0  0  0  0  0  0  0  0  0  0  3  0  0  0  0  0  0  0  0  0  0  1  0  0\n",
      "   0  0  0  0  0  0  0  0  0 40  0  0  2  1  0  0  0  7  5  0  0  0  1  0\n",
      "   0  0  0  0]\n",
      " [ 0  1  1  0  1  1  2  0  0  0  0  0  0  0  0  0  0  0  0  0  0  0  0  0\n",
      "   0  0  0  0  0  0  0  0  0  0  0  0  0  0  0  0  0  0  0  0  1  1  0  3\n",
      "   0  1  0  2  0  1  0  0  1  1  0  1  0  0  4  0  0  0  1  0  1  1  1  0\n",
      "   0  0  1  0  0  0  0  0  0  0 62  0  0  0  0  0  0  2  0  0  5  1  0  0\n",
      "   0  0  0  0]\n",
      " [15  0  0  0  0  0  1  1  0  2  3  1  0  0  1  0  2  0  0  0  0  0  1  0\n",
      "   0  0  0  0  0  0  0  0  0  1  0  0  0  0  0  0  0  2  0  0  1  4  0  0\n",
      "   0  0  0  0  0  7  4  0  0  1  0  0  0  1  6  0  0  0  0  0  0  0  3  0\n",
      "   0  0  0  0  0  0  0  0  0  0  0 44  1  0  0  0  0  2  0  0  4  1  0  0\n",
      "   0  0  1  0]\n",
      " [ 0  0  0  0  1  4  0  0  2  2  3  0  0  0  0  2  0  1  0  0  3  0  2  0\n",
      "   1  7  1  0  1  0  0  0  0  1  0  0  0  3  0  0  2  0  0  0  2  2  1  0\n",
      "   0  0  0  2  0  0  1  0  1  0  1  0  0  0  1  0  0  2  0  0  0  0  0  0\n",
      "   0  0  0  1  0  0  1  1  0  3  0  0 24  0  0  3  0  3  1  1  0  0  1  0\n",
      "   0  1  0  0]\n",
      " [ 0  0  0  1  0  0  0  1  0  0  1  0  5  0  0  1  0  1  0  0  0  2  0  0\n",
      "   0  3  1  0  0  0  0  0  0  0  0  0  0  1  0  0  0  2  0  0  0  0  0  0\n",
      "   2  0  0  1  2  0  0  2  0  0  3  2  0  0  0  2  2  0  0  0  0  0  0  0\n",
      "   2  0  1  1  0  0  0  1  0  3  0  0  2 53  0  0  1  1  6  0  0  1  0  0\n",
      "   0  1  0  1]\n",
      " [ 0  0  1  0  0  1  0  0  0  2  0  0  0  0  0  0  3  0  0  0  0  2  5  0\n",
      "   0  0  0  0  3  0  0  0  4  0  0  0  0  0  0  2  0  1  0  0  1  2  0  0\n",
      "   0  0  1  0  1  0  0  0  0  0  1  0  0  2  0  0  2  0  1  0  0  1  0  0\n",
      "   3  0  0  0  0  0  3  0  0  1  0  1  2  0 49  3  0  0  0  0  0  0  2  1\n",
      "   0  0  0  0]\n",
      " [ 0  0  1  1  0  4  0  0  0  1  2  1  5  1  0  0  0  0  0  1  1  1  3  0\n",
      "   0  4  0  0  1  0  0  0  0  0  0  1  0  0  1  0  0  0  0  1  0  0  2  0\n",
      "   1  0  0  0  0  0  0  0  0  0  0  0  0  0  0  0  1  0  0  0  0  1  0  0\n",
      "   0  0  0  0  0  1  0  0  0  2  0  0  1  0  3 46  0  2  2  0  0  0  6  0\n",
      "   0  0  1  0]\n",
      " [ 0  0  3  1  3  0  2  0  0  0  0  0  0  0  0  0  0  0  1  1  0  0  1  0\n",
      "   0  1  0  0  0  0  0  0  1  1  0  1  0  0  4  0  1  0  7  3  1  1  0  0\n",
      "   0  0  2  0  0  0  0  0  0  0  0  1  0  1  0  0  1  0  0  0  0  0  0  0\n",
      "   1  0  0  1  0  0  0  0  1  0  0  0  0  0  0  1 38  2  1  0  0  0  0  0\n",
      "   0  2  1  0]\n",
      " [ 0  0  0  0  1  0  0  2  0  0  2  0  0  1  0  2  0  1  0  1  0  1  0  0\n",
      "   0  0  1  0  0  1  0  0  0  0  0  0  0  1  0  0  0  5  0  0  0  2  0  0\n",
      "   5  0  0  0  0  0  0  1  0  0  1  2  1  0  0  1  0  1  1  0  0  0  0  0\n",
      "   2  0  0  0  0  0  1  0  2  5  0  0  0  3  0  1  1 48  2  0  1  0  0  0\n",
      "   1  0  0  0]\n",
      " [ 0  1  1  0  0  0  0  1  1  0  0  0  3  1  0  0  1  3  4  0  0  0  0  0\n",
      "   0  0  0  1  0  0  0  0  0  0  0  0  0  2  1  1  0  3  1  0  2  0  0  0\n",
      "   0  3  0  0  1  0  0  0  0  0  5  2  0  0  0  0  0  0  1  0  1  0  0  0\n",
      "   1  1  0  0  1  0  1  1  0  4  0  0  1  1  1  1  0 10 33  1  0  0  0  0\n",
      "   0  1  0  0]\n",
      " [ 0  1  0  0  1  1  0  0  0  0  0  0  1  0  0  0  0  0  3  0  0  0  1  0\n",
      "   0  0  1  1  0  0  1  1  0  0  0  0  0  0  0  0  1  0  0  0  2  0  0  0\n",
      "   0  0  0  3  0  0  0  0  0  0  0  0  0  0  0  0  0  0  0  2  0  0  0  0\n",
      "   1  0  1  3  0  2  0  0  0  0  0  0  1  0  0  0  0  0  2 55  0  2  0  0\n",
      "   0  0  0  1]\n",
      " [ 3  1  1  0  0  0  2  0  0  0  0  0  0  0  1  0  1  0  0  1  0  0  0  0\n",
      "   0  0  0  0  0  0  0  0  1  1  0  0  1  0  0  0  0  1  1  0  0  4  0  0\n",
      "   1  0  0  3  0  0 18  0  0  5  0  0  0  3  7  0  0  1  0  0  0  0  4  0\n",
      "   1  0  0  1  0  4  0  0  0  0  1  9  1  0  0  0  0  0  0  0 37  0  0  0\n",
      "   0  1  0  0]\n",
      " [ 0  0  0  0  1  0  3  4  0  0  3  1  0  0  0  0  0  0  1  0  0  1  0  0\n",
      "   0  0  1  2  0  1  2  0  2  0  0  0  0  0  0  0  1  0  3  0  3  0  1  1\n",
      "   0  2  1  0  1  0  0  2  0  0  1  0  0  1  0  2  1  1  0  5  0  1  0  0\n",
      "   5  4  1  0  0  1  1  1  1  0  0  1  0  1  0  0  0  0  1  1  1 28  0  0\n",
      "   1  0  0  1]\n",
      " [ 0  0  0  0  0  0  0  0  0  0  0  0  0  0  0  0  1  0  0  0  0  0  1  0\n",
      "   0  3  0  0  0  0  0  0  0  0  0  0  0  1  0  0  0  0  1  1  0  0  0  0\n",
      "   0  0  0  0  0  0  0  0  0  1  0  0  0  0  1  0  0  1  0  0  0  0  0  1\n",
      "   0  0  0  0  0  0  0  0  0  0  0  0  2  0  0  4  1  1  0  0  0  0 81  0\n",
      "   1  0  0  0]\n",
      " [ 0  0  0  0  0  0  0  0  0  1  0  0  1  0  0  0  0  0  0  0  1  0  0  1\n",
      "   1  0  0  0  0  0  6  0  1  0  0  0  0  0  0  1  1  0  0  0  0  0  0  0\n",
      "   0  1  0  0  0  0  0  6  0  0  0  0  0  0  0  0  0  0  0  6  1  3  0  0\n",
      "   1  5  0  0  0  0  0  0  0  0  0  0  0  0  1  0  0  0  2  0  0  1  0 47\n",
      "   0  0  0  2]\n",
      " [ 0  0  0  0  0  0  0  0  0  0  0  0  0  0  0  0  0  0  0  0  0  0  0  0\n",
      "   0  0  0  0  0  0  0  0  0  7  0  0  0  0  1  0  0  0  0  0  0  0  0  8\n",
      "   0  1  1  0 13  0  0  0  0  0  0  9  1  0  0  1  0  0  0  2  0  0  0  0\n",
      "   0  0  0  0  0  0  0  0  0  0  0  0  0  1  0  0  0  0  0  0  0  0  0  0\n",
      "  60  0  0  0]\n",
      " [ 0  0  0  4  0  0  0  1  1  0  0  0  0  0  1  1  0  0  0  0  0  0  0  1\n",
      "   0  0  0  0  0  1  0  0  0  0  0  0  0  0 10  1  0  1  4  1  1  0  0  0\n",
      "   0  1  0  0  0  0  0  0  0  1  1  1  0  0  0  0  4  2  3  0  0  0  0  0\n",
      "   0  0  1  1  0  0  2  0  2  1  0  0  0  0  1  0  0  0  0  1  0  1  0  1\n",
      "   0 43  0  0]\n",
      " [ 2  0  7  2  0  1  0  0  0  2  0 10  0  0  0  1  0  0  0  0  1  6  1  0\n",
      "   1  0  1  0  0  0  1  0  1  0  1 17  1  0  1  0  1  1  0  5  0  0  6  0\n",
      "   0  0  2  1  0  0  0  1  0  1  0  0  0  0  0  1  2  2  1  0  0  0  1  0\n",
      "   0  0  0  1  0  0  2  1  0  0  0  0  0  0  0  1  0  0  1  0  1  0  0  0\n",
      "   0  0 28  0]\n",
      " [ 0  0  0  0  1  0  0  1  3  0  0  0  0  0  1  1  0  0  2  0  0  0  0  0\n",
      "   1  1  0  0  1  0  1  0  0  1  0  1  0  0  0  1  0  0  0  0  3  1  0  0\n",
      "   1  0  2  0  0  1  1  0  0  1  0  0  0  5  0  0  0  0  0  2  1  1  0  0\n",
      "   0  0  0  2  0  2  6  3  0  0  0  0  0  1  0  0  0  0  0  0  0  1  0  1\n",
      "   0  0  2 35]], shape=(100, 100), dtype=int32)\n"
     ]
    }
   ],
   "source": [
    "import sys\n",
    "import numpy\n",
    "numpy.set_printoptions(threshold=np.inf)\n",
    "print(confuse)"
   ]
  },
  {
   "cell_type": "code",
   "execution_count": null,
   "metadata": {},
   "outputs": [],
   "source": []
  }
 ],
 "metadata": {
  "kernelspec": {
   "display_name": "deepdive",
   "language": "python",
   "name": "deepdive"
  },
  "language_info": {
   "codemirror_mode": {
    "name": "ipython",
    "version": 3
   },
   "file_extension": ".py",
   "mimetype": "text/x-python",
   "name": "python",
   "nbconvert_exporter": "python",
   "pygments_lexer": "ipython3",
   "version": "3.7.7"
  }
 },
 "nbformat": 4,
 "nbformat_minor": 2
}
